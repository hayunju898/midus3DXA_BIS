{
 "cells": [
  {
   "cell_type": "code",
   "execution_count": 1,
   "id": "2777dd15",
   "metadata": {},
   "outputs": [],
   "source": [
    "import pandas as pd\n",
    "import numpy as np\n",
    "import statsmodels.api as sm\n",
    "from sklearn.model_selection import train_test_split\n",
    "from sklearn import metrics\n",
    "from sklearn.preprocessing import StandardScaler \n",
    "from sklearn.model_selection import GridSearchCV\n",
    "from sklearn.linear_model import LassoCV\n",
    "from sklearn.linear_model import Lasso\n",
    "\n",
    "#loading data\n",
    "data = pd.read_csv('/Users/yunjuha/Desktop/MIDUS3/ML Models/Combined_MIDUS3_Refresher.csv')\n",
    "df = pd.DataFrame(data)\n",
    "\n",
    "#TRANSFORMING THE TARGETS\n",
    "df['tjumppownums'] = np.log(df['jumppownums'] + 0.1)\n",
    "df['tCOMB4IMaxGrip'] = np.sqrt(df['COMB4IMaxGrip'])\n",
    "\n",
    "#dropping columns\n",
    "column_to_drop = ['M2ID', 'MIDUSID', 'SAMPLMAJ', 'Height.cm.', 'Weight.kg.', 'Age.years.', 'TBW.litres.', 'ECF.litres.', 'ICF.litres.']\n",
    "df = df.drop(column_to_drop, axis=1)\n",
    "\n",
    "df = df.drop('COMB1PF7A', axis=1)"
   ]
  },
  {
   "cell_type": "code",
   "execution_count": 2,
   "id": "d16e37a9",
   "metadata": {},
   "outputs": [
    {
     "name": "stdout",
     "output_type": "stream",
     "text": [
      "544\n"
     ]
    }
   ],
   "source": [
    "#number of individuals before NA is removed\n",
    "print(len(df))"
   ]
  },
  {
   "cell_type": "code",
   "execution_count": 3,
   "id": "37e0a509",
   "metadata": {},
   "outputs": [
    {
     "name": "stdout",
     "output_type": "stream",
     "text": [
      "490\n"
     ]
    }
   ],
   "source": [
    "#total number of individuals when race is excluded\n",
    "df = df.dropna()\n",
    "print(len(df))"
   ]
  },
  {
   "cell_type": "markdown",
   "id": "9eaacf82",
   "metadata": {},
   "source": [
    "# LASSO"
   ]
  },
  {
   "cell_type": "code",
   "execution_count": 4,
   "id": "9ec9323c",
   "metadata": {},
   "outputs": [],
   "source": [
    "#LASSO Function\n",
    "\n",
    "def train_test_lasso(df, feature_columns, target_column, test_size=0.2, random_state=42):\n",
    "    columns = feature_columns + [target_column]\n",
    "    X = df[columns]\n",
    "    \n",
    "    y = X.pop(target_column)\n",
    "    \n",
    "    #dividing our data into train and test set\n",
    "    X_train, X_test, y_train, y_test = train_test_split(X, y, test_size=test_size, random_state=random_state)\n",
    "\n",
    "    #scaling our features\n",
    "    scaler = StandardScaler()\n",
    "    X_train_scaled = scaler.fit_transform(X_train)\n",
    "    X_test_scaled = scaler.transform(X_test)\n",
    "\n",
    "    lasso_model = Lasso()\n",
    "\n",
    "    #this is our parameter grid for hyperparameter tuning\n",
    "    alphas = np.logspace(-4, 0, 100)\n",
    "    max_iters = [10000, 20000, 30000, 50000]\n",
    "    param_grid = {'alpha': alphas, 'max_iter': max_iters}\n",
    "\n",
    "    #doing grid search with cross-validation to find the best hyperparameters\n",
    "    grid_search = GridSearchCV(estimator=lasso_model, param_grid=param_grid, cv=5, scoring='neg_mean_squared_error')\n",
    "    grid_search.fit(X_train_scaled, y_train)\n",
    "\n",
    "    best_alpha = grid_search.best_params_['alpha']\n",
    "    best_max_iter = grid_search.best_params_['max_iter']\n",
    "\n",
    "    print(\"Best Alpha:\", best_alpha)\n",
    "    print(\"Best Max Iterations:\", best_max_iter)\n",
    "\n",
    "    #running the model using the best hyperparameters\n",
    "    best_lasso_model = Lasso(alpha=best_alpha, max_iter=best_max_iter)\n",
    "    best_lasso_model.fit(X_train_scaled, y_train)\n",
    "    \n",
    "    #evaluation of the model on the TRAINING set\n",
    "    y_pred_train = best_lasso_model.predict(X_train_scaled)\n",
    "    mse_train = metrics.mean_squared_error(y_train, y_pred_train)\n",
    "    r2_train_21 = metrics.r2_score(y_train, y_pred_train)\n",
    "    print(\"\\nTRAINING Set Metrics:\")\n",
    "    print(\"Mean Squared Error:\", mse_train)\n",
    "    print(\"R-squared:\", r2_train_21)\n",
    "\n",
    "    #evaluation of the model on the TESTING set\n",
    "    y_pred = best_lasso_model.predict(X_test_scaled)\n",
    "    mse = metrics.mean_squared_error(y_test, y_pred)\n",
    "    r2_test_21 = metrics.r2_score(y_test, y_pred)\n",
    "    print(\"\\nTEST Set Metrics:\")\n",
    "    print(\"Mean Squared Error:\", mse)\n",
    "    print(\"R-squared:\", r2_test_21)\n",
    "\n",
    "    #feature importance (coefficients) from the Lasso model\n",
    "    feature_importance = best_lasso_model.coef_\n",
    "    importance_df = pd.DataFrame({'Feature': X.columns, 'Importance': feature_importance})\n",
    "\n",
    "    #sorting the features based on their importance (absolute value of coefficients) in descending order\n",
    "    importance_df = importance_df.reindex(importance_df['Importance'].abs().sort_values(ascending=False).index)\n",
    "    \n",
    "    print(importance_df)"
   ]
  },
  {
   "cell_type": "code",
   "execution_count": 5,
   "id": "df1663b0",
   "metadata": {
    "scrolled": false
   },
   "outputs": [
    {
     "name": "stdout",
     "output_type": "stream",
     "text": [
      "LASSO: DXA Model, Handgrip Strength (Arms)\n"
     ]
    },
    {
     "name": "stdout",
     "output_type": "stream",
     "text": [
      "Best Alpha: 0.015199110829529346\n",
      "Best Max Iterations: 10000\n",
      "\n",
      "TRAINING Set Metrics:\n",
      "Mean Squared Error: 0.5191272844724935\n",
      "R-squared: 0.5313110813886949\n",
      "\n",
      "TEST Set Metrics:\n",
      "Mean Squared Error: 0.5328850007907258\n",
      "R-squared: 0.38948010795752863\n",
      "       Feature  Importance\n",
      "0    COMB4DALM    0.248654\n",
      "1    COMB4DABM    0.212920\n",
      "2    COMB4DAFM   -0.186978\n",
      "5     COMB4P1A    0.171863\n",
      "3   COMB1PRSEX   -0.144917\n",
      "4   COMB1PRAGE   -0.078825\n",
      "6  COMB4DLR3MD   -0.000000\n"
     ]
    }
   ],
   "source": [
    "#DXA: Handgrip Strength (ARMS)\n",
    "\n",
    "print(\"LASSO: DXA Model, Handgrip Strength (Arms)\")\n",
    "\n",
    "train_test_lasso(df, ['COMB4DALM', 'COMB4DABM', 'COMB4DAFM', 'COMB1PRSEX', 'COMB1PRAGE', 'COMB4P1A', 'COMB4DLR3MD'], 'tCOMB4IMaxGrip')"
   ]
  },
  {
   "cell_type": "code",
   "execution_count": 6,
   "id": "dd0f04bb",
   "metadata": {
    "scrolled": true
   },
   "outputs": [
    {
     "name": "stdout",
     "output_type": "stream",
     "text": [
      "LASSO: DXA Model, Handgrip Strength (TB)\n"
     ]
    },
    {
     "name": "stdout",
     "output_type": "stream",
     "text": [
      "Best Alpha: 0.0001\n",
      "Best Max Iterations: 10000\n",
      "\n",
      "TRAINING Set Metrics:\n",
      "Mean Squared Error: 0.5320212590985757\n",
      "R-squared: 0.5196698843164953\n",
      "\n",
      "TEST Set Metrics:\n",
      "Mean Squared Error: 0.5074008887814344\n",
      "R-squared: 0.4186769464679466\n",
      "         Feature  Importance\n",
      "3     COMB1PRSEX   -0.237801\n",
      "2     COMB4DTBFM   -0.229405\n",
      "0      COMB4IALM    0.228153\n",
      "1     COMB4DTBBM    0.216528\n",
      "5       COMB4P1A    0.166526\n",
      "8  COMB4DLSL14MD   -0.093568\n",
      "4     COMB1PRAGE   -0.072119\n",
      "6    COMB4DLR3MD    0.064239\n",
      "7    COMB4DLFNMD   -0.050742\n"
     ]
    }
   ],
   "source": [
    "#DXA: Handgrip Strength (TOTAL BODY)\n",
    "\n",
    "print(\"LASSO: DXA Model, Handgrip Strength (TB)\")\n",
    "\n",
    "train_test_lasso(df, ['COMB4IALM', 'COMB4DTBBM', 'COMB4DTBFM', 'COMB1PRSEX', 'COMB1PRAGE', 'COMB4P1A', 'COMB4DLR3MD', 'COMB4DLFNMD', 'COMB4DLSL14MD'], 'tCOMB4IMaxGrip')"
   ]
  },
  {
   "cell_type": "code",
   "execution_count": 7,
   "id": "908965e8",
   "metadata": {
    "scrolled": true
   },
   "outputs": [
    {
     "name": "stdout",
     "output_type": "stream",
     "text": [
      "LASSO: DXA Model, Jump Power (Legs)\n"
     ]
    },
    {
     "name": "stdout",
     "output_type": "stream",
     "text": [
      "Best Alpha: 0.001788649529057435\n",
      "Best Max Iterations: 10000\n",
      "\n",
      "TRAINING Set Metrics:\n",
      "Mean Squared Error: 0.04145664394638318\n",
      "R-squared: 0.6838849167340781\n",
      "\n",
      "TEST Set Metrics:\n",
      "Mean Squared Error: 0.026062174975906488\n",
      "R-squared: 0.7993335601118498\n",
      "       Feature  Importance\n",
      "0    COMB4ILLM    0.169593\n",
      "4   COMB1PRAGE   -0.162373\n",
      "2    COMB4DLFM   -0.074821\n",
      "3   COMB1PRSEX   -0.050973\n",
      "1    COMB4DLBM    0.041781\n",
      "5     COMB4P1A    0.002195\n",
      "6  COMB4DLFNMD    0.000000\n"
     ]
    }
   ],
   "source": [
    "#DXA: Jump Power (LEGS)\n",
    "\n",
    "print(\"LASSO: DXA Model, Jump Power (Legs)\")\n",
    "\n",
    "train_test_lasso(df, ['COMB4ILLM', 'COMB4DLBM', 'COMB4DLFM', 'COMB1PRSEX', 'COMB1PRAGE', 'COMB4P1A', 'COMB4DLFNMD'], 'tjumppownums')"
   ]
  },
  {
   "cell_type": "code",
   "execution_count": 8,
   "id": "215a6aa6",
   "metadata": {
    "scrolled": true
   },
   "outputs": [
    {
     "name": "stdout",
     "output_type": "stream",
     "text": [
      "LASSO: DXA Model, Jump Power (TB)\n"
     ]
    },
    {
     "name": "stdout",
     "output_type": "stream",
     "text": [
      "Best Alpha: 0.0016297508346206436\n",
      "Best Max Iterations: 10000\n",
      "\n",
      "TRAINING Set Metrics:\n",
      "Mean Squared Error: 0.03877730002354542\n",
      "R-squared: 0.7043154423782021\n",
      "\n",
      "TEST Set Metrics:\n",
      "Mean Squared Error: 0.02661177762993496\n",
      "R-squared: 0.7951018792164937\n",
      "         Feature  Importance\n",
      "0      COMB4IALM    0.168560\n",
      "4     COMB1PRAGE   -0.143604\n",
      "1     COMB4DTBBM    0.098377\n",
      "2     COMB4DTBFM   -0.064899\n",
      "8  COMB4DLSL14MD   -0.060912\n",
      "3     COMB1PRSEX   -0.030647\n",
      "6    COMB4DLR3MD    0.018565\n",
      "5       COMB4P1A   -0.003897\n",
      "7    COMB4DLFNMD    0.002343\n"
     ]
    }
   ],
   "source": [
    "#DXA: Jump Power (TOTAL BODY)\n",
    "\n",
    "print(\"LASSO: DXA Model, Jump Power (TB)\")\n",
    "\n",
    "train_test_lasso(df, ['COMB4IALM', 'COMB4DTBBM', 'COMB4DTBFM', 'COMB1PRSEX', 'COMB1PRAGE', 'COMB4P1A', 'COMB4DLR3MD', 'COMB4DLFNMD', 'COMB4DLSL14MD'], 'tjumppownums')"
   ]
  },
  {
   "cell_type": "code",
   "execution_count": 9,
   "id": "84b4f88c",
   "metadata": {
    "scrolled": true
   },
   "outputs": [
    {
     "name": "stdout",
     "output_type": "stream",
     "text": [
      "LASSO: BIS Model, Handgrip Strength\n",
      "Best Alpha: 0.02915053062825179\n",
      "Best Max Iterations: 10000\n",
      "\n",
      "TRAINING Set Metrics:\n",
      "Mean Squared Error: 0.5087350214301093\n",
      "R-squared: 0.5406936329766134\n",
      "\n",
      "TEST Set Metrics:\n",
      "Mean Squared Error: 0.4922774503421927\n",
      "R-squared: 0.4360036867393675\n",
      "         Feature  Importance\n",
      "12      COMB4P1A    0.348078\n",
      "10    COMB1PRSEX   -0.251379\n",
      "7   COMB4IRESINC   -0.241995\n",
      "3     COMB4DTBFM   -0.143444\n",
      "8    COMB4IFCHAR   -0.047303\n",
      "11    COMB1PRAGE   -0.022915\n",
      "0     COMB4IMECF    0.000000\n",
      "1     COMB4IMICF    0.000000\n",
      "2     COMB4IMFFM    0.000000\n",
      "4     COMB4IRES0    0.000000\n",
      "5   COMB4IRESINF   -0.000000\n",
      "6   COMB4IRESEXC    0.000000\n",
      "9     COMB4IMCAP    0.000000\n"
     ]
    }
   ],
   "source": [
    "#BIS: Handgrip Strength\n",
    "\n",
    "print(\"LASSO: BIS Model, Handgrip Strength\")\n",
    "\n",
    "train_test_lasso(df, ['COMB4IMECF', 'COMB4IMICF', 'COMB4IMFFM', 'COMB4DTBFM', 'COMB4IRES0', 'COMB4IRESINF', 'COMB4IRESEXC', 'COMB4IRESINC', 'COMB4IFCHAR', 'COMB4IMCAP', 'COMB1PRSEX', 'COMB1PRAGE', 'COMB4P1A'], 'tCOMB4IMaxGrip')"
   ]
  },
  {
   "cell_type": "code",
   "execution_count": 10,
   "id": "2e7bf5ef",
   "metadata": {
    "scrolled": true
   },
   "outputs": [
    {
     "name": "stdout",
     "output_type": "stream",
     "text": [
      "LASSO: BIS Model, Jump Power\n",
      "Best Alpha: 0.0001\n",
      "Best Max Iterations: 10000\n",
      "\n",
      "TRAINING Set Metrics:\n",
      "Mean Squared Error: 0.03534657409215116\n",
      "R-squared: 0.7304754039724852\n",
      "\n",
      "TEST Set Metrics:\n",
      "Mean Squared Error: 0.03949265393517273\n",
      "R-squared: 0.6959252144446084\n",
      "         Feature  Importance\n",
      "5   COMB4IRESINF    1.163917\n",
      "6   COMB4IRESEXC   -0.848665\n",
      "1     COMB4IMICF    0.425688\n",
      "7   COMB4IRESINC   -0.380461\n",
      "0     COMB4IMECF   -0.336335\n",
      "10    COMB1PRSEX   -0.198819\n",
      "11    COMB1PRAGE   -0.130957\n",
      "8    COMB4IFCHAR   -0.072360\n",
      "9     COMB4IMCAP   -0.062963\n",
      "12      COMB4P1A    0.042180\n",
      "3     COMB4DTBFM   -0.032782\n",
      "2     COMB4IMFFM    0.000000\n",
      "4     COMB4IRES0   -0.000000\n"
     ]
    }
   ],
   "source": [
    "#BIS: Jump Power\n",
    "\n",
    "print(\"LASSO: BIS Model, Jump Power\")\n",
    "\n",
    "train_test_lasso(df, ['COMB4IMECF', 'COMB4IMICF', 'COMB4IMFFM', 'COMB4DTBFM', 'COMB4IRES0', 'COMB4IRESINF', 'COMB4IRESEXC', 'COMB4IRESINC', 'COMB4IFCHAR', 'COMB4IMCAP', 'COMB1PRSEX', 'COMB1PRAGE', 'COMB4P1A'], 'tjumppownums')"
   ]
  },
  {
   "cell_type": "code",
   "execution_count": 11,
   "id": "1c0e012d",
   "metadata": {
    "scrolled": true
   },
   "outputs": [
    {
     "name": "stdout",
     "output_type": "stream",
     "text": [
      "LASSO: Combo Models, Handgrip Strength (Arms)\n",
      "Best Alpha: 0.026560877829466867\n",
      "Best Max Iterations: 10000\n",
      "\n",
      "TRAINING Set Metrics:\n",
      "Mean Squared Error: 0.49778581042646447\n",
      "R-squared: 0.550579019505969\n",
      "\n",
      "TEST Set Metrics:\n",
      "Mean Squared Error: 0.5100735511676733\n",
      "R-squared: 0.4156149095386068\n",
      "         Feature  Importance\n",
      "5       COMB4P1A    0.255045\n",
      "1      COMB4DABM    0.218064\n",
      "14  COMB4IRESINC   -0.205764\n",
      "3     COMB1PRSEX   -0.150038\n",
      "10    COMB4DTBFM   -0.096223\n",
      "2      COMB4DAFM   -0.068263\n",
      "15   COMB4IFCHAR   -0.045881\n",
      "4     COMB1PRAGE   -0.033069\n",
      "0      COMB4DALM    0.000000\n",
      "12  COMB4IRESINF    0.000000\n",
      "13  COMB4IRESEXC    0.000000\n",
      "8     COMB4IMICF    0.000000\n",
      "11    COMB4IRES0    0.000000\n",
      "9     COMB4IMFFM    0.000000\n",
      "7     COMB4IMECF    0.000000\n",
      "6    COMB4DLR3MD   -0.000000\n",
      "16    COMB4IMCAP    0.000000\n"
     ]
    }
   ],
   "source": [
    "#COMBO: Handgrip Strength (ARMS)\n",
    "\n",
    "print(\"LASSO: Combo Models, Handgrip Strength (Arms)\")\n",
    "\n",
    "train_test_lasso(df, ['COMB4DALM', 'COMB4DABM', 'COMB4DAFM', 'COMB1PRSEX', 'COMB1PRAGE', 'COMB4P1A', 'COMB4DLR3MD', 'COMB4IMECF', 'COMB4IMICF', 'COMB4IMFFM', 'COMB4DTBFM', 'COMB4IRES0', 'COMB4IRESINF', 'COMB4IRESEXC', 'COMB4IRESINC', 'COMB4IFCHAR', 'COMB4IMCAP'], 'tCOMB4IMaxGrip')"
   ]
  },
  {
   "cell_type": "code",
   "execution_count": 12,
   "id": "1b093a10",
   "metadata": {
    "scrolled": true
   },
   "outputs": [
    {
     "name": "stdout",
     "output_type": "stream",
     "text": [
      "LASSO: Combo Models, Handgrip Strength (TB)\n",
      "Best Alpha: 0.03199267137797385\n",
      "Best Max Iterations: 10000\n",
      "\n",
      "TRAINING Set Metrics:\n",
      "Mean Squared Error: 0.5090690038938129\n",
      "R-squared: 0.5403921002226426\n",
      "\n",
      "TEST Set Metrics:\n",
      "Mean Squared Error: 0.4901736478232628\n",
      "R-squared: 0.4384139878077592\n",
      "          Feature  Importance\n",
      "5        COMB4P1A    0.343529\n",
      "3      COMB1PRSEX   -0.245836\n",
      "16   COMB4IRESINC   -0.238029\n",
      "2      COMB4DTBFM   -0.122377\n",
      "17    COMB4IFCHAR   -0.044877\n",
      "12     COMB4DTBFM   -0.020653\n",
      "4      COMB1PRAGE   -0.018406\n",
      "6     COMB4DLR3MD    0.014218\n",
      "0       COMB4IALM    0.000000\n",
      "15   COMB4IRESEXC    0.000000\n",
      "14   COMB4IRESINF   -0.000000\n",
      "13     COMB4IRES0    0.000000\n",
      "9      COMB4IMECF    0.000000\n",
      "11     COMB4IMFFM    0.000000\n",
      "10     COMB4IMICF    0.000000\n",
      "1      COMB4DTBBM    0.000000\n",
      "8   COMB4DLSL14MD   -0.000000\n",
      "7     COMB4DLFNMD   -0.000000\n",
      "18     COMB4IMCAP    0.000000\n"
     ]
    }
   ],
   "source": [
    "#COMBO: Handgrip Strength (TOTAL BODY)\n",
    "\n",
    "print(\"LASSO: Combo Models, Handgrip Strength (TB)\")\n",
    "\n",
    "train_test_lasso(df, ['COMB4IALM', 'COMB4DTBBM', 'COMB4DTBFM', 'COMB1PRSEX', 'COMB1PRAGE', 'COMB4P1A', 'COMB4DLR3MD', 'COMB4DLFNMD', 'COMB4DLSL14MD', 'COMB4IMECF', 'COMB4IMICF','COMB4IMFFM', 'COMB4DTBFM', 'COMB4IRES0', 'COMB4IRESINF', 'COMB4IRESEXC', 'COMB4IRESINC', 'COMB4IFCHAR', 'COMB4IMCAP'], 'tCOMB4IMaxGrip')"
   ]
  },
  {
   "cell_type": "code",
   "execution_count": 13,
   "id": "a60d5596",
   "metadata": {
    "scrolled": true
   },
   "outputs": [
    {
     "name": "stdout",
     "output_type": "stream",
     "text": [
      "LASSO: Combo Models, Jump Power (Legs)\n",
      "Best Alpha: 0.0001\n",
      "Best Max Iterations: 10000\n",
      "\n",
      "TRAINING Set Metrics:\n",
      "Mean Squared Error: 0.03323145456494629\n",
      "R-squared: 0.7466036073631044\n",
      "\n",
      "TEST Set Metrics:\n",
      "Mean Squared Error: 0.035780175946864744\n",
      "R-squared: 0.7245095417989287\n",
      "         Feature  Importance\n",
      "12  COMB4IRESINF    1.276814\n",
      "13  COMB4IRESEXC   -0.906481\n",
      "14  COMB4IRESINC   -0.443315\n",
      "7     COMB4IMECF   -0.337111\n",
      "8     COMB4IMICF    0.261308\n",
      "3     COMB1PRSEX   -0.147421\n",
      "0      COMB4ILLM    0.138329\n",
      "4     COMB1PRAGE   -0.120048\n",
      "2      COMB4DLFM   -0.049154\n",
      "5       COMB4P1A    0.038952\n",
      "15   COMB4IFCHAR   -0.033114\n",
      "1      COMB4DLBM    0.033018\n",
      "10    COMB4DTBFM    0.009999\n",
      "6    COMB4DLFNMD    0.005253\n",
      "16    COMB4IMCAP   -0.001153\n",
      "9     COMB4IMFFM    0.000000\n",
      "11    COMB4IRES0   -0.000000\n"
     ]
    }
   ],
   "source": [
    "#COMBO: Jump Power (LEGS)\n",
    "\n",
    "print(\"LASSO: Combo Models, Jump Power (Legs)\")\n",
    "\n",
    "train_test_lasso(df, ['COMB4ILLM', 'COMB4DLBM', 'COMB4DLFM', 'COMB1PRSEX', 'COMB1PRAGE', 'COMB4P1A', 'COMB4DLFNMD', 'COMB4IMECF', 'COMB4IMICF', 'COMB4IMFFM', 'COMB4DTBFM', 'COMB4IRES0', 'COMB4IRESINF', 'COMB4IRESEXC', 'COMB4IRESINC', 'COMB4IFCHAR', 'COMB4IMCAP'], 'tjumppownums')"
   ]
  },
  {
   "cell_type": "code",
   "execution_count": 14,
   "id": "06f1e3fa",
   "metadata": {
    "scrolled": true
   },
   "outputs": [
    {
     "name": "stdout",
     "output_type": "stream",
     "text": [
      "LASSO: Combo Models, Jump Power (TB)\n",
      "Best Alpha: 0.0001\n",
      "Best Max Iterations: 10000\n",
      "\n",
      "TRAINING Set Metrics:\n",
      "Mean Squared Error: 0.03166965347556992\n",
      "R-squared: 0.7585126485785858\n",
      "\n",
      "TEST Set Metrics:\n",
      "Mean Squared Error: 0.03360650480286075\n",
      "R-squared: 0.741245783127909\n",
      "          Feature  Importance\n",
      "14   COMB4IRESINF    1.215816\n",
      "15   COMB4IRESEXC   -0.862289\n",
      "16   COMB4IRESINC   -0.434876\n",
      "9      COMB4IMECF   -0.314897\n",
      "10     COMB4IMICF    0.217861\n",
      "0       COMB4IALM    0.143704\n",
      "3      COMB1PRSEX   -0.123538\n",
      "1      COMB4DTBBM    0.116239\n",
      "4      COMB1PRAGE   -0.111376\n",
      "8   COMB4DLSL14MD   -0.055176\n",
      "17    COMB4IFCHAR   -0.027319\n",
      "2      COMB4DTBFM   -0.025941\n",
      "5        COMB4P1A    0.022783\n",
      "7     COMB4DLFNMD    0.005134\n",
      "6     COMB4DLR3MD   -0.004926\n",
      "12     COMB4DTBFM   -0.000628\n",
      "11     COMB4IMFFM    0.000000\n",
      "13     COMB4IRES0   -0.000000\n",
      "18     COMB4IMCAP    0.000000\n"
     ]
    }
   ],
   "source": [
    "#COMBO: Jump Power (TOTAL BODY)\n",
    "\n",
    "print(\"LASSO: Combo Models, Jump Power (TB)\")\n",
    "\n",
    "train_test_lasso(df, ['COMB4IALM', 'COMB4DTBBM', 'COMB4DTBFM', 'COMB1PRSEX', 'COMB1PRAGE', 'COMB4P1A', 'COMB4DLR3MD', 'COMB4DLFNMD', 'COMB4DLSL14MD', 'COMB4IMECF', 'COMB4IMICF','COMB4IMFFM', 'COMB4DTBFM', 'COMB4IRES0', 'COMB4IRESINF', 'COMB4IRESEXC', 'COMB4IRESINC', 'COMB4IFCHAR', 'COMB4IMCAP'], 'tjumppownums')"
   ]
  }
 ],
 "metadata": {
  "kernelspec": {
   "display_name": "Python 3 (ipykernel)",
   "language": "python",
   "name": "python3"
  },
  "language_info": {
   "codemirror_mode": {
    "name": "ipython",
    "version": 3
   },
   "file_extension": ".py",
   "mimetype": "text/x-python",
   "name": "python",
   "nbconvert_exporter": "python",
   "pygments_lexer": "ipython3",
   "version": "3.10.8"
  }
 },
 "nbformat": 4,
 "nbformat_minor": 5
}
