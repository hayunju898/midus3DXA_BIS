{
 "cells": [
  {
   "cell_type": "code",
   "execution_count": 7,
   "id": "2777dd15",
   "metadata": {},
   "outputs": [],
   "source": [
    "import pandas as pd\n",
    "import numpy as np\n",
    "import statsmodels.api as sm\n",
    "from sklearn.model_selection import train_test_split\n",
    "from sklearn import metrics\n",
    "from sklearn.preprocessing import StandardScaler \n",
    "from sklearn.model_selection import GridSearchCV\n",
    "from sklearn.linear_model import LassoCV\n",
    "from sklearn.linear_model import Lasso\n",
    "\n",
    "#loading data\n",
    "data = pd.read_csv('/Users/yunjuha/Desktop/MIDUS3/ML Models/Combined_MIDUS3_Refresher.csv')\n",
    "df = pd.DataFrame(data)\n",
    "\n",
    "#TRANSFORMING THE TARGETS\n",
    "df['tjumppownums'] = np.log(df['jumppownums'] + 0.1)\n",
    "df['tCOMB4IMaxGrip'] = np.sqrt(df['COMB4IMaxGrip'])\n",
    "\n",
    "#dropping columns\n",
    "column_to_drop = ['M2ID', 'MIDUSID', 'SAMPLMAJ', 'Height.cm.', 'Weight.kg.', 'Age.years.', 'TBW.litres.', 'ECF.litres.', 'ICF.litres.']\n",
    "df = df.drop(column_to_drop, axis=1)"
   ]
  },
  {
   "cell_type": "code",
   "execution_count": 8,
   "id": "d16e37a9",
   "metadata": {},
   "outputs": [
    {
     "name": "stdout",
     "output_type": "stream",
     "text": [
      "544\n"
     ]
    }
   ],
   "source": [
    "#number of individuals before NA is removed\n",
    "print(len(df))"
   ]
  },
  {
   "cell_type": "code",
   "execution_count": 9,
   "id": "37e0a509",
   "metadata": {},
   "outputs": [
    {
     "name": "stdout",
     "output_type": "stream",
     "text": [
      "422\n"
     ]
    }
   ],
   "source": [
    "#this is the number of people we have when race IS INCLUDED\n",
    "df = df.dropna()\n",
    "print(len(df))"
   ]
  },
  {
   "cell_type": "code",
   "execution_count": 10,
   "id": "fd450ab9",
   "metadata": {},
   "outputs": [
    {
     "name": "stdout",
     "output_type": "stream",
     "text": [
      "413\n"
     ]
    }
   ],
   "source": [
    "#counting the total number of individuals who are white or black (ignore the other races for now...)\n",
    "race = (df['COMB1PF7A'] == 1) | (df['COMB1PF7A'] == 2)\n",
    "df = df[race]\n",
    "\n",
    "print(len(df))"
   ]
  },
  {
   "cell_type": "markdown",
   "id": "9765cd76",
   "metadata": {},
   "source": [
    "# LASSO"
   ]
  },
  {
   "cell_type": "code",
   "execution_count": 11,
   "id": "bc3e576c",
   "metadata": {},
   "outputs": [],
   "source": [
    "#LASSO Function\n",
    "\n",
    "def train_test_lasso(df, feature_columns, target_column, test_size=0.2, random_state=42):\n",
    "    columns = feature_columns + [target_column]\n",
    "    X = df[columns]\n",
    "    \n",
    "    y = X.pop(target_column)\n",
    "    \n",
    "    #dividing our data into train and test set\n",
    "    X_train, X_test, y_train, y_test = train_test_split(X, y, test_size=test_size, random_state=random_state)\n",
    "\n",
    "    #scaling our features\n",
    "    scaler = StandardScaler()\n",
    "    X_train_scaled = scaler.fit_transform(X_train)\n",
    "    X_test_scaled = scaler.transform(X_test)\n",
    "\n",
    "    lasso_model = Lasso()\n",
    "\n",
    "    #this is our parameter grid for hyperparameter tuning\n",
    "    alphas = np.logspace(-4, 0, 100)\n",
    "    max_iters = [10000, 20000, 30000, 50000]\n",
    "    param_grid = {'alpha': alphas, 'max_iter': max_iters}\n",
    "\n",
    "    #doing grid search with cross-validation to find the best hyperparameters\n",
    "    grid_search = GridSearchCV(estimator=lasso_model, param_grid=param_grid, cv=5, scoring='neg_mean_squared_error')\n",
    "    grid_search.fit(X_train_scaled, y_train)\n",
    "\n",
    "    best_alpha = grid_search.best_params_['alpha']\n",
    "    best_max_iter = grid_search.best_params_['max_iter']\n",
    "\n",
    "    print(\"Best Alpha:\", best_alpha)\n",
    "    print(\"Best Max Iterations:\", best_max_iter)\n",
    "\n",
    "    #running the model using the best hyperparameters\n",
    "    best_lasso_model = Lasso(alpha=best_alpha, max_iter=best_max_iter)\n",
    "    best_lasso_model.fit(X_train_scaled, y_train)\n",
    "    \n",
    "    #evaluation of the model on the TRAINING set\n",
    "    y_pred_train = best_lasso_model.predict(X_train_scaled)\n",
    "    mse_train = metrics.mean_squared_error(y_train, y_pred_train)\n",
    "    r2_train_21 = metrics.r2_score(y_train, y_pred_train)\n",
    "    print(\"\\nTRAINING Set Metrics:\")\n",
    "    print(\"Mean Squared Error:\", mse_train)\n",
    "    print(\"R-squared:\", r2_train_21)\n",
    "\n",
    "    #evaluation of the model on the TESTING set\n",
    "    y_pred = best_lasso_model.predict(X_test_scaled)\n",
    "    mse = metrics.mean_squared_error(y_test, y_pred)\n",
    "    r2_test_21 = metrics.r2_score(y_test, y_pred)\n",
    "    print(\"\\nTEST Set Metrics:\")\n",
    "    print(\"Mean Squared Error:\", mse)\n",
    "    print(\"R-squared:\", r2_test_21)\n",
    "\n",
    "    #feature importance (coefficients) from the Lasso model\n",
    "    feature_importance = best_lasso_model.coef_\n",
    "    importance_df = pd.DataFrame({'Feature': X.columns, 'Importance': feature_importance})\n",
    "\n",
    "    #sorting the features based on their importance (absolute value of coefficients) in descending order\n",
    "    importance_df = importance_df.reindex(importance_df['Importance'].abs().sort_values(ascending=False).index)\n",
    "    \n",
    "    print(importance_df)\n",
    "    \n",
    "    #count the frequencies in training data\n",
    "    white_train_counts = X_train[X_train['COMB1PF7A'] == 1]['COMB1PF7A'].value_counts()\n",
    "    white_test_counts = X_test[X_test['COMB1PF7A'] == 1]['COMB1PF7A'].value_counts()\n",
    "\n",
    "    black_train_counts = X_train[X_train['COMB1PF7A'] == 2]['COMB1PF7A'].value_counts()\n",
    "    black_test_counts = X_test[X_test['COMB1PF7A'] == 2]['COMB1PF7A'].value_counts()\n",
    "    \n",
    "    print(\"white train frequency: \", white_train_counts.values[0])\n",
    "    print(\"white test frequency: \", white_test_counts.values[0], \"\\n\")\n",
    "    \n",
    "    print(\"black train frequency: \", black_train_counts.values[0])\n",
    "    print(\"black test frequency: \", black_test_counts.values[0])"
   ]
  },
  {
   "cell_type": "code",
   "execution_count": 12,
   "id": "e7f68093",
   "metadata": {
    "scrolled": false
   },
   "outputs": [
    {
     "name": "stdout",
     "output_type": "stream",
     "text": [
      "LASSO: DXA Model, Handgrip Strength (Arms)\n"
     ]
    },
    {
     "name": "stdout",
     "output_type": "stream",
     "text": [
      "Best Alpha: 0.007924828983539177\n",
      "Best Max Iterations: 10000\n",
      "\n",
      "TRAINING Set Metrics:\n",
      "Mean Squared Error: 0.4989804025875539\n",
      "R-squared: 0.5176362481179676\n",
      "\n",
      "TEST Set Metrics:\n",
      "Mean Squared Error: 0.392553210019003\n",
      "R-squared: 0.5890486351395714\n",
      "       Feature  Importance\n",
      "4   COMB1PRSEX   -0.246612\n",
      "1    COMB4DALM    0.208893\n",
      "6     COMB4P1A    0.164981\n",
      "0    COMB1PF7A   -0.140794\n",
      "3    COMB4DAFM   -0.130594\n",
      "2    COMB4DABM    0.115591\n",
      "5   COMB1PRAGE   -0.093575\n",
      "7  COMB4DLR3MD   -0.000000\n",
      "white train frequency:  251\n",
      "white test frequency:  62 \n",
      "\n",
      "black train frequency:  79\n",
      "black test frequency:  21\n"
     ]
    }
   ],
   "source": [
    "#DXA: Handgrip Strength (ARMS)\n",
    "\n",
    "print(\"LASSO: DXA Model, Handgrip Strength (Arms)\")\n",
    "\n",
    "train_test_lasso(df, ['COMB1PF7A', 'COMB4DALM', 'COMB4DABM', 'COMB4DAFM', 'COMB1PRSEX', 'COMB1PRAGE', 'COMB4P1A', 'COMB4DLR3MD'], 'tCOMB4IMaxGrip')"
   ]
  },
  {
   "cell_type": "code",
   "execution_count": 13,
   "id": "7869a9a5",
   "metadata": {
    "scrolled": true
   },
   "outputs": [
    {
     "name": "stdout",
     "output_type": "stream",
     "text": [
      "LASSO: DXA Model, Handgrip Strength (TB)\n",
      "Best Alpha: 0.010476157527896652\n",
      "Best Max Iterations: 10000\n",
      "\n",
      "TRAINING Set Metrics:\n",
      "Mean Squared Error: 0.4974089369279115\n",
      "R-squared: 0.519155382071141\n",
      "\n",
      "TEST Set Metrics:\n",
      "Mean Squared Error: 0.4171160566709989\n",
      "R-squared: 0.5633345788056379\n",
      "         Feature  Importance\n",
      "4     COMB1PRSEX   -0.308693\n",
      "1      COMB4IALM    0.235871\n",
      "3     COMB4DTBFM   -0.192075\n",
      "6       COMB4P1A    0.191922\n",
      "0      COMB1PF7A   -0.128019\n",
      "5     COMB1PRAGE   -0.067233\n",
      "7    COMB4DLR3MD    0.047280\n",
      "9  COMB4DLSL14MD   -0.021209\n",
      "8    COMB4DLFNMD   -0.002756\n",
      "2     COMB4DTBBM   -0.000000\n",
      "white train frequency:  251\n",
      "white test frequency:  62 \n",
      "\n",
      "black train frequency:  79\n",
      "black test frequency:  21\n"
     ]
    }
   ],
   "source": [
    "#DXA: Handgrip Strength (TOTAL BODY)\n",
    "\n",
    "print(\"LASSO: DXA Model, Handgrip Strength (TB)\")\n",
    "\n",
    "train_test_lasso(df, ['COMB1PF7A', 'COMB4IALM', 'COMB4DTBBM', 'COMB4DTBFM', 'COMB1PRSEX', 'COMB1PRAGE', 'COMB4P1A', 'COMB4DLR3MD', 'COMB4DLFNMD', 'COMB4DLSL14MD'], 'tCOMB4IMaxGrip')"
   ]
  },
  {
   "cell_type": "code",
   "execution_count": 14,
   "id": "c491f78d",
   "metadata": {
    "scrolled": true
   },
   "outputs": [
    {
     "name": "stdout",
     "output_type": "stream",
     "text": [
      "LASSO: DXA Model, Jump Power (Legs)\n"
     ]
    },
    {
     "name": "stdout",
     "output_type": "stream",
     "text": [
      "Best Alpha: 0.002364489412645407\n",
      "Best Max Iterations: 10000\n",
      "\n",
      "TRAINING Set Metrics:\n",
      "Mean Squared Error: 0.033262895076554326\n",
      "R-squared: 0.7416009050391352\n",
      "\n",
      "TEST Set Metrics:\n",
      "Mean Squared Error: 0.03162560155841644\n",
      "R-squared: 0.7680568928239696\n",
      "       Feature  Importance\n",
      "1    COMB4ILLM    0.207423\n",
      "5   COMB1PRAGE   -0.155741\n",
      "3    COMB4DLFM   -0.078487\n",
      "2    COMB4DLBM    0.033405\n",
      "4   COMB1PRSEX   -0.017261\n",
      "6     COMB4P1A    0.009448\n",
      "0    COMB1PF7A   -0.001918\n",
      "7  COMB4DLFNMD    0.000000\n",
      "white train frequency:  251\n",
      "white test frequency:  62 \n",
      "\n",
      "black train frequency:  79\n",
      "black test frequency:  21\n"
     ]
    }
   ],
   "source": [
    "#DXA: Jump Power (LEGS)\n",
    "\n",
    "print(\"LASSO: DXA Model, Jump Power (Legs)\")\n",
    "\n",
    "train_test_lasso(df, ['COMB1PF7A', 'COMB4ILLM', 'COMB4DLBM', 'COMB4DLFM', 'COMB1PRSEX', 'COMB1PRAGE', 'COMB4P1A', 'COMB4DLFNMD'], 'tjumppownums')"
   ]
  },
  {
   "cell_type": "code",
   "execution_count": 15,
   "id": "a769b780",
   "metadata": {
    "scrolled": true
   },
   "outputs": [
    {
     "name": "stdout",
     "output_type": "stream",
     "text": [
      "LASSO: DXA Model, Jump Power (TB)\n",
      "Best Alpha: 0.0021544346900318843\n",
      "Best Max Iterations: 10000\n",
      "\n",
      "TRAINING Set Metrics:\n",
      "Mean Squared Error: 0.03003332085126144\n",
      "R-squared: 0.7666894926381393\n",
      "\n",
      "TEST Set Metrics:\n",
      "Mean Squared Error: 0.034907878272739924\n",
      "R-squared: 0.7439845772879156\n",
      "         Feature  Importance\n",
      "1      COMB4IALM    0.195775\n",
      "5     COMB1PRAGE   -0.138248\n",
      "2     COMB4DTBBM    0.077994\n",
      "9  COMB4DLSL14MD   -0.065943\n",
      "3     COMB4DTBFM   -0.055462\n",
      "7    COMB4DLR3MD    0.040228\n",
      "0      COMB1PF7A   -0.016851\n",
      "8    COMB4DLFNMD    0.008039\n",
      "4     COMB1PRSEX   -0.000000\n",
      "6       COMB4P1A   -0.000000\n",
      "white train frequency:  251\n",
      "white test frequency:  62 \n",
      "\n",
      "black train frequency:  79\n",
      "black test frequency:  21\n"
     ]
    }
   ],
   "source": [
    "#DXA: Jump Power (TOTAL BODY)\n",
    "\n",
    "print(\"LASSO: DXA Model, Jump Power (TB)\")\n",
    "\n",
    "train_test_lasso(df, ['COMB1PF7A', 'COMB4IALM', 'COMB4DTBBM', 'COMB4DTBFM', 'COMB1PRSEX', 'COMB1PRAGE', 'COMB4P1A', 'COMB4DLR3MD', 'COMB4DLFNMD', 'COMB4DLSL14MD'], 'tjumppownums')"
   ]
  },
  {
   "cell_type": "code",
   "execution_count": 16,
   "id": "ebf68eda",
   "metadata": {
    "scrolled": true
   },
   "outputs": [
    {
     "name": "stdout",
     "output_type": "stream",
     "text": [
      "LASSO: BIS Model, Handgrip Strength\n",
      "Best Alpha: 0.009545484566618348\n",
      "Best Max Iterations: 10000\n",
      "\n",
      "TRAINING Set Metrics:\n",
      "Mean Squared Error: 0.4751581029317945\n",
      "R-squared: 0.5406652363924997\n",
      "\n",
      "TEST Set Metrics:\n",
      "Mean Squared Error: 0.4232203045082896\n",
      "R-squared: 0.5569442375317516\n",
      "         Feature  Importance\n",
      "13      COMB4P1A    0.307762\n",
      "11    COMB1PRSEX   -0.281321\n",
      "8   COMB4IRESINC   -0.259446\n",
      "4     COMB4DTBFM   -0.151847\n",
      "0      COMB1PF7A   -0.100740\n",
      "9    COMB4IFCHAR   -0.068776\n",
      "10    COMB4IMCAP   -0.062899\n",
      "12    COMB1PRAGE   -0.037253\n",
      "1     COMB4IMECF   -0.000000\n",
      "2     COMB4IMICF   -0.000000\n",
      "3     COMB4IMFFM   -0.000000\n",
      "5     COMB4IRES0    0.000000\n",
      "6   COMB4IRESINF    0.000000\n",
      "7   COMB4IRESEXC    0.000000\n",
      "white train frequency:  251\n",
      "white test frequency:  62 \n",
      "\n",
      "black train frequency:  79\n",
      "black test frequency:  21\n"
     ]
    }
   ],
   "source": [
    "#BIS: Handgrip Strength\n",
    "\n",
    "print(\"LASSO: BIS Model, Handgrip Strength\")\n",
    "\n",
    "train_test_lasso(df, ['COMB1PF7A', 'COMB4IMECF', 'COMB4IMICF', 'COMB4IMFFM', 'COMB4DTBFM', 'COMB4IRES0', 'COMB4IRESINF', 'COMB4IRESEXC', 'COMB4IRESINC', 'COMB4IFCHAR', 'COMB4IMCAP', 'COMB1PRSEX', 'COMB1PRAGE', 'COMB4P1A'], 'tCOMB4IMaxGrip')"
   ]
  },
  {
   "cell_type": "code",
   "execution_count": 17,
   "id": "0f580b38",
   "metadata": {
    "scrolled": true
   },
   "outputs": [
    {
     "name": "stdout",
     "output_type": "stream",
     "text": [
      "LASSO: BIS Model, Jump Power\n"
     ]
    },
    {
     "name": "stdout",
     "output_type": "stream",
     "text": [
      "Best Alpha: 0.0001\n",
      "Best Max Iterations: 10000\n",
      "\n",
      "TRAINING Set Metrics:\n",
      "Mean Squared Error: 0.02824004092239362\n",
      "R-squared: 0.7806203879965998\n",
      "\n",
      "TEST Set Metrics:\n",
      "Mean Squared Error: 0.03444187016406068\n",
      "R-squared: 0.7474022946867969\n",
      "         Feature  Importance\n",
      "6   COMB4IRESINF    0.620252\n",
      "2     COMB4IMICF    0.538616\n",
      "7   COMB4IRESEXC   -0.481319\n",
      "1     COMB4IMECF   -0.378706\n",
      "8   COMB4IRESINC   -0.207309\n",
      "11    COMB1PRSEX   -0.175059\n",
      "10    COMB4IMCAP   -0.154108\n",
      "12    COMB1PRAGE   -0.118618\n",
      "9    COMB4IFCHAR   -0.093582\n",
      "13      COMB4P1A    0.039589\n",
      "4     COMB4DTBFM   -0.039422\n",
      "0      COMB1PF7A    0.005484\n",
      "3     COMB4IMFFM    0.000000\n",
      "5     COMB4IRES0   -0.000000\n",
      "white train frequency:  251\n",
      "white test frequency:  62 \n",
      "\n",
      "black train frequency:  79\n",
      "black test frequency:  21\n"
     ]
    }
   ],
   "source": [
    "#BIS: Jump Power\n",
    "\n",
    "print(\"LASSO: BIS Model, Jump Power\")\n",
    "\n",
    "train_test_lasso(df, ['COMB1PF7A', 'COMB4IMECF', 'COMB4IMICF', 'COMB4IMFFM', 'COMB4DTBFM', 'COMB4IRES0', 'COMB4IRESINF', 'COMB4IRESEXC', 'COMB4IRESINC', 'COMB4IFCHAR', 'COMB4IMCAP', 'COMB1PRSEX', 'COMB1PRAGE', 'COMB4P1A'], 'tjumppownums')"
   ]
  },
  {
   "cell_type": "code",
   "execution_count": 18,
   "id": "ad7f2a95",
   "metadata": {
    "scrolled": true
   },
   "outputs": [
    {
     "name": "stdout",
     "output_type": "stream",
     "text": [
      "LASSO: Combo Models, Handgrip Strength (Arms)\n"
     ]
    },
    {
     "name": "stdout",
     "output_type": "stream",
     "text": [
      "Best Alpha: 0.010476157527896652\n",
      "Best Max Iterations: 10000\n",
      "\n",
      "TRAINING Set Metrics:\n",
      "Mean Squared Error: 0.47065463901894417\n",
      "R-squared: 0.5450187295120752\n",
      "\n",
      "TEST Set Metrics:\n",
      "Mean Squared Error: 0.4019883127280184\n",
      "R-squared: 0.5791713287339494\n",
      "         Feature  Importance\n",
      "6       COMB4P1A    0.245167\n",
      "15  COMB4IRESINC   -0.224621\n",
      "4     COMB1PRSEX   -0.224192\n",
      "11    COMB4DTBFM   -0.159779\n",
      "0      COMB1PF7A   -0.121956\n",
      "2      COMB4DABM    0.102573\n",
      "17    COMB4IMCAP   -0.075325\n",
      "16   COMB4IFCHAR   -0.074986\n",
      "1      COMB4DALM    0.049871\n",
      "5     COMB1PRAGE   -0.043389\n",
      "7    COMB4DLR3MD   -0.000000\n",
      "8     COMB4IMECF   -0.000000\n",
      "10    COMB4IMFFM   -0.000000\n",
      "12    COMB4IRES0    0.000000\n",
      "13  COMB4IRESINF    0.000000\n",
      "14  COMB4IRESEXC    0.000000\n",
      "3      COMB4DAFM    0.000000\n",
      "9     COMB4IMICF   -0.000000\n",
      "white train frequency:  251\n",
      "white test frequency:  62 \n",
      "\n",
      "black train frequency:  79\n",
      "black test frequency:  21\n"
     ]
    }
   ],
   "source": [
    "#COMBO: Handgrip Strength (ARMS)\n",
    "\n",
    "print(\"LASSO: Combo Models, Handgrip Strength (Arms)\")\n",
    "\n",
    "train_test_lasso(df, ['COMB1PF7A', 'COMB4DALM', 'COMB4DABM', 'COMB4DAFM', 'COMB1PRSEX', 'COMB1PRAGE', 'COMB4P1A', 'COMB4DLR3MD', 'COMB4IMECF', 'COMB4IMICF', 'COMB4IMFFM', 'COMB4DTBFM', 'COMB4IRES0', 'COMB4IRESINF', 'COMB4IRESEXC', 'COMB4IRESINC', 'COMB4IFCHAR', 'COMB4IMCAP'], 'tCOMB4IMaxGrip')"
   ]
  },
  {
   "cell_type": "code",
   "execution_count": 19,
   "id": "9a2cb46c",
   "metadata": {
    "scrolled": true
   },
   "outputs": [
    {
     "name": "stdout",
     "output_type": "stream",
     "text": [
      "LASSO: Combo Models, Handgrip Strength (TB)\n",
      "Best Alpha: 0.015199110829529346\n",
      "Best Max Iterations: 10000\n",
      "\n",
      "TRAINING Set Metrics:\n",
      "Mean Squared Error: 0.47810606552101953\n",
      "R-squared: 0.5378154445217721\n",
      "\n",
      "TEST Set Metrics:\n",
      "Mean Squared Error: 0.42233477073360126\n",
      "R-squared: 0.55787127443796\n",
      "          Feature  Importance\n",
      "6        COMB4P1A    0.308128\n",
      "4      COMB1PRSEX   -0.275728\n",
      "17   COMB4IRESINC   -0.221246\n",
      "3      COMB4DTBFM   -0.133764\n",
      "0       COMB1PF7A   -0.092055\n",
      "18    COMB4IFCHAR   -0.037853\n",
      "5      COMB1PRAGE   -0.031890\n",
      "13     COMB4DTBFM   -0.014713\n",
      "9   COMB4DLSL14MD   -0.011097\n",
      "8     COMB4DLFNMD   -0.002270\n",
      "7     COMB4DLR3MD    0.002207\n",
      "14     COMB4IRES0    0.000000\n",
      "16   COMB4IRESEXC    0.000000\n",
      "15   COMB4IRESINF    0.000000\n",
      "10     COMB4IMECF   -0.000000\n",
      "12     COMB4IMFFM   -0.000000\n",
      "11     COMB4IMICF   -0.000000\n",
      "1       COMB4IALM    0.000000\n",
      "2      COMB4DTBBM   -0.000000\n",
      "19     COMB4IMCAP   -0.000000\n",
      "white train frequency:  251\n",
      "white test frequency:  62 \n",
      "\n",
      "black train frequency:  79\n",
      "black test frequency:  21\n"
     ]
    }
   ],
   "source": [
    "#COMBO: Handgrip Strength (TOTAL BODY)\n",
    "\n",
    "print(\"LASSO: Combo Models, Handgrip Strength (TB)\")\n",
    "\n",
    "train_test_lasso(df, ['COMB1PF7A', 'COMB4IALM', 'COMB4DTBBM', 'COMB4DTBFM', 'COMB1PRSEX', 'COMB1PRAGE', 'COMB4P1A', 'COMB4DLR3MD', 'COMB4DLFNMD', 'COMB4DLSL14MD', 'COMB4IMECF', 'COMB4IMICF','COMB4IMFFM', 'COMB4DTBFM', 'COMB4IRES0', 'COMB4IRESINF', 'COMB4IRESEXC', 'COMB4IRESINC', 'COMB4IFCHAR', 'COMB4IMCAP'], 'tCOMB4IMaxGrip')"
   ]
  },
  {
   "cell_type": "code",
   "execution_count": 20,
   "id": "451e794e",
   "metadata": {
    "scrolled": true
   },
   "outputs": [
    {
     "name": "stdout",
     "output_type": "stream",
     "text": [
      "LASSO: Combo Models, Jump Power (Legs)\n"
     ]
    },
    {
     "name": "stdout",
     "output_type": "stream",
     "text": [
      "Best Alpha: 0.0003678379771828634\n",
      "Best Max Iterations: 10000\n",
      "\n",
      "TRAINING Set Metrics:\n",
      "Mean Squared Error: 0.02637019890504225\n",
      "R-squared: 0.7951460474105321\n",
      "\n",
      "TEST Set Metrics:\n",
      "Mean Squared Error: 0.03182755357194305\n",
      "R-squared: 0.7665757707200533\n",
      "         Feature  Importance\n",
      "8     COMB4IMECF   -0.211593\n",
      "1      COMB4ILLM    0.172588\n",
      "9     COMB4IMICF    0.170072\n",
      "13  COMB4IRESINF    0.169248\n",
      "15  COMB4IRESINC   -0.142946\n",
      "5     COMB1PRAGE   -0.106836\n",
      "14  COMB4IRESEXC   -0.088450\n",
      "4     COMB1PRSEX   -0.071762\n",
      "17    COMB4IMCAP   -0.056435\n",
      "3      COMB4DLFM   -0.045642\n",
      "6       COMB4P1A    0.043514\n",
      "16   COMB4IFCHAR   -0.041756\n",
      "2      COMB4DLBM    0.024686\n",
      "0      COMB1PF7A   -0.012486\n",
      "11    COMB4DTBFM    0.009259\n",
      "7    COMB4DLFNMD    0.001952\n",
      "10    COMB4IMFFM    0.000000\n",
      "12    COMB4IRES0   -0.000000\n",
      "white train frequency:  251\n",
      "white test frequency:  62 \n",
      "\n",
      "black train frequency:  79\n",
      "black test frequency:  21\n"
     ]
    }
   ],
   "source": [
    "#COMBO: Jump Power (LEGS)\n",
    "\n",
    "print(\"LASSO: Combo Models, Jump Power (Legs)\")\n",
    "\n",
    "train_test_lasso(df, ['COMB1PF7A', 'COMB4ILLM', 'COMB4DLBM', 'COMB4DLFM', 'COMB1PRSEX', 'COMB1PRAGE', 'COMB4P1A', 'COMB4DLFNMD', 'COMB4IMECF', 'COMB4IMICF', 'COMB4IMFFM', 'COMB4DTBFM', 'COMB4IRES0', 'COMB4IRESINF', 'COMB4IRESEXC', 'COMB4IRESINC', 'COMB4IFCHAR', 'COMB4IMCAP'], 'tjumppownums')"
   ]
  },
  {
   "cell_type": "code",
   "execution_count": 21,
   "id": "29a5d724",
   "metadata": {},
   "outputs": [
    {
     "name": "stdout",
     "output_type": "stream",
     "text": [
      "LASSO: Combo Models, Jump Power (TB)\n"
     ]
    },
    {
     "name": "stdout",
     "output_type": "stream",
     "text": [
      "Best Alpha: 0.001484968262254465\n",
      "Best Max Iterations: 10000\n",
      "\n",
      "TRAINING Set Metrics:\n",
      "Mean Squared Error: 0.024608313549032368\n",
      "R-squared: 0.8088330575270585\n",
      "\n",
      "TEST Set Metrics:\n",
      "Mean Squared Error: 0.03600684111676248\n",
      "R-squared: 0.7359247509398611\n",
      "          Feature  Importance\n",
      "1       COMB4IALM    0.199195\n",
      "10     COMB4IMECF   -0.117637\n",
      "17   COMB4IRESINC   -0.114497\n",
      "5      COMB1PRAGE   -0.099389\n",
      "2      COMB4DTBBM    0.086362\n",
      "9   COMB4DLSL14MD   -0.052564\n",
      "6        COMB4P1A    0.043634\n",
      "14     COMB4IRES0    0.043197\n",
      "0       COMB1PF7A   -0.024624\n",
      "7     COMB4DLR3MD    0.022286\n",
      "18    COMB4IFCHAR   -0.014751\n",
      "3      COMB4DTBFM   -0.007374\n",
      "4      COMB1PRSEX   -0.006041\n",
      "13     COMB4DTBFM   -0.004849\n",
      "8     COMB4DLFNMD    0.002467\n",
      "11     COMB4IMICF    0.000000\n",
      "12     COMB4IMFFM   -0.000000\n",
      "15   COMB4IRESINF    0.000000\n",
      "16   COMB4IRESEXC    0.000000\n",
      "19     COMB4IMCAP    0.000000\n",
      "white train frequency:  251\n",
      "white test frequency:  62 \n",
      "\n",
      "black train frequency:  79\n",
      "black test frequency:  21\n"
     ]
    }
   ],
   "source": [
    "#COMBO: Jump Power (TOTAL BODY)\n",
    "\n",
    "print(\"LASSO: Combo Models, Jump Power (TB)\")\n",
    "\n",
    "train_test_lasso(df, ['COMB1PF7A', 'COMB4IALM', 'COMB4DTBBM', 'COMB4DTBFM', 'COMB1PRSEX', 'COMB1PRAGE', 'COMB4P1A', 'COMB4DLR3MD', 'COMB4DLFNMD', 'COMB4DLSL14MD', 'COMB4IMECF', 'COMB4IMICF','COMB4IMFFM', 'COMB4DTBFM', 'COMB4IRES0', 'COMB4IRESINF', 'COMB4IRESEXC', 'COMB4IRESINC', 'COMB4IFCHAR', 'COMB4IMCAP'], 'tjumppownums')"
   ]
  }
 ],
 "metadata": {
  "kernelspec": {
   "display_name": "Python 3 (ipykernel)",
   "language": "python",
   "name": "python3"
  },
  "language_info": {
   "codemirror_mode": {
    "name": "ipython",
    "version": 3
   },
   "file_extension": ".py",
   "mimetype": "text/x-python",
   "name": "python",
   "nbconvert_exporter": "python",
   "pygments_lexer": "ipython3",
   "version": "3.10.8"
  }
 },
 "nbformat": 4,
 "nbformat_minor": 5
}
