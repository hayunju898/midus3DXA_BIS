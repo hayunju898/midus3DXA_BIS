{
 "cells": [
  {
   "cell_type": "code",
   "execution_count": 11,
   "id": "2777dd15",
   "metadata": {},
   "outputs": [],
   "source": [
    "import pandas as pd\n",
    "import numpy as np\n",
    "from sklearn.model_selection import train_test_split\n",
    "from sklearn import metrics\n",
    "from sklearn.model_selection import GridSearchCV\n",
    "from sklearn.preprocessing import StandardScaler \n",
    "from sklearn.svm import SVR\n",
    "\n",
    "#loading data\n",
    "data = pd.read_csv('/Users/yunjuha/Desktop/ML-DXA-BIS/ML-DXA-BIS_Combined Data.csv')\n",
    "df = pd.DataFrame(data)\n",
    "\n",
    "#TRANSFORMING THE TARGETS\n",
    "df['tjumppownums'] = np.log(df['jumppownums'] + 0.1)\n",
    "df['tCOMB4IMaxGrip'] = np.sqrt(df['COMB4IMaxGrip'])\n",
    "\n",
    "#dropping columns\n",
    "column_to_drop = ['M2ID', 'MIDUSID', 'SAMPLMAJ', 'Height.cm.', 'Weight.kg.', 'Age.years.', 'TBW.litres.', 'ECF.litres.', 'ICF.litres.']\n",
    "df = df.drop(column_to_drop, axis=1)"
   ]
  },
  {
   "cell_type": "code",
   "execution_count": 12,
   "id": "d16e37a9",
   "metadata": {},
   "outputs": [
    {
     "name": "stdout",
     "output_type": "stream",
     "text": [
      "544\n"
     ]
    }
   ],
   "source": [
    "#number of individuals before NA is removed\n",
    "print(len(df))"
   ]
  },
  {
   "cell_type": "code",
   "execution_count": 13,
   "id": "37e0a509",
   "metadata": {},
   "outputs": [
    {
     "name": "stdout",
     "output_type": "stream",
     "text": [
      "422\n"
     ]
    }
   ],
   "source": [
    "#this is the number of people we have when race IS INCLUDED\n",
    "df = df.dropna()\n",
    "print(len(df))"
   ]
  },
  {
   "cell_type": "code",
   "execution_count": 14,
   "id": "fd450ab9",
   "metadata": {},
   "outputs": [
    {
     "name": "stdout",
     "output_type": "stream",
     "text": [
      "413\n"
     ]
    }
   ],
   "source": [
    "#counting the total number of individuals who are white or black (ignore the other races for now...)\n",
    "race = (df['COMB1PF7A'] == 1) | (df['COMB1PF7A'] == 2)\n",
    "df = df[race]\n",
    "\n",
    "print(len(df))"
   ]
  },
  {
   "cell_type": "markdown",
   "id": "f99f8116",
   "metadata": {},
   "source": [
    "# Support Vector Regression"
   ]
  },
  {
   "cell_type": "markdown",
   "id": "899b1fb5",
   "metadata": {},
   "source": [
    "### QUICK NOTE: fitting svr with scaling vs no scaling depends on how we want to handle interpretation (scaled features vs not scaled feature interpretation)...we fit our model without scaling"
   ]
  },
  {
   "cell_type": "code",
   "execution_count": 15,
   "id": "09b40caa",
   "metadata": {},
   "outputs": [],
   "source": [
    "#SVR function\n",
    "def train_test_svr(df, feature_columns, target_column, test_size=0.2, random_state=42):\n",
    "    columns = feature_columns + [target_column]\n",
    "    X = df[columns]\n",
    "    y = X.pop(target_column)\n",
    "\n",
    "    #splitting our data into train and test sets\n",
    "    X_train, X_test, y_train, y_test = train_test_split(X, y, test_size=test_size, random_state=random_state)\n",
    "\n",
    "    #scaling features (did not used the scaled data)\n",
    "    scaler = StandardScaler()\n",
    "    X_train_scaled = scaler.fit_transform(X_train)\n",
    "    X_test_scaled = scaler.transform(X_test)\n",
    "\n",
    "    #ourparameter grid for hyperparameter tuning\n",
    "    param_grid = {\n",
    "        'kernel': ['linear', 'rbf', 'poly'],\n",
    "        'C': [0.1, 1, 10],\n",
    "        'epsilon': [0.01, 0.1, 1]\n",
    "    }\n",
    "    \n",
    "    svr = SVR()\n",
    "\n",
    "    #doing grid search with cross-validation to find the best hyperparameters\n",
    "    grid_search = GridSearchCV(estimator=svr, param_grid=param_grid, cv=5, scoring='neg_mean_squared_error')\n",
    "    grid_search.fit(X_train, y_train)\n",
    "\n",
    "    #our best hyperparameters from the grid search results\n",
    "    best_params = grid_search.best_params_\n",
    "\n",
    "    print(\"Best Hyperparameters:\", best_params)\n",
    "    \n",
    "    best_svr = grid_search.best_estimator_    \n",
    "    svr = SVR(kernel = best_params['kernel'], C = best_params['C'], epsilon = best_params['epsilon'])\n",
    "    svr.fit(X_train, y_train) #X_train vs X_train_scaled...\n",
    "\n",
    "    #evaluation of the model on the TRAINING set\n",
    "    y_train_pred = svr.predict(X_train)\n",
    "    mse_train = metrics.mean_squared_error(y_train, y_train_pred)\n",
    "    r2_train_11 = metrics.r2_score(y_train, y_train_pred)\n",
    "    print(\"\\nTrain set metrics:\")\n",
    "    print(\"MSE:\", mse_train)\n",
    "    print(\"R-squared:\", r2_train_11)\n",
    "\n",
    "    #evaluation of the model on TESTING set\n",
    "    y_test_pred = svr.predict(X_test)\n",
    "    mse_test = metrics.mean_squared_error(y_test, y_test_pred)\n",
    "    r2_test_11 = metrics.r2_score(y_test, y_test_pred)\n",
    "    print(\"\\nTest set metrics:\")\n",
    "    print(\"MSE:\", mse_test)\n",
    "    print(\"R-squared:\", r2_test_11, \"\\n\")\n",
    "    \n",
    "    #frequency count for race\n",
    "    if 'COMB1PF7A' in df.columns:\n",
    "        white_train_counts = X_train[X_train['COMB1PF7A'] == 1]['COMB1PF7A'].value_counts()\n",
    "        white_test_counts = X_test[X_test['COMB1PF7A'] == 1]['COMB1PF7A'].value_counts()\n",
    "\n",
    "        black_train_counts = X_train[X_train['COMB1PF7A'] == 2]['COMB1PF7A'].value_counts()\n",
    "        black_test_counts = X_test[X_test['COMB1PF7A'] == 2]['COMB1PF7A'].value_counts()\n",
    "    \n",
    "        print(\"White train frequency: \", white_train_counts.values[0])\n",
    "        print(\"White test frequency: \", white_test_counts.values[0], \"\\n\")\n",
    "    \n",
    "        print(\"Black train frequency: \", black_train_counts.values[0])\n",
    "        print(\"Black test frequency: \", black_test_counts.values[0])"
   ]
  },
  {
   "cell_type": "code",
   "execution_count": 16,
   "id": "e0005149",
   "metadata": {},
   "outputs": [
    {
     "name": "stdout",
     "output_type": "stream",
     "text": [
      "Support Vector Regression: DXA Model, Handgrip Strength (Arms)\n"
     ]
    },
    {
     "name": "stdout",
     "output_type": "stream",
     "text": [
      "Best Hyperparameters: {'C': 1, 'epsilon': 1, 'kernel': 'rbf'}\n",
      "\n",
      "Train set metrics:\n",
      "MSE: 0.5564231614212546\n",
      "R-squared: 0.46210640260541413\n",
      "\n",
      "Test set metrics:\n",
      "MSE: 0.5446845614069277\n",
      "R-squared: 0.42978720281577854 \n",
      "\n",
      "White train frequency:  251\n",
      "White test frequency:  62 \n",
      "\n",
      "Black train frequency:  79\n",
      "Black test frequency:  21\n"
     ]
    }
   ],
   "source": [
    "#DXA: Handgrip Strength (ARMS)\n",
    "print(\"Support Vector Regression: DXA Model, Handgrip Strength (Arms)\")\n",
    "train_test_svr(df, ['COMB1PF7A', 'COMB4DALM', 'COMB4DABM', 'COMB4DAFM', 'COMB1PRSEX', 'COMB1PRAGE', 'COMB4P1A', 'COMB4DLR3MD'], 'tCOMB4IMaxGrip')"
   ]
  },
  {
   "cell_type": "code",
   "execution_count": 17,
   "id": "dad36987",
   "metadata": {},
   "outputs": [
    {
     "name": "stdout",
     "output_type": "stream",
     "text": [
      "Support Vector Regression: DXA Model, Handgrip Strength (TB)\n",
      "Best Hyperparameters: {'C': 10, 'epsilon': 0.1, 'kernel': 'rbf'}\n",
      "\n",
      "Train set metrics:\n",
      "MSE: 0.7314238755987985\n",
      "R-squared: 0.292933423797086\n",
      "\n",
      "Test set metrics:\n",
      "MSE: 0.6863988998039168\n",
      "R-squared: 0.2814310072780676 \n",
      "\n",
      "White train frequency:  251\n",
      "White test frequency:  62 \n",
      "\n",
      "Black train frequency:  79\n",
      "Black test frequency:  21\n"
     ]
    }
   ],
   "source": [
    "#DXA: Handgrip Strength (TOTAL BODY)\n",
    "\n",
    "print(\"Support Vector Regression: DXA Model, Handgrip Strength (TB)\")\n",
    "train_test_svr(df, ['COMB1PF7A', 'COMB4IALM', 'COMB4DTBBM', 'COMB4DTBFM', 'COMB1PRSEX', 'COMB1PRAGE', 'COMB4P1A', 'COMB4DLR3MD', 'COMB4DLFNMD', 'COMB4DLSL14MD'], 'tCOMB4IMaxGrip')"
   ]
  },
  {
   "cell_type": "code",
   "execution_count": 18,
   "id": "20f9ef2e",
   "metadata": {},
   "outputs": [
    {
     "name": "stdout",
     "output_type": "stream",
     "text": [
      "Support Vector Regression: DXA Model, Jump Power (Legs)\n",
      "Best Hyperparameters: {'C': 10, 'epsilon': 0.01, 'kernel': 'rbf'}\n",
      "\n",
      "Train set metrics:\n",
      "MSE: 0.07349718504368476\n",
      "R-squared: 0.42904530547475506\n",
      "\n",
      "Test set metrics:\n",
      "MSE: 0.08350454110071258\n",
      "R-squared: 0.3875751994651504 \n",
      "\n",
      "White train frequency:  251\n",
      "White test frequency:  62 \n",
      "\n",
      "Black train frequency:  79\n",
      "Black test frequency:  21\n"
     ]
    }
   ],
   "source": [
    "#DXA: Jump Power (LEGS)\n",
    "\n",
    "print(\"Support Vector Regression: DXA Model, Jump Power (Legs)\")\n",
    "train_test_svr(df, ['COMB1PF7A', 'COMB4ILLM', 'COMB4DLBM', 'COMB4DLFM', 'COMB1PRSEX', 'COMB1PRAGE', 'COMB4P1A', 'COMB4DLFNMD'], 'tjumppownums')"
   ]
  },
  {
   "cell_type": "code",
   "execution_count": 19,
   "id": "8d1ca80e",
   "metadata": {},
   "outputs": [
    {
     "name": "stdout",
     "output_type": "stream",
     "text": [
      "Support Vector Regression: DXA Model, Jump Power (TB)\n",
      "Best Hyperparameters: {'C': 10, 'epsilon': 0.1, 'kernel': 'rbf'}\n",
      "\n",
      "Train set metrics:\n",
      "MSE: 0.07802851905928385\n",
      "R-squared: 0.3938441419590304\n",
      "\n",
      "Test set metrics:\n",
      "MSE: 0.08452207028454224\n",
      "R-squared: 0.3801126100151504 \n",
      "\n",
      "White train frequency:  251\n",
      "White test frequency:  62 \n",
      "\n",
      "Black train frequency:  79\n",
      "Black test frequency:  21\n"
     ]
    }
   ],
   "source": [
    "#DXA: Jump Power (TOTAL BODY)\n",
    "\n",
    "print(\"Support Vector Regression: DXA Model, Jump Power (TB)\")\n",
    "train_test_svr(df, ['COMB1PF7A', 'COMB4IALM', 'COMB4DTBBM', 'COMB4DTBFM', 'COMB1PRSEX', 'COMB1PRAGE', 'COMB4P1A', 'COMB4DLR3MD', 'COMB4DLFNMD', 'COMB4DLSL14MD'], 'tjumppownums')"
   ]
  },
  {
   "cell_type": "code",
   "execution_count": 20,
   "id": "ceeacbb8",
   "metadata": {},
   "outputs": [
    {
     "name": "stdout",
     "output_type": "stream",
     "text": [
      "Support Vector Regression: BIS Model, Handgrip Strength\n",
      "Best Hyperparameters: {'C': 10, 'epsilon': 0.1, 'kernel': 'rbf'}\n",
      "\n",
      "Train set metrics:\n",
      "MSE: 0.820340724221435\n",
      "R-squared: 0.20697761373976442\n",
      "\n",
      "Test set metrics:\n",
      "MSE: 0.8460022338407766\n",
      "R-squared: 0.11434739597465393 \n",
      "\n",
      "White train frequency:  251\n",
      "White test frequency:  62 \n",
      "\n",
      "Black train frequency:  79\n",
      "Black test frequency:  21\n"
     ]
    }
   ],
   "source": [
    "#BIS: Handgrip Strength\n",
    "\n",
    "print(\"Support Vector Regression: BIS Model, Handgrip Strength\")\n",
    "train_test_svr(df, ['COMB1PF7A', 'COMB4IMECF', 'COMB4IMICF', 'COMB4IMFFM', 'COMB4DTBFM', 'COMB4IRES0', 'COMB4IRESINF', 'COMB4IRESEXC', 'COMB4IRESINC', 'COMB4IFCHAR', 'COMB4IMCAP', 'COMB1PRSEX', 'COMB1PRAGE', 'COMB4P1A'], 'tCOMB4IMaxGrip')"
   ]
  },
  {
   "cell_type": "code",
   "execution_count": 21,
   "id": "4e2dc363",
   "metadata": {},
   "outputs": [
    {
     "name": "stdout",
     "output_type": "stream",
     "text": [
      "Support Vector Regression: BIS Model, Jump Power\n",
      "Best Hyperparameters: {'C': 10, 'epsilon': 0.01, 'kernel': 'rbf'}\n",
      "\n",
      "Train set metrics:\n",
      "MSE: 0.07820887352559382\n",
      "R-squared: 0.3924430783787439\n",
      "\n",
      "Test set metrics:\n",
      "MSE: 0.09125113611159222\n",
      "R-squared: 0.33076144009558084 \n",
      "\n",
      "White train frequency:  251\n",
      "White test frequency:  62 \n",
      "\n",
      "Black train frequency:  79\n",
      "Black test frequency:  21\n"
     ]
    }
   ],
   "source": [
    "#BIS: Jump Power\n",
    "\n",
    "print(\"Support Vector Regression: BIS Model, Jump Power\")\n",
    "train_test_svr(df, ['COMB1PF7A', 'COMB4IMECF', 'COMB4IMICF', 'COMB4IMFFM', 'COMB4DTBFM', 'COMB4IRES0', 'COMB4IRESINF', 'COMB4IRESEXC', 'COMB4IRESINC', 'COMB4IFCHAR', 'COMB4IMCAP', 'COMB1PRSEX', 'COMB1PRAGE', 'COMB4P1A'], 'tjumppownums')"
   ]
  },
  {
   "cell_type": "code",
   "execution_count": 22,
   "id": "b41963cb",
   "metadata": {},
   "outputs": [
    {
     "name": "stdout",
     "output_type": "stream",
     "text": [
      "Support Vector Regression: Combo Models, Handgrip Strength (Arms)\n",
      "Best Hyperparameters: {'C': 10, 'epsilon': 0.01, 'kernel': 'rbf'}\n",
      "\n",
      "Train set metrics:\n",
      "MSE: 0.5581385175822817\n",
      "R-squared: 0.4604481698785249\n",
      "\n",
      "Test set metrics:\n",
      "MSE: 0.6043958421202077\n",
      "R-squared: 0.3672773782100932 \n",
      "\n",
      "White train frequency:  251\n",
      "White test frequency:  62 \n",
      "\n",
      "Black train frequency:  79\n",
      "Black test frequency:  21\n"
     ]
    }
   ],
   "source": [
    "#COMBO: Handgrip Strength (ARMS)\n",
    "\n",
    "print(\"Support Vector Regression: Combo Models, Handgrip Strength (Arms)\")\n",
    "train_test_svr(df, ['COMB1PF7A', 'COMB4DALM', 'COMB4DABM', 'COMB4DAFM', 'COMB1PRSEX', 'COMB1PRAGE', 'COMB4P1A', 'COMB4DLR3MD', 'COMB4IMECF', 'COMB4IMICF', 'COMB4IMFFM', 'COMB4DTBFM', 'COMB4IRES0', 'COMB4IRESINF', 'COMB4IRESEXC', 'COMB4IRESINC', 'COMB4IFCHAR', 'COMB4IMCAP'], 'tCOMB4IMaxGrip')"
   ]
  },
  {
   "cell_type": "code",
   "execution_count": 23,
   "id": "c8b67609",
   "metadata": {},
   "outputs": [
    {
     "name": "stdout",
     "output_type": "stream",
     "text": [
      "Support Vector Regression: Combo Models, Handgrip Strength (TB)\n"
     ]
    }
   ],
   "source": [
    "#COMBO: Handgrip Strength (Total Body)\n",
    "\n",
    "print(\"Support Vector Regression: Combo Models, Handgrip Strength (TB)\")\n",
    "train_test_svr(df, ['COMB1PF7A', 'COMB4IALM', 'COMB4DTBBM', 'COMB4DTBFM', 'COMB1PRSEX', 'COMB1PRAGE', 'COMB4P1A', 'COMB4DLR3MD', 'COMB4DLFNMD', 'COMB4DLSL14MD', 'COMB4IMECF', 'COMB4IMICF','COMB4IMFFM', 'COMB4DTBFM', 'COMB4IRES0', 'COMB4IRESINF', 'COMB4IRESEXC', 'COMB4IRESINC', 'COMB4IFCHAR', 'COMB4IMCAP'], 'tCOMB4IMaxGrip')"
   ]
  },
  {
   "cell_type": "code",
   "execution_count": null,
   "id": "46aaf8a4",
   "metadata": {},
   "outputs": [],
   "source": [
    "#COMBO: Jump Power (LEGS)\n",
    "\n",
    "print(\"Support Vector Regression: Combo Models, Jump Power (Legs)\")\n",
    "train_test_svr(df, ['COMB1PF7A', 'COMB4ILLM', 'COMB4DLBM', 'COMB4DLFM', 'COMB1PRSEX', 'COMB1PRAGE', 'COMB4P1A', 'COMB4DLFNMD', 'COMB4IMECF', 'COMB4IMICF', 'COMB4IMFFM', 'COMB4DTBFM', 'COMB4IRES0', 'COMB4IRESINF', 'COMB4IRESEXC', 'COMB4IRESINC', 'COMB4IFCHAR', 'COMB4IMCAP'], 'tjumppownums')"
   ]
  },
  {
   "cell_type": "code",
   "execution_count": null,
   "id": "6991db13",
   "metadata": {},
   "outputs": [],
   "source": [
    "#COMBO: Jump Power (TOTAL BODY)\n",
    "\n",
    "print(\"Support Vector Regression: Combo Models, Jump Power (TB)\")\n",
    "train_test_svr(df, ['COMB1PF7A', 'COMB4IALM', 'COMB4DTBBM', 'COMB4DTBFM', 'COMB1PRSEX', 'COMB1PRAGE', 'COMB4P1A', 'COMB4DLR3MD', 'COMB4DLFNMD', 'COMB4DLSL14MD', 'COMB4IMECF', 'COMB4IMICF','COMB4IMFFM', 'COMB4DTBFM', 'COMB4IRES0', 'COMB4IRESINF', 'COMB4IRESEXC', 'COMB4IRESINC', 'COMB4IFCHAR', 'COMB4IMCAP'], 'tjumppownums')"
   ]
  }
 ],
 "metadata": {
  "kernelspec": {
   "display_name": "Python 3 (ipykernel)",
   "language": "python",
   "name": "python3"
  },
  "language_info": {
   "codemirror_mode": {
    "name": "ipython",
    "version": 3
   },
   "file_extension": ".py",
   "mimetype": "text/x-python",
   "name": "python",
   "nbconvert_exporter": "python",
   "pygments_lexer": "ipython3",
   "version": "3.10.8"
  }
 },
 "nbformat": 4,
 "nbformat_minor": 5
}
