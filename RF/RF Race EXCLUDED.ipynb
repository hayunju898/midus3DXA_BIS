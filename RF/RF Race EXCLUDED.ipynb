{
 "cells": [
  {
   "cell_type": "markdown",
   "id": "d7828dad",
   "metadata": {},
   "source": [
    "# Excluding Race"
   ]
  },
  {
   "cell_type": "code",
   "execution_count": 1,
   "id": "2777dd15",
   "metadata": {},
   "outputs": [],
   "source": [
    "import pandas as pd\n",
    "import numpy as np\n",
    "from sklearn.model_selection import train_test_split\n",
    "from sklearn.model_selection import GridSearchCV\n",
    "from sklearn import metrics\n",
    "from sklearn.ensemble import RandomForestRegressor\n",
    "\n",
    "#loading data\n",
    "data = pd.read_csv('/Users/yunjuha/Desktop/MIDUS3/ML Models/Combined_MIDUS3_Refresher.csv')\n",
    "df = pd.DataFrame(data)\n",
    "\n",
    "#TRANSFORMING THE TARGETS\n",
    "df['tjumppownums'] = np.log(df['jumppownums'] + 0.1)\n",
    "df['tCOMB4IMaxGrip'] = np.sqrt(df['COMB4IMaxGrip'])\n",
    "\n",
    "#dropping columns\n",
    "column_to_drop = ['M2ID', 'MIDUSID', 'SAMPLMAJ', 'Height.cm.', 'Weight.kg.', 'Age.years.', 'TBW.litres.', 'ECF.litres.', 'ICF.litres.']\n",
    "df = df.drop(column_to_drop, axis=1)\n",
    "\n",
    "df = df.drop('COMB1PF7A', axis=1)"
   ]
  },
  {
   "cell_type": "code",
   "execution_count": 2,
   "id": "d16e37a9",
   "metadata": {},
   "outputs": [
    {
     "name": "stdout",
     "output_type": "stream",
     "text": [
      "544\n"
     ]
    }
   ],
   "source": [
    "#number of individuals before NA is removed\n",
    "print(len(df))"
   ]
  },
  {
   "cell_type": "code",
   "execution_count": 3,
   "id": "37e0a509",
   "metadata": {},
   "outputs": [
    {
     "name": "stdout",
     "output_type": "stream",
     "text": [
      "490\n"
     ]
    }
   ],
   "source": [
    "#this is the total number of people when race is removed\n",
    "df = df.dropna()\n",
    "print(len(df))"
   ]
  },
  {
   "cell_type": "markdown",
   "id": "ff632a23",
   "metadata": {},
   "source": [
    "# Random Forest"
   ]
  },
  {
   "cell_type": "code",
   "execution_count": null,
   "id": "d8486d7e",
   "metadata": {},
   "outputs": [],
   "source": [
    "#Random Forest Function\n",
    "\n",
    "def train_test_random_forest(df, feature_columns, target_column, test_size=0.2, random_state=42):\n",
    "    columns = feature_columns + [target_column]\n",
    "    X = df[columns]\n",
    "    \n",
    "    y = X.pop(target_column)\n",
    "    \n",
    "    #dividing our data set into train and test set\n",
    "    X_train, X_test, y_train, y_test = train_test_split(X, y, test_size=test_size, random_state=random_state)\n",
    "\n",
    "    #random forest model\n",
    "    param_grid = { #our hyperparameters\n",
    "        'n_estimators': [5, 10, 20],\n",
    "        'max_depth': [None, 1, 2, 4, 8, 16],\n",
    "        'min_samples_split': [1, 2, 5, 10, 20],\n",
    "        'min_samples_leaf': [1, 2, 4, 8],\n",
    "        'max_features': [1, 2, 4, 8, X_train.shape[1]]\n",
    "    }\n",
    "\n",
    "    rf_model = RandomForestRegressor(random_state=42)\n",
    "\n",
    "    #performing gridsearch to find best hyperparameters\n",
    "    grid_search = GridSearchCV(estimator=rf_model, param_grid=param_grid, cv=3, n_jobs=-1)\n",
    "    grid_search.fit(X_train, y_train)\n",
    "\n",
    "    best_params = grid_search.best_params_\n",
    "    best_rf_model = grid_search.best_estimator_\n",
    "\n",
    "    y_pred = best_rf_model.predict(X_test)\n",
    "    mse = metrics.mean_squared_error(y_test, y_pred)\n",
    "    print(\"Best parameters:\", best_params)\n",
    "    print(\"Mean Squared Error:\", mse)\n",
    "\n",
    "    #fitting with BEST HYPERPARAMETERS\n",
    "    rf = RandomForestRegressor(max_depth = best_params['max_depth'],\n",
    "                           min_samples_leaf = best_params['min_samples_leaf'], \n",
    "                           min_samples_split = best_params['min_samples_split'], \n",
    "                           n_estimators = best_params['n_estimators'], \n",
    "                           max_features = best_params['max_features'],random_state = 42)\n",
    "    rf.fit(X_train, y_train)\n",
    "\n",
    "    #evaluation of the model on the TRAINING set\n",
    "    y_train_pred = rf.predict(X_train)\n",
    "    mse_train = metrics.mean_squared_error(y_train, y_train_pred)\n",
    "    r2_train_11 = metrics.r2_score(y_train, y_train_pred)\n",
    "    print(\"\\nTrain set metrics:\")\n",
    "    print(\"MSE:\", mse_train)\n",
    "    print(\"R-squared:\", r2_train_11)\n",
    "\n",
    "    y_test_pred = rf.predict(X_test)\n",
    "\n",
    "    #evaluation of the model on TESTING set\n",
    "    mse_test = metrics.mean_squared_error(y_test, y_test_pred)\n",
    "    r2_test_11 = metrics.r2_score(y_test, y_test_pred)\n",
    "    print(\"\\nTest set metrics:\")\n",
    "    print(\"MSE:\", mse_test)\n",
    "    print(\"R-squared:\", r2_test_11, \"\\n\")\n",
    "\n",
    "    #feature importance??\n",
    "    feature_importances = pd.Series(rf.feature_importances_, index=X.columns)\n",
    "    print(feature_importances)"
   ]
  },
  {
   "cell_type": "code",
   "execution_count": 94,
   "id": "4d80bf8f",
   "metadata": {
    "scrolled": true
   },
   "outputs": [
    {
     "name": "stdout",
     "output_type": "stream",
     "text": [
      "Random Forest: DXA Model, Handgrip Strength (Arms)\n",
      "Best parameters: {'max_depth': None, 'max_features': 1, 'min_samples_leaf': 2, 'min_samples_split': 5, 'n_estimators': 20}\n",
      "Mean Squared Error: 0.563911553921147\n",
      "\n",
      "Train set metrics:\n",
      "MSE: 0.22113343604966268\n",
      "R-squared: 0.8003518710902774\n",
      "\n",
      "Test set metrics:\n",
      "MSE: 0.563911553921147\n",
      "R-squared: 0.35393336177490575 \n",
      "\n",
      "COMB4DALM      0.226729\n",
      "COMB4DABM      0.272234\n",
      "COMB4DAFM      0.119894\n",
      "COMB1PRSEX     0.050189\n",
      "COMB1PRAGE     0.075460\n",
      "COMB4P1A       0.160732\n",
      "COMB4DLR3MD    0.094761\n",
      "dtype: float64\n"
     ]
    }
   ],
   "source": [
    "#DXA: Handgrip Strength (ARMS)\n",
    "\n",
    "print(\"Random Forest: DXA Model, Handgrip Strength (Arms)\")\n",
    "\n",
    "train_test_random_forest(df, ['COMB4DALM', 'COMB4DABM', 'COMB4DAFM', 'COMB1PRSEX', 'COMB1PRAGE', 'COMB4P1A', 'COMB4DLR3MD'], 'tCOMB4IMaxGrip')"
   ]
  },
  {
   "cell_type": "code",
   "execution_count": 95,
   "id": "e41d5c50",
   "metadata": {
    "scrolled": true
   },
   "outputs": [
    {
     "name": "stdout",
     "output_type": "stream",
     "text": [
      "Random Forest: DXA Model, Handgrip Strength (TB)\n",
      "Best parameters: {'max_depth': 4, 'max_features': 2, 'min_samples_leaf': 2, 'min_samples_split': 1, 'n_estimators': 20}\n",
      "Mean Squared Error: 0.512220146761612\n",
      "\n",
      "Train set metrics:\n",
      "MSE: 0.4207880156699591\n",
      "R-squared: 0.6200957146196774\n",
      "\n",
      "Test set metrics:\n",
      "MSE: 0.512220146761612\n",
      "R-squared: 0.4131555809624118 \n",
      "\n",
      "COMB4IALM        0.112682\n",
      "COMB4DTBBM       0.193642\n",
      "COMB4DTBFM       0.066693\n",
      "COMB1PRSEX       0.218109\n",
      "COMB1PRAGE       0.032880\n",
      "COMB4P1A         0.237244\n",
      "COMB4DLR3MD      0.054533\n",
      "COMB4DLFNMD      0.049660\n",
      "COMB4DLSL14MD    0.034557\n",
      "dtype: float64\n"
     ]
    }
   ],
   "source": [
    "#DXA: Handgrip Strength (TOTAL BODY)\n",
    "\n",
    "print(\"Random Forest: DXA Model, Handgrip Strength (TB)\")\n",
    "\n",
    "train_test_random_forest(df, ['COMB4IALM', 'COMB4DTBBM', 'COMB4DTBFM', 'COMB1PRSEX', 'COMB1PRAGE', 'COMB4P1A', 'COMB4DLR3MD', 'COMB4DLFNMD', 'COMB4DLSL14MD'], 'tCOMB4IMaxGrip')"
   ]
  },
  {
   "cell_type": "code",
   "execution_count": 96,
   "id": "2bca8039",
   "metadata": {
    "scrolled": true
   },
   "outputs": [
    {
     "name": "stdout",
     "output_type": "stream",
     "text": [
      "Random Forest: DXA Model, Jump Power (Legs)\n",
      "Best parameters: {'max_depth': 16, 'max_features': 4, 'min_samples_leaf': 1, 'min_samples_split': 1, 'n_estimators': 20}\n",
      "Mean Squared Error: 0.03432614078384149\n",
      "\n",
      "Train set metrics:\n",
      "MSE: 0.008457943477384067\n",
      "R-squared: 0.9355065135019212\n",
      "\n",
      "Test set metrics:\n",
      "MSE: 0.03432614078384149\n",
      "R-squared: 0.7357049259104158 \n",
      "\n",
      "COMB4ILLM      0.267729\n",
      "COMB4DLBM      0.262804\n",
      "COMB4DLFM      0.060045\n",
      "COMB1PRSEX     0.058591\n",
      "COMB1PRAGE     0.217393\n",
      "COMB4P1A       0.070852\n",
      "COMB4DLFNMD    0.062587\n",
      "dtype: float64\n"
     ]
    }
   ],
   "source": [
    "#DXA: Jump Power (LEGS)\n",
    "\n",
    "print(\"Random Forest: DXA Model, Jump Power (Legs)\")\n",
    "\n",
    "train_test_random_forest(df, ['COMB4ILLM', 'COMB4DLBM', 'COMB4DLFM', 'COMB1PRSEX', 'COMB1PRAGE', 'COMB4P1A', 'COMB4DLFNMD'], 'tjumppownums')"
   ]
  },
  {
   "cell_type": "code",
   "execution_count": 97,
   "id": "827fcfef",
   "metadata": {
    "scrolled": true
   },
   "outputs": [
    {
     "name": "stdout",
     "output_type": "stream",
     "text": [
      "Random Forest: DXA Model, Jump Power (TB)\n",
      "Best parameters: {'max_depth': None, 'max_features': 8, 'min_samples_leaf': 2, 'min_samples_split': 10, 'n_estimators': 20}\n",
      "Mean Squared Error: 0.034639138417018885\n",
      "\n",
      "Train set metrics:\n",
      "MSE: 0.01659683698601998\n",
      "R-squared: 0.8734458459162283\n",
      "\n",
      "Test set metrics:\n",
      "MSE: 0.034639138417018885\n",
      "R-squared: 0.7332949919428484 \n",
      "\n",
      "COMB4IALM        0.435438\n",
      "COMB4DTBBM       0.122820\n",
      "COMB4DTBFM       0.047682\n",
      "COMB1PRSEX       0.045840\n",
      "COMB1PRAGE       0.239257\n",
      "COMB4P1A         0.038462\n",
      "COMB4DLR3MD      0.024423\n",
      "COMB4DLFNMD      0.023693\n",
      "COMB4DLSL14MD    0.022386\n",
      "dtype: float64\n"
     ]
    }
   ],
   "source": [
    "#DXA: Jump Power (TOTAL BODY)\n",
    "\n",
    "print(\"Random Forest: DXA Model, Jump Power (TB)\")\n",
    "\n",
    "train_test_random_forest(df, ['COMB4IALM', 'COMB4DTBBM', 'COMB4DTBFM', 'COMB1PRSEX', 'COMB1PRAGE', 'COMB4P1A', 'COMB4DLR3MD', 'COMB4DLFNMD', 'COMB4DLSL14MD'], 'tjumppownums')"
   ]
  },
  {
   "cell_type": "code",
   "execution_count": 98,
   "id": "e87ed1cf",
   "metadata": {
    "scrolled": true
   },
   "outputs": [
    {
     "name": "stdout",
     "output_type": "stream",
     "text": [
      "Random Forest: BIS Model, Handgrip Strength\n",
      "Best parameters: {'max_depth': 4, 'max_features': 8, 'min_samples_leaf': 8, 'min_samples_split': 1, 'n_estimators': 5}\n",
      "Mean Squared Error: 0.5335717482503435\n",
      "\n",
      "Train set metrics:\n",
      "MSE: 0.4202205134174768\n",
      "R-squared: 0.6206080783982364\n",
      "\n",
      "Test set metrics:\n",
      "MSE: 0.5335717482503435\n",
      "R-squared: 0.3886933097097188 \n",
      "\n",
      "COMB4IMECF      0.005497\n",
      "COMB4IMICF      0.014433\n",
      "COMB4IMFFM      0.079380\n",
      "COMB4DTBFM      0.047048\n",
      "COMB4IRES0      0.003911\n",
      "COMB4IRESINF    0.025725\n",
      "COMB4IRESEXC    0.007084\n",
      "COMB4IRESINC    0.014386\n",
      "COMB4IFCHAR     0.026523\n",
      "COMB4IMCAP      0.034890\n",
      "COMB1PRSEX      0.240722\n",
      "COMB1PRAGE      0.058735\n",
      "COMB4P1A        0.441668\n",
      "dtype: float64\n"
     ]
    }
   ],
   "source": [
    "#BIS: Handgrip Strength\n",
    "\n",
    "print(\"Random Forest: BIS Model, Handgrip Strength\")\n",
    "\n",
    "train_test_random_forest(df, ['COMB4IMECF', 'COMB4IMICF', 'COMB4IMFFM', 'COMB4DTBFM', 'COMB4IRES0', 'COMB4IRESINF', 'COMB4IRESEXC', 'COMB4IRESINC', 'COMB4IFCHAR', 'COMB4IMCAP', 'COMB1PRSEX', 'COMB1PRAGE', 'COMB4P1A'], 'tCOMB4IMaxGrip')"
   ]
  },
  {
   "cell_type": "code",
   "execution_count": 99,
   "id": "da9c22d0",
   "metadata": {
    "scrolled": true
   },
   "outputs": [
    {
     "name": "stdout",
     "output_type": "stream",
     "text": [
      "Random Forest: BIS Model, Jump Power\n",
      "Best parameters: {'max_depth': 16, 'max_features': 13, 'min_samples_leaf': 2, 'min_samples_split': 5, 'n_estimators': 20}\n",
      "Mean Squared Error: 0.03725472079599646\n",
      "\n",
      "Train set metrics:\n",
      "MSE: 0.01183245899256238\n",
      "R-squared: 0.9097751674131647\n",
      "\n",
      "Test set metrics:\n",
      "MSE: 0.03725472079599646\n",
      "R-squared: 0.7131562427897626 \n",
      "\n",
      "COMB4IMECF      0.023734\n",
      "COMB4IMICF      0.080625\n",
      "COMB4IMFFM      0.041055\n",
      "COMB4DTBFM      0.028018\n",
      "COMB4IRES0      0.022546\n",
      "COMB4IRESINF    0.011644\n",
      "COMB4IRESEXC    0.011550\n",
      "COMB4IRESINC    0.029357\n",
      "COMB4IFCHAR     0.061855\n",
      "COMB4IMCAP      0.243573\n",
      "COMB1PRSEX      0.103335\n",
      "COMB1PRAGE      0.218421\n",
      "COMB4P1A        0.124288\n",
      "dtype: float64\n"
     ]
    }
   ],
   "source": [
    "#BIS: Jump Power\n",
    "\n",
    "print(\"Random Forest: BIS Model, Jump Power\")\n",
    "\n",
    "train_test_random_forest(df, ['COMB4IMECF', 'COMB4IMICF', 'COMB4IMFFM', 'COMB4DTBFM', 'COMB4IRES0', 'COMB4IRESINF', 'COMB4IRESEXC', 'COMB4IRESINC', 'COMB4IFCHAR', 'COMB4IMCAP', 'COMB1PRSEX', 'COMB1PRAGE', 'COMB4P1A'], 'tjumppownums')"
   ]
  },
  {
   "cell_type": "code",
   "execution_count": 100,
   "id": "ec11f3c8",
   "metadata": {
    "scrolled": true
   },
   "outputs": [
    {
     "name": "stdout",
     "output_type": "stream",
     "text": [
      "Random Forest: Combo Models, Handgrip Strength (Arms)\n",
      "Best parameters: {'max_depth': 16, 'max_features': 1, 'min_samples_leaf': 1, 'min_samples_split': 1, 'n_estimators': 20}\n",
      "Mean Squared Error: 0.5476929171400978\n",
      "\n",
      "Train set metrics:\n",
      "MSE: 0.09392989992467701\n",
      "R-squared: 0.9151963217157821\n",
      "\n",
      "Test set metrics:\n",
      "MSE: 0.5476929171400978\n",
      "R-squared: 0.37251485752342417 \n",
      "\n",
      "COMB4DALM       0.079282\n",
      "COMB4DABM       0.099317\n",
      "COMB4DAFM       0.042023\n",
      "COMB1PRSEX      0.079703\n",
      "COMB1PRAGE      0.043118\n",
      "COMB4P1A        0.082755\n",
      "COMB4DLR3MD     0.069634\n",
      "COMB4IMECF      0.047458\n",
      "COMB4IMICF      0.068073\n",
      "COMB4IMFFM      0.065056\n",
      "COMB4DTBFM      0.046821\n",
      "COMB4IRES0      0.036174\n",
      "COMB4IRESINF    0.042292\n",
      "COMB4IRESEXC    0.039163\n",
      "COMB4IRESINC    0.058239\n",
      "COMB4IFCHAR     0.057498\n",
      "COMB4IMCAP      0.043392\n",
      "dtype: float64\n"
     ]
    }
   ],
   "source": [
    "#COMBO: Handgrip Strength (ARMS)\n",
    "\n",
    "print(\"Random Forest: Combo Models, Handgrip Strength (Arms)\")\n",
    "\n",
    "train_test_random_forest(df, ['COMB4DALM', 'COMB4DABM', 'COMB4DAFM', 'COMB1PRSEX', 'COMB1PRAGE', 'COMB4P1A', 'COMB4DLR3MD', 'COMB4IMECF', 'COMB4IMICF', 'COMB4IMFFM', 'COMB4DTBFM', 'COMB4IRES0', 'COMB4IRESINF', 'COMB4IRESEXC', 'COMB4IRESINC', 'COMB4IFCHAR', 'COMB4IMCAP'], 'tCOMB4IMaxGrip')"
   ]
  },
  {
   "cell_type": "code",
   "execution_count": 101,
   "id": "96ab5eba",
   "metadata": {
    "scrolled": true
   },
   "outputs": [
    {
     "name": "stdout",
     "output_type": "stream",
     "text": [
      "Random Forest: Combo Models, Handgrip Strength (TB)\n",
      "Best parameters: {'max_depth': None, 'max_features': 4, 'min_samples_leaf': 2, 'min_samples_split': 5, 'n_estimators': 20}\n",
      "Mean Squared Error: 0.6058466408382025\n",
      "\n",
      "Train set metrics:\n",
      "MSE: 0.16155274385354995\n",
      "R-squared: 0.8541437079494875\n",
      "\n",
      "Test set metrics:\n",
      "MSE: 0.6058466408382025\n",
      "R-squared: 0.30588884053786136 \n",
      "\n",
      "COMB4IALM        0.073413\n",
      "COMB4DTBBM       0.080002\n",
      "COMB4DTBFM       0.034977\n",
      "COMB1PRSEX       0.087965\n",
      "COMB1PRAGE       0.035089\n",
      "COMB4P1A         0.203463\n",
      "COMB4DLR3MD      0.083524\n",
      "COMB4DLFNMD      0.021510\n",
      "COMB4DLSL14MD    0.028459\n",
      "COMB4IMECF       0.041587\n",
      "COMB4IMICF       0.030701\n",
      "COMB4IMFFM       0.046991\n",
      "COMB4DTBFM       0.047101\n",
      "COMB4IRES0       0.027537\n",
      "COMB4IRESINF     0.021963\n",
      "COMB4IRESEXC     0.013692\n",
      "COMB4IRESINC     0.052320\n",
      "COMB4IFCHAR      0.039299\n",
      "COMB4IMCAP       0.030405\n",
      "dtype: float64\n"
     ]
    }
   ],
   "source": [
    "#COMBO: Handgrip Strength (TOTAL BODY)\n",
    "\n",
    "print(\"Random Forest: Combo Models, Handgrip Strength (TB)\")\n",
    "\n",
    "train_test_random_forest(df, ['COMB4IALM', 'COMB4DTBBM', 'COMB4DTBFM', 'COMB1PRSEX', 'COMB1PRAGE', 'COMB4P1A', 'COMB4DLR3MD', 'COMB4DLFNMD', 'COMB4DLSL14MD', 'COMB4IMECF', 'COMB4IMICF','COMB4IMFFM', 'COMB4DTBFM', 'COMB4IRES0', 'COMB4IRESINF', 'COMB4IRESEXC', 'COMB4IRESINC', 'COMB4IFCHAR', 'COMB4IMCAP'], 'tCOMB4IMaxGrip')"
   ]
  },
  {
   "cell_type": "code",
   "execution_count": 102,
   "id": "92ce725a",
   "metadata": {
    "scrolled": true
   },
   "outputs": [
    {
     "name": "stdout",
     "output_type": "stream",
     "text": [
      "Random Forest: Combo Models, Jump Power (Legs)\n",
      "Best parameters: {'max_depth': None, 'max_features': 17, 'min_samples_leaf': 1, 'min_samples_split': 10, 'n_estimators': 20}\n",
      "Mean Squared Error: 0.03315274697233576\n",
      "\n",
      "Train set metrics:\n",
      "MSE: 0.013733158239729065\n",
      "R-squared: 0.8952819609307815\n",
      "\n",
      "Test set metrics:\n",
      "MSE: 0.03315274697233576\n",
      "R-squared: 0.7447395041434036 \n",
      "\n",
      "COMB4ILLM       0.110900\n",
      "COMB4DLBM       0.272595\n",
      "COMB4DLFM       0.010917\n",
      "COMB1PRSEX      0.004399\n",
      "COMB1PRAGE      0.193647\n",
      "COMB4P1A        0.039944\n",
      "COMB4DLFNMD     0.013584\n",
      "COMB4IMECF      0.010851\n",
      "COMB4IMICF      0.046590\n",
      "COMB4IMFFM      0.005961\n",
      "COMB4DTBFM      0.035148\n",
      "COMB4IRES0      0.010326\n",
      "COMB4IRESINF    0.005999\n",
      "COMB4IRESEXC    0.012256\n",
      "COMB4IRESINC    0.030904\n",
      "COMB4IFCHAR     0.058250\n",
      "COMB4IMCAP      0.137728\n",
      "dtype: float64\n"
     ]
    }
   ],
   "source": [
    "#COMBO: Jump Power (LEGS)\n",
    "\n",
    "print(\"Random Forest: Combo Models, Jump Power (Legs)\")\n",
    "\n",
    "train_test_random_forest(df, ['COMB4ILLM', 'COMB4DLBM', 'COMB4DLFM', 'COMB1PRSEX', 'COMB1PRAGE', 'COMB4P1A', 'COMB4DLFNMD', 'COMB4IMECF', 'COMB4IMICF', 'COMB4IMFFM', 'COMB4DTBFM', 'COMB4IRES0', 'COMB4IRESINF', 'COMB4IRESEXC', 'COMB4IRESINC', 'COMB4IFCHAR', 'COMB4IMCAP'], 'tjumppownums')"
   ]
  },
  {
   "cell_type": "code",
   "execution_count": 103,
   "id": "dad2a9ff",
   "metadata": {
    "scrolled": true
   },
   "outputs": [
    {
     "name": "stdout",
     "output_type": "stream",
     "text": [
      "Random Forest: Combo Models, Jump Power (TB)\n",
      "Best parameters: {'max_depth': 8, 'max_features': 19, 'min_samples_leaf': 2, 'min_samples_split': 5, 'n_estimators': 20}\n",
      "Mean Squared Error: 0.03092390614062327\n",
      "\n",
      "Train set metrics:\n",
      "MSE: 0.011644069170392308\n",
      "R-squared: 0.9112116769482531\n",
      "\n",
      "Test set metrics:\n",
      "MSE: 0.03092390614062327\n",
      "R-squared: 0.7619005260147769 \n",
      "\n",
      "COMB4IALM        0.312205\n",
      "COMB4DTBBM       0.084248\n",
      "COMB4DTBFM       0.013182\n",
      "COMB1PRSEX       0.042987\n",
      "COMB1PRAGE       0.191255\n",
      "COMB4P1A         0.038271\n",
      "COMB4DLR3MD      0.014858\n",
      "COMB4DLFNMD      0.013623\n",
      "COMB4DLSL14MD    0.013138\n",
      "COMB4IMECF       0.007661\n",
      "COMB4IMICF       0.023891\n",
      "COMB4IMFFM       0.012707\n",
      "COMB4DTBFM       0.021410\n",
      "COMB4IRES0       0.015832\n",
      "COMB4IRESINF     0.004292\n",
      "COMB4IRESEXC     0.012097\n",
      "COMB4IRESINC     0.017812\n",
      "COMB4IFCHAR      0.051679\n",
      "COMB4IMCAP       0.108852\n",
      "dtype: float64\n"
     ]
    }
   ],
   "source": [
    "#COMBO: Jump Power (TOTAL BODY)\n",
    "\n",
    "print(\"Random Forest: Combo Models, Jump Power (TB)\")\n",
    "\n",
    "train_test_random_forest(df, ['COMB4IALM', 'COMB4DTBBM', 'COMB4DTBFM', 'COMB1PRSEX', 'COMB1PRAGE', 'COMB4P1A', 'COMB4DLR3MD', 'COMB4DLFNMD', 'COMB4DLSL14MD', 'COMB4IMECF', 'COMB4IMICF','COMB4IMFFM', 'COMB4DTBFM', 'COMB4IRES0', 'COMB4IRESINF', 'COMB4IRESEXC', 'COMB4IRESINC', 'COMB4IFCHAR', 'COMB4IMCAP'], 'tjumppownums')"
   ]
  }
 ],
 "metadata": {
  "kernelspec": {
   "display_name": "Python 3 (ipykernel)",
   "language": "python",
   "name": "python3"
  },
  "language_info": {
   "codemirror_mode": {
    "name": "ipython",
    "version": 3
   },
   "file_extension": ".py",
   "mimetype": "text/x-python",
   "name": "python",
   "nbconvert_exporter": "python",
   "pygments_lexer": "ipython3",
   "version": "3.10.8"
  }
 },
 "nbformat": 4,
 "nbformat_minor": 5
}
