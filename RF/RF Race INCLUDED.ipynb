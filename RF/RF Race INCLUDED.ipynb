{
 "cells": [
  {
   "cell_type": "markdown",
   "id": "2304d931",
   "metadata": {},
   "source": [
    "# Including Race"
   ]
  },
  {
   "cell_type": "code",
   "execution_count": 2,
   "id": "2777dd15",
   "metadata": {},
   "outputs": [],
   "source": [
    "import pandas as pd\n",
    "import numpy as np\n",
    "from sklearn.model_selection import train_test_split\n",
    "from sklearn.model_selection import GridSearchCV\n",
    "from sklearn import metrics\n",
    "from sklearn.ensemble import RandomForestRegressor\n",
    "\n",
    "#loading data\n",
    "data = pd.read_csv('/Users/yunjuha/Desktop/MIDUS3/ML Models/Combined_MIDUS3_Refresher.csv')\n",
    "df = pd.DataFrame(data)\n",
    "\n",
    "#TRANSFORMING THE TARGETS\n",
    "df['tjumppownums'] = np.log(df['jumppownums'] + 0.1)\n",
    "df['tCOMB4IMaxGrip'] = np.sqrt(df['COMB4IMaxGrip'])\n",
    "\n",
    "#dropping columns\n",
    "column_to_drop = ['M2ID', 'MIDUSID', 'SAMPLMAJ', 'Height.cm.', 'Weight.kg.', 'Age.years.', 'TBW.litres.', 'ECF.litres.', 'ICF.litres.']\n",
    "df = df.drop(column_to_drop, axis=1)"
   ]
  },
  {
   "cell_type": "code",
   "execution_count": 4,
   "id": "d16e37a9",
   "metadata": {},
   "outputs": [
    {
     "name": "stdout",
     "output_type": "stream",
     "text": [
      "544\n"
     ]
    }
   ],
   "source": [
    "#number of individuals before NA is removed\n",
    "print(len(df))"
   ]
  },
  {
   "cell_type": "code",
   "execution_count": 5,
   "id": "37e0a509",
   "metadata": {},
   "outputs": [
    {
     "name": "stdout",
     "output_type": "stream",
     "text": [
      "422\n"
     ]
    }
   ],
   "source": [
    "#this is the number of people we have when race IS INCLUDED\n",
    "df = df.dropna()\n",
    "print(len(df))"
   ]
  },
  {
   "cell_type": "code",
   "execution_count": 6,
   "id": "fd450ab9",
   "metadata": {},
   "outputs": [
    {
     "name": "stdout",
     "output_type": "stream",
     "text": [
      "413\n"
     ]
    }
   ],
   "source": [
    "#counting the total number of individuals who are white or black (ignore the other races for now...)\n",
    "race = (df['COMB1PF7A'] == 1) | (df['COMB1PF7A'] == 2)\n",
    "df = df[race]\n",
    "\n",
    "print(len(df))"
   ]
  },
  {
   "cell_type": "markdown",
   "id": "2ef05585",
   "metadata": {},
   "source": [
    "# Random Forest"
   ]
  },
  {
   "cell_type": "code",
   "execution_count": 7,
   "id": "f83f8bf1",
   "metadata": {},
   "outputs": [],
   "source": [
    "#Random Forest Function\n",
    "\n",
    "def train_test_random_forest(df, feature_columns, target_column, test_size=0.2, random_state=42):\n",
    "    columns = feature_columns + [target_column]\n",
    "    X = df[columns]\n",
    "    \n",
    "    y = X.pop(target_column)\n",
    "    \n",
    "    #dividing our data set into train and test set\n",
    "    X_train, X_test, y_train, y_test = train_test_split(X, y, test_size=test_size, random_state=random_state)\n",
    "\n",
    "    #random forest model\n",
    "    param_grid = { #our hyperparameters\n",
    "        'n_estimators': [5, 10, 20],\n",
    "        'max_depth': [None, 1, 2, 4, 8, 16],\n",
    "        'min_samples_split': [1, 2, 5, 10, 20],\n",
    "        'min_samples_leaf': [1, 2, 4, 8],\n",
    "        'max_features': [1, 2, 4, 8, X_train.shape[1]]\n",
    "    }\n",
    "\n",
    "    rf_model = RandomForestRegressor(random_state=42)\n",
    "\n",
    "    #performing gridsearch to find best hyperparameters\n",
    "    grid_search = GridSearchCV(estimator=rf_model, param_grid=param_grid, cv=3, n_jobs=-1)\n",
    "    grid_search.fit(X_train, y_train)\n",
    "\n",
    "    best_params = grid_search.best_params_\n",
    "    best_rf_model = grid_search.best_estimator_\n",
    "\n",
    "    y_pred = best_rf_model.predict(X_test)\n",
    "    mse = metrics.mean_squared_error(y_test, y_pred)\n",
    "    print(\"Best parameters:\", best_params)\n",
    "    print(\"Mean Squared Error:\", mse)\n",
    "\n",
    "    #fitting with BEST HYPERPARAMETERS\n",
    "    rf = RandomForestRegressor(max_depth = best_params['max_depth'],\n",
    "                           min_samples_leaf = best_params['min_samples_leaf'], \n",
    "                           min_samples_split = best_params['min_samples_split'], \n",
    "                           n_estimators = best_params['n_estimators'], \n",
    "                           max_features = best_params['max_features'],random_state = 42)\n",
    "    rf.fit(X_train, y_train)\n",
    "\n",
    "    #evaluation of the model on the TRAINING set\n",
    "    y_train_pred = rf.predict(X_train)\n",
    "    mse_train = metrics.mean_squared_error(y_train, y_train_pred)\n",
    "    r2_train_11 = metrics.r2_score(y_train, y_train_pred)\n",
    "    print(\"\\nTrain set metrics:\")\n",
    "    print(\"MSE:\", mse_train)\n",
    "    print(\"R-squared:\", r2_train_11)\n",
    "\n",
    "    y_test_pred = rf.predict(X_test)\n",
    "\n",
    "    #evaluation of the model on TESTING set\n",
    "    mse_test = metrics.mean_squared_error(y_test, y_test_pred)\n",
    "    r2_test_11 = metrics.r2_score(y_test, y_test_pred)\n",
    "    print(\"\\nTest set metrics:\")\n",
    "    print(\"MSE:\", mse_test)\n",
    "    print(\"R-squared:\", r2_test_11, \"\\n\")\n",
    "\n",
    "    #feature importance??\n",
    "    feature_importances = pd.Series(rf.feature_importances_, index=X.columns)\n",
    "    print(feature_importances)\n",
    "        \n",
    "    #count the frequencies in training data\n",
    "    white_train_counts = X_train[X_train['COMB1PF7A'] == 1]['COMB1PF7A'].value_counts()\n",
    "    white_test_counts = X_test[X_test['COMB1PF7A'] == 1]['COMB1PF7A'].value_counts()\n",
    "\n",
    "    black_train_counts = X_train[X_train['COMB1PF7A'] == 2]['COMB1PF7A'].value_counts()\n",
    "    black_test_counts = X_test[X_test['COMB1PF7A'] == 2]['COMB1PF7A'].value_counts()\n",
    "    \n",
    "    print(\"white train frequency: \", white_train_counts.values[0])\n",
    "    print(\"white test frequency: \", white_test_counts.values[0], \"\\n\")\n",
    "    \n",
    "    print(\"black train frequency: \", black_train_counts.values[0])\n",
    "    print(\"black test frequency: \", black_test_counts.values[0])"
   ]
  },
  {
   "cell_type": "code",
   "execution_count": 44,
   "id": "a59f290c",
   "metadata": {
    "scrolled": true
   },
   "outputs": [
    {
     "name": "stdout",
     "output_type": "stream",
     "text": [
      "Random Forest: DXA Model, Handgrip Strength (Arms)\n",
      "Best parameters: {'max_depth': 4, 'max_features': 2, 'min_samples_leaf': 2, 'min_samples_split': 1, 'n_estimators': 10}\n",
      "Mean Squared Error: 0.44657126802326336\n",
      "\n",
      "Train set metrics:\n",
      "MSE: 0.39884262929731285\n",
      "R-squared: 0.6144393124846439\n",
      "\n",
      "Test set metrics:\n",
      "MSE: 0.44657126802326336\n",
      "R-squared: 0.53249886278416 \n",
      "\n",
      "COMB1PF7A      0.004592\n",
      "COMB4DALM      0.167855\n",
      "COMB4DABM      0.263230\n",
      "COMB4DAFM      0.044238\n",
      "COMB1PRSEX     0.266296\n",
      "COMB1PRAGE     0.033722\n",
      "COMB4P1A       0.169481\n",
      "COMB4DLR3MD    0.050587\n",
      "dtype: float64\n",
      "white train frequency:  251\n",
      "white test frequency:  62 \n",
      "\n",
      "black train frequency:  79\n",
      "black test frequency:  21\n"
     ]
    }
   ],
   "source": [
    "#DXA: Handgrip Strength (ARMS)\n",
    "\n",
    "print(\"Random Forest: DXA Model, Handgrip Strength (Arms)\")\n",
    "\n",
    "train_test_random_forest(df, ['COMB1PF7A', 'COMB4DALM', 'COMB4DABM', 'COMB4DAFM', 'COMB1PRSEX', 'COMB1PRAGE', 'COMB4P1A', 'COMB4DLR3MD'], 'tCOMB4IMaxGrip')"
   ]
  },
  {
   "cell_type": "code",
   "execution_count": 45,
   "id": "830bb897",
   "metadata": {
    "scrolled": true
   },
   "outputs": [
    {
     "name": "stdout",
     "output_type": "stream",
     "text": [
      "Random Forest: DXA Model, Handgrip Strength (TB)\n",
      "Best parameters: {'max_depth': 4, 'max_features': 8, 'min_samples_leaf': 2, 'min_samples_split': 10, 'n_estimators': 20}\n",
      "Mean Squared Error: 0.5154613249487807\n",
      "\n",
      "Train set metrics:\n",
      "MSE: 0.35498232883997266\n",
      "R-squared: 0.6568390119068344\n",
      "\n",
      "Test set metrics:\n",
      "MSE: 0.5154613249487807\n",
      "R-squared: 0.46038007176094176 \n",
      "\n",
      "COMB1PF7A        0.000331\n",
      "COMB4IALM        0.079951\n",
      "COMB4DTBBM       0.033275\n",
      "COMB4DTBFM       0.034865\n",
      "COMB1PRSEX       0.521460\n",
      "COMB1PRAGE       0.030248\n",
      "COMB4P1A         0.179256\n",
      "COMB4DLR3MD      0.075413\n",
      "COMB4DLFNMD      0.021641\n",
      "COMB4DLSL14MD    0.023561\n",
      "dtype: float64\n",
      "white train frequency:  251\n",
      "white test frequency:  62 \n",
      "\n",
      "black train frequency:  79\n",
      "black test frequency:  21\n"
     ]
    }
   ],
   "source": [
    "#DXA: Handgrip Strength (TOTAL BODY)\n",
    "\n",
    "print(\"Random Forest: DXA Model, Handgrip Strength (TB)\")\n",
    "\n",
    "train_test_random_forest(df, ['COMB1PF7A', 'COMB4IALM', 'COMB4DTBBM', 'COMB4DTBFM', 'COMB1PRSEX', 'COMB1PRAGE', 'COMB4P1A', 'COMB4DLR3MD', 'COMB4DLFNMD', 'COMB4DLSL14MD'], 'tCOMB4IMaxGrip')"
   ]
  },
  {
   "cell_type": "code",
   "execution_count": 46,
   "id": "da7e1789",
   "metadata": {
    "scrolled": true
   },
   "outputs": [
    {
     "name": "stdout",
     "output_type": "stream",
     "text": [
      "Random Forest: DXA Model, Jump Power (Legs)\n",
      "Best parameters: {'max_depth': None, 'max_features': 4, 'min_samples_leaf': 1, 'min_samples_split': 5, 'n_estimators': 20}\n",
      "Mean Squared Error: 0.0320661479872633\n",
      "\n",
      "Train set metrics:\n",
      "MSE: 0.009412340555681228\n",
      "R-squared: 0.9268812809151483\n",
      "\n",
      "Test set metrics:\n",
      "MSE: 0.0320661479872633\n",
      "R-squared: 0.7648259121460748 \n",
      "\n",
      "COMB1PF7A      0.003438\n",
      "COMB4ILLM      0.295291\n",
      "COMB4DLBM      0.240072\n",
      "COMB4DLFM      0.048140\n",
      "COMB1PRSEX     0.011164\n",
      "COMB1PRAGE     0.242393\n",
      "COMB4P1A       0.125052\n",
      "COMB4DLFNMD    0.034450\n",
      "dtype: float64\n",
      "white train frequency:  251\n",
      "white test frequency:  62 \n",
      "\n",
      "black train frequency:  79\n",
      "black test frequency:  21\n"
     ]
    }
   ],
   "source": [
    "#DXA: Jump Power (LEGS)\n",
    "\n",
    "print(\"Random Forest: DXA Model, Jump Power (Legs)\")\n",
    "\n",
    "train_test_random_forest(df, ['COMB1PF7A', 'COMB4ILLM', 'COMB4DLBM', 'COMB4DLFM', 'COMB1PRSEX', 'COMB1PRAGE', 'COMB4P1A', 'COMB4DLFNMD'], 'tjumppownums')"
   ]
  },
  {
   "cell_type": "code",
   "execution_count": 47,
   "id": "88e20810",
   "metadata": {
    "scrolled": true
   },
   "outputs": [
    {
     "name": "stdout",
     "output_type": "stream",
     "text": [
      "Random Forest: DXA Model, Jump Power (TB)\n",
      "Best parameters: {'max_depth': 8, 'max_features': 8, 'min_samples_leaf': 2, 'min_samples_split': 5, 'n_estimators': 20}\n",
      "Mean Squared Error: 0.03683804220376537\n",
      "\n",
      "Train set metrics:\n",
      "MSE: 0.01128241386277427\n",
      "R-squared: 0.9123538247526233\n",
      "\n",
      "Test set metrics:\n",
      "MSE: 0.03683804220376537\n",
      "R-squared: 0.7298286973216734 \n",
      "\n",
      "COMB1PF7A        0.001086\n",
      "COMB4IALM        0.516556\n",
      "COMB4DTBBM       0.106744\n",
      "COMB4DTBFM       0.031383\n",
      "COMB1PRSEX       0.001677\n",
      "COMB1PRAGE       0.210139\n",
      "COMB4P1A         0.049992\n",
      "COMB4DLR3MD      0.028154\n",
      "COMB4DLFNMD      0.023678\n",
      "COMB4DLSL14MD    0.030592\n",
      "dtype: float64\n",
      "white train frequency:  251\n",
      "white test frequency:  62 \n",
      "\n",
      "black train frequency:  79\n",
      "black test frequency:  21\n"
     ]
    }
   ],
   "source": [
    "#DXA: Jump Power (TOTAL BODY)\n",
    "\n",
    "print(\"Random Forest: DXA Model, Jump Power (TB)\")\n",
    "\n",
    "train_test_random_forest(df, ['COMB1PF7A', 'COMB4IALM', 'COMB4DTBBM', 'COMB4DTBFM', 'COMB1PRSEX', 'COMB1PRAGE', 'COMB4P1A', 'COMB4DLR3MD', 'COMB4DLFNMD', 'COMB4DLSL14MD'], 'tjumppownums')"
   ]
  },
  {
   "cell_type": "code",
   "execution_count": 48,
   "id": "eba6df03",
   "metadata": {
    "scrolled": true
   },
   "outputs": [
    {
     "name": "stdout",
     "output_type": "stream",
     "text": [
      "Random Forest: BIS Model, Handgrip Strength\n",
      "Best parameters: {'max_depth': 8, 'max_features': 8, 'min_samples_leaf': 4, 'min_samples_split': 10, 'n_estimators': 20}\n",
      "Mean Squared Error: 0.5057526593300937\n",
      "\n",
      "Train set metrics:\n",
      "MSE: 0.2470638210624888\n",
      "R-squared: 0.7611637028949205\n",
      "\n",
      "Test set metrics:\n",
      "MSE: 0.5057526593300937\n",
      "R-squared: 0.4705437624024724 \n",
      "\n",
      "COMB1PF7A       0.003704\n",
      "COMB4IMECF      0.105537\n",
      "COMB4IMICF      0.056053\n",
      "COMB4IMFFM      0.045998\n",
      "COMB4DTBFM      0.047665\n",
      "COMB4IRES0      0.018222\n",
      "COMB4IRESINF    0.025672\n",
      "COMB4IRESEXC    0.017271\n",
      "COMB4IRESINC    0.034851\n",
      "COMB4IFCHAR     0.053925\n",
      "COMB4IMCAP      0.061525\n",
      "COMB1PRSEX      0.340812\n",
      "COMB1PRAGE      0.050574\n",
      "COMB4P1A        0.138191\n",
      "dtype: float64\n",
      "white train frequency:  251\n",
      "white test frequency:  62 \n",
      "\n",
      "black train frequency:  79\n",
      "black test frequency:  21\n"
     ]
    }
   ],
   "source": [
    "#BIS: Handgrip Strength\n",
    "\n",
    "print(\"Random Forest: BIS Model, Handgrip Strength\")\n",
    "\n",
    "train_test_random_forest(df, ['COMB1PF7A', 'COMB4IMECF', 'COMB4IMICF', 'COMB4IMFFM', 'COMB4DTBFM', 'COMB4IRES0', 'COMB4IRESINF', 'COMB4IRESEXC', 'COMB4IRESINC', 'COMB4IFCHAR', 'COMB4IMCAP', 'COMB1PRSEX', 'COMB1PRAGE', 'COMB4P1A'], 'tCOMB4IMaxGrip')"
   ]
  },
  {
   "cell_type": "code",
   "execution_count": 49,
   "id": "4225bb65",
   "metadata": {
    "scrolled": true
   },
   "outputs": [
    {
     "name": "stdout",
     "output_type": "stream",
     "text": [
      "Random Forest: BIS Model, Jump Power\n",
      "Best parameters: {'max_depth': 16, 'max_features': 4, 'min_samples_leaf': 1, 'min_samples_split': 5, 'n_estimators': 20}\n",
      "Mean Squared Error: 0.045631931890548406\n",
      "\n",
      "Train set metrics:\n",
      "MSE: 0.009124185488330184\n",
      "R-squared: 0.9291197814557817\n",
      "\n",
      "Test set metrics:\n",
      "MSE: 0.045631931890548406\n",
      "R-squared: 0.6653340474934905 \n",
      "\n",
      "COMB1PF7A       0.006428\n",
      "COMB4IMECF      0.046096\n",
      "COMB4IMICF      0.132052\n",
      "COMB4IMFFM      0.087147\n",
      "COMB4DTBFM      0.030691\n",
      "COMB4IRES0      0.021064\n",
      "COMB4IRESINF    0.038150\n",
      "COMB4IRESEXC    0.023639\n",
      "COMB4IRESINC    0.104663\n",
      "COMB4IFCHAR     0.119930\n",
      "COMB4IMCAP      0.162246\n",
      "COMB1PRSEX      0.005981\n",
      "COMB1PRAGE      0.131306\n",
      "COMB4P1A        0.090609\n",
      "dtype: float64\n",
      "white train frequency:  251\n",
      "white test frequency:  62 \n",
      "\n",
      "black train frequency:  79\n",
      "black test frequency:  21\n"
     ]
    }
   ],
   "source": [
    "#BIS: Jump Power\n",
    "\n",
    "print(\"Random Forest: BIS Model, Jump Power\")\n",
    "\n",
    "train_test_random_forest(df, ['COMB1PF7A', 'COMB4IMECF', 'COMB4IMICF', 'COMB4IMFFM', 'COMB4DTBFM', 'COMB4IRES0', 'COMB4IRESINF', 'COMB4IRESEXC', 'COMB4IRESINC', 'COMB4IFCHAR', 'COMB4IMCAP', 'COMB1PRSEX', 'COMB1PRAGE', 'COMB4P1A'], 'tjumppownums')"
   ]
  },
  {
   "cell_type": "code",
   "execution_count": 50,
   "id": "fe1e22bf",
   "metadata": {
    "scrolled": true
   },
   "outputs": [
    {
     "name": "stdout",
     "output_type": "stream",
     "text": [
      "Random Forest: Combo Models, Handgrip Strength (Arms)\n",
      "Best parameters: {'max_depth': 4, 'max_features': 18, 'min_samples_leaf': 4, 'min_samples_split': 20, 'n_estimators': 10}\n",
      "Mean Squared Error: 0.5052210096742265\n",
      "\n",
      "Train set metrics:\n",
      "MSE: 0.3686615752374748\n",
      "R-squared: 0.6436153009534565\n",
      "\n",
      "Test set metrics:\n",
      "MSE: 0.5052210096742265\n",
      "R-squared: 0.47110032937512736 \n",
      "\n",
      "COMB1PF7A       0.000000\n",
      "COMB4DALM       0.032614\n",
      "COMB4DABM       0.117028\n",
      "COMB4DAFM       0.001651\n",
      "COMB1PRSEX      0.597383\n",
      "COMB1PRAGE      0.030702\n",
      "COMB4P1A        0.058485\n",
      "COMB4DLR3MD     0.034424\n",
      "COMB4IMECF      0.013326\n",
      "COMB4IMICF      0.020323\n",
      "COMB4IMFFM      0.006799\n",
      "COMB4DTBFM      0.021133\n",
      "COMB4IRES0      0.000000\n",
      "COMB4IRESINF    0.003970\n",
      "COMB4IRESEXC    0.001865\n",
      "COMB4IRESINC    0.006343\n",
      "COMB4IFCHAR     0.023422\n",
      "COMB4IMCAP      0.030530\n",
      "dtype: float64\n",
      "white train frequency:  251\n",
      "white test frequency:  62 \n",
      "\n",
      "black train frequency:  79\n",
      "black test frequency:  21\n"
     ]
    }
   ],
   "source": [
    "#COMBO: Handgrip Strength (ARMS)\n",
    "\n",
    "print(\"Random Forest: Combo Models, Handgrip Strength (Arms)\")\n",
    "\n",
    "train_test_random_forest(df, ['COMB1PF7A', 'COMB4DALM', 'COMB4DABM', 'COMB4DAFM', 'COMB1PRSEX', 'COMB1PRAGE', 'COMB4P1A', 'COMB4DLR3MD', 'COMB4IMECF', 'COMB4IMICF', 'COMB4IMFFM', 'COMB4DTBFM', 'COMB4IRES0', 'COMB4IRESINF', 'COMB4IRESEXC', 'COMB4IRESINC', 'COMB4IFCHAR', 'COMB4IMCAP'], 'tCOMB4IMaxGrip')"
   ]
  },
  {
   "cell_type": "code",
   "execution_count": 51,
   "id": "a2188062",
   "metadata": {
    "scrolled": true
   },
   "outputs": [
    {
     "name": "stdout",
     "output_type": "stream",
     "text": [
      "Random Forest: Combo Models, Handgrip Strength (TB)\n",
      "Best parameters: {'max_depth': None, 'max_features': 20, 'min_samples_leaf': 8, 'min_samples_split': 20, 'n_estimators': 10}\n",
      "Mean Squared Error: 0.4749309162151855\n",
      "\n",
      "Train set metrics:\n",
      "MSE: 0.33852830359120845\n",
      "R-squared: 0.6727450982208413\n",
      "\n",
      "Test set metrics:\n",
      "MSE: 0.4749309162151855\n",
      "R-squared: 0.5028100566962725 \n",
      "\n",
      "COMB1PF7A        0.000000\n",
      "COMB4IALM        0.033566\n",
      "COMB4DTBBM       0.029337\n",
      "COMB4DTBFM       0.011467\n",
      "COMB1PRSEX       0.627375\n",
      "COMB1PRAGE       0.036862\n",
      "COMB4P1A         0.054138\n",
      "COMB4DLR3MD      0.032586\n",
      "COMB4DLFNMD      0.017118\n",
      "COMB4DLSL14MD    0.021187\n",
      "COMB4IMECF       0.018543\n",
      "COMB4IMICF       0.000957\n",
      "COMB4IMFFM       0.007178\n",
      "COMB4DTBFM       0.012871\n",
      "COMB4IRES0       0.004131\n",
      "COMB4IRESINF     0.003962\n",
      "COMB4IRESEXC     0.004582\n",
      "COMB4IRESINC     0.014221\n",
      "COMB4IFCHAR      0.035849\n",
      "COMB4IMCAP       0.034069\n",
      "dtype: float64\n",
      "white train frequency:  251\n",
      "white test frequency:  62 \n",
      "\n",
      "black train frequency:  79\n",
      "black test frequency:  21\n"
     ]
    }
   ],
   "source": [
    "#COMBO: Handgrip Strength (TOTAL BODY)\n",
    "\n",
    "print(\"Random Forest: Combo Models, Handgrip Strength (TB)\")\n",
    "\n",
    "train_test_random_forest(df, ['COMB1PF7A', 'COMB4IALM', 'COMB4DTBBM', 'COMB4DTBFM', 'COMB1PRSEX', 'COMB1PRAGE', 'COMB4P1A', 'COMB4DLR3MD', 'COMB4DLFNMD', 'COMB4DLSL14MD', 'COMB4IMECF', 'COMB4IMICF','COMB4IMFFM', 'COMB4DTBFM', 'COMB4IRES0', 'COMB4IRESINF', 'COMB4IRESEXC', 'COMB4IRESINC', 'COMB4IFCHAR', 'COMB4IMCAP'], 'tCOMB4IMaxGrip')"
   ]
  },
  {
   "cell_type": "code",
   "execution_count": 52,
   "id": "e647b176",
   "metadata": {
    "scrolled": true
   },
   "outputs": [
    {
     "name": "stdout",
     "output_type": "stream",
     "text": [
      "Random Forest: Combo Models, Jump Power (Legs)\n",
      "Best parameters: {'max_depth': None, 'max_features': 4, 'min_samples_leaf': 1, 'min_samples_split': 5, 'n_estimators': 20}\n",
      "Mean Squared Error: 0.04151959869142085\n",
      "\n",
      "Train set metrics:\n",
      "MSE: 0.008525769592119382\n",
      "R-squared: 0.9337685086827769\n",
      "\n",
      "Test set metrics:\n",
      "MSE: 0.04151959869142085\n",
      "R-squared: 0.6954940221009918 \n",
      "\n",
      "COMB1PF7A       0.000891\n",
      "COMB4ILLM       0.096925\n",
      "COMB4DLBM       0.111705\n",
      "COMB4DLFM       0.018994\n",
      "COMB1PRSEX      0.027637\n",
      "COMB1PRAGE      0.121553\n",
      "COMB4P1A        0.058318\n",
      "COMB4DLFNMD     0.017589\n",
      "COMB4IMECF      0.021737\n",
      "COMB4IMICF      0.098980\n",
      "COMB4IMFFM      0.045864\n",
      "COMB4DTBFM      0.017900\n",
      "COMB4IRES0      0.022065\n",
      "COMB4IRESINF    0.025409\n",
      "COMB4IRESEXC    0.029209\n",
      "COMB4IRESINC    0.056959\n",
      "COMB4IFCHAR     0.095746\n",
      "COMB4IMCAP      0.132519\n",
      "dtype: float64\n",
      "white train frequency:  251\n",
      "white test frequency:  62 \n",
      "\n",
      "black train frequency:  79\n",
      "black test frequency:  21\n"
     ]
    }
   ],
   "source": [
    "#COMBO: Jump Power (LEGS)\n",
    "\n",
    "print(\"Random Forest: Combo Models, Jump Power (Legs)\")\n",
    "\n",
    "train_test_random_forest(df, ['COMB1PF7A', 'COMB4ILLM', 'COMB4DLBM', 'COMB4DLFM', 'COMB1PRSEX', 'COMB1PRAGE', 'COMB4P1A', 'COMB4DLFNMD', 'COMB4IMECF', 'COMB4IMICF', 'COMB4IMFFM', 'COMB4DTBFM', 'COMB4IRES0', 'COMB4IRESINF', 'COMB4IRESEXC', 'COMB4IRESINC', 'COMB4IFCHAR', 'COMB4IMCAP'], 'tjumppownums')"
   ]
  },
  {
   "cell_type": "code",
   "execution_count": 53,
   "id": "9f0a5012",
   "metadata": {
    "scrolled": true
   },
   "outputs": [
    {
     "name": "stdout",
     "output_type": "stream",
     "text": [
      "Random Forest: Combo Models, Jump Power (TB)\n",
      "Best parameters: {'max_depth': 8, 'max_features': 8, 'min_samples_leaf': 1, 'min_samples_split': 1, 'n_estimators': 20}\n",
      "Mean Squared Error: 0.043387997202312685\n",
      "\n",
      "Train set metrics:\n",
      "MSE: 0.0072925875517212526\n",
      "R-squared: 0.9433483459888049\n",
      "\n",
      "Test set metrics:\n",
      "MSE: 0.043387997202312685\n",
      "R-squared: 0.68179113157229 \n",
      "\n",
      "COMB1PF7A        0.001211\n",
      "COMB4IALM        0.230469\n",
      "COMB4DTBBM       0.074969\n",
      "COMB4DTBFM       0.022043\n",
      "COMB1PRSEX       0.002638\n",
      "COMB1PRAGE       0.119983\n",
      "COMB4P1A         0.033868\n",
      "COMB4DLR3MD      0.015868\n",
      "COMB4DLFNMD      0.014839\n",
      "COMB4DLSL14MD    0.015556\n",
      "COMB4IMECF       0.010635\n",
      "COMB4IMICF       0.077736\n",
      "COMB4IMFFM       0.012394\n",
      "COMB4DTBFM       0.013801\n",
      "COMB4IRES0       0.022714\n",
      "COMB4IRESINF     0.013724\n",
      "COMB4IRESEXC     0.022371\n",
      "COMB4IRESINC     0.026795\n",
      "COMB4IFCHAR      0.073830\n",
      "COMB4IMCAP       0.194555\n",
      "dtype: float64\n",
      "white train frequency:  251\n",
      "white test frequency:  62 \n",
      "\n",
      "black train frequency:  79\n",
      "black test frequency:  21\n"
     ]
    }
   ],
   "source": [
    "#COMBO: Jump Power (TOTAL BODY)\n",
    "\n",
    "print(\"Random Forest: Combo Models, Jump Power (TB)\")\n",
    "\n",
    "train_test_random_forest(df, ['COMB1PF7A', 'COMB4IALM', 'COMB4DTBBM', 'COMB4DTBFM', 'COMB1PRSEX', 'COMB1PRAGE', 'COMB4P1A', 'COMB4DLR3MD', 'COMB4DLFNMD', 'COMB4DLSL14MD', 'COMB4IMECF', 'COMB4IMICF','COMB4IMFFM', 'COMB4DTBFM', 'COMB4IRES0', 'COMB4IRESINF', 'COMB4IRESEXC', 'COMB4IRESINC', 'COMB4IFCHAR', 'COMB4IMCAP'], 'tjumppownums')"
   ]
  }
 ],
 "metadata": {
  "kernelspec": {
   "display_name": "Python 3 (ipykernel)",
   "language": "python",
   "name": "python3"
  },
  "language_info": {
   "codemirror_mode": {
    "name": "ipython",
    "version": 3
   },
   "file_extension": ".py",
   "mimetype": "text/x-python",
   "name": "python",
   "nbconvert_exporter": "python",
   "pygments_lexer": "ipython3",
   "version": "3.10.8"
  }
 },
 "nbformat": 4,
 "nbformat_minor": 5
}
