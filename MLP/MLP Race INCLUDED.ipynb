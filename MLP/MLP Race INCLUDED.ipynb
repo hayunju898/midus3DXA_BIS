{
 "cells": [
  {
   "cell_type": "markdown",
   "id": "9447f688",
   "metadata": {},
   "source": [
    "# Including Race"
   ]
  },
  {
   "cell_type": "code",
   "execution_count": 3,
   "id": "2777dd15",
   "metadata": {},
   "outputs": [],
   "source": [
    "import pandas as pd\n",
    "import numpy as np\n",
    "from sklearn.model_selection import train_test_split\n",
    "from sklearn import metrics\n",
    "from sklearn.model_selection import GridSearchCV\n",
    "from sklearn.preprocessing import StandardScaler \n",
    "from sklearn.neural_network import MLPRegressor\n",
    "\n",
    "#loading data\n",
    "data = pd.read_csv('/Users/yunjuha/Desktop/ML-DXA-BIS/ML-DXA-BIS_Combined Data.csv')\n",
    "df = pd.DataFrame(data)\n",
    "\n",
    "#TRANSFORMING THE TARGETS\n",
    "df['tjumppownums'] = np.log(df['jumppownums'] + 0.1)\n",
    "df['tCOMB4IMaxGrip'] = np.sqrt(df['COMB4IMaxGrip'])\n",
    "\n",
    "#dropping columns\n",
    "column_to_drop = ['M2ID', 'MIDUSID', 'SAMPLMAJ', 'Height.cm.', 'Weight.kg.', 'Age.years.', 'TBW.litres.', 'ECF.litres.', 'ICF.litres.']\n",
    "df = df.drop(column_to_drop, axis=1)"
   ]
  },
  {
   "cell_type": "code",
   "execution_count": 4,
   "id": "d16e37a9",
   "metadata": {},
   "outputs": [
    {
     "name": "stdout",
     "output_type": "stream",
     "text": [
      "544\n"
     ]
    }
   ],
   "source": [
    "#number of individuals before NA is removed\n",
    "print(len(df))"
   ]
  },
  {
   "cell_type": "code",
   "execution_count": 5,
   "id": "37e0a509",
   "metadata": {},
   "outputs": [
    {
     "name": "stdout",
     "output_type": "stream",
     "text": [
      "422\n"
     ]
    }
   ],
   "source": [
    "#this is the number of people we have when race IS INCLUDED\n",
    "df = df.dropna()\n",
    "print(len(df))"
   ]
  },
  {
   "cell_type": "code",
   "execution_count": 6,
   "id": "fd450ab9",
   "metadata": {},
   "outputs": [
    {
     "name": "stdout",
     "output_type": "stream",
     "text": [
      "413\n"
     ]
    }
   ],
   "source": [
    "#counting the total number of individuals who are white or black (ignore the other races for now...)\n",
    "race = (df['COMB1PF7A'] == 1) | (df['COMB1PF7A'] == 2)\n",
    "df = df[race]\n",
    "\n",
    "print(len(df))"
   ]
  },
  {
   "cell_type": "markdown",
   "id": "935c5732",
   "metadata": {},
   "source": [
    "## Multi-Layer Perceptron"
   ]
  },
  {
   "cell_type": "markdown",
   "id": "1abb0a75",
   "metadata": {},
   "source": [
    "### QUICK NOTE: fitting the mlp with scaling vs no scaling really does not matter because it isn't a good model either way...\n",
    "\n",
    "### we fit our model without scaling (just because with scaling R-Squared values were negative)"
   ]
  },
  {
   "cell_type": "code",
   "execution_count": 7,
   "id": "517f3c3e",
   "metadata": {},
   "outputs": [],
   "source": [
    "#MLP Function\n",
    "def train_test_mlp(df, feature_columns, target_column, test_size=0.2, random_state=42):\n",
    "    columns = feature_columns + [target_column]\n",
    "    X = df[columns]\n",
    "    y = X.pop(target_column)\n",
    "\n",
    "    #splitting our data into train and test sets\n",
    "    X_train, X_test, y_train, y_test = train_test_split(X, y, test_size=test_size, random_state=random_state)\n",
    "\n",
    "    #scaling features\n",
    "    scaler = StandardScaler()\n",
    "    X_train_scaled = scaler.fit_transform(X_train)\n",
    "    X_test_scaled = scaler.transform(X_test)\n",
    "    \n",
    "    param_grid = {\n",
    "        'hidden_layer_sizes': [(100, 100), (50, 50, 50), (200,)],\n",
    "        'activation': ['relu', 'tanh'],\n",
    "        'alpha': [0.0001, 0.001, 0.01],\n",
    "        'max_iter': [1000, 2000, 3000]\n",
    "    }\n",
    "\n",
    "    mlp_model = MLPRegressor(random_state = 42)\n",
    "\n",
    "    #doing grid search with cross-validation to find the best hyperparameters\n",
    "    grid_search = GridSearchCV(estimator=mlp_model, param_grid=param_grid, cv=5, scoring='neg_mean_squared_error')\n",
    "    grid_search.fit(X_train, y_train)\n",
    "\n",
    "    best_param = grid_search.best_params_\n",
    "    \n",
    "    print(\"Best Hyperparameters:\", best_param)\n",
    "\n",
    "    #fitting model with best parameters\n",
    "    best_mlp = grid_search.best_estimator_\n",
    "    mlp = MLPRegressor(hidden_layer_sizes = best_param['hidden_layer_sizes'], activation = best_param['activation'], alpha = best_param['alpha'], max_iter = best_param['max_iter'], random_state = random_state)\n",
    "    \n",
    "    #mlp.fit(X_train_scaled, y_train) #you can do this instead if you want to try with scaled data...\n",
    "    mlp.fit(X_train, y_train) #FITTING WITHOUT SCALING\n",
    "\n",
    "    #evaluation of the model on the TRAINING set\n",
    "    y_train_pred = mlp.predict(X_train)\n",
    "    mse_train = metrics.mean_squared_error(y_train, y_train_pred)\n",
    "    r2_train_11 = metrics.r2_score(y_train, y_train_pred)\n",
    "    print(\"\\nTrain set metrics:\")\n",
    "    print(\"MSE:\", mse_train)\n",
    "    print(\"R-squared:\", r2_train_11)\n",
    "\n",
    "    #evaluation of the model on TESTING set\n",
    "    y_test_pred = mlp.predict(X_test)\n",
    "    mse_test = metrics.mean_squared_error(y_test, y_test_pred)\n",
    "    r2_test_11 = metrics.r2_score(y_test, y_test_pred)\n",
    "    print(\"\\nTest set metrics:\")\n",
    "    print(\"MSE:\", mse_test)\n",
    "    print(\"R-squared:\", r2_test_11, \"\\n\")\n",
    "    \n",
    "    #frequency count for race\n",
    "    if 'COMB1PF7A' in df.columns:\n",
    "        white_train_counts = X_train[X_train['COMB1PF7A'] == 1]['COMB1PF7A'].value_counts()\n",
    "        white_test_counts = X_test[X_test['COMB1PF7A'] == 1]['COMB1PF7A'].value_counts()\n",
    "\n",
    "        black_train_counts = X_train[X_train['COMB1PF7A'] == 2]['COMB1PF7A'].value_counts()\n",
    "        black_test_counts = X_test[X_test['COMB1PF7A'] == 2]['COMB1PF7A'].value_counts()\n",
    "    \n",
    "        print(\"White train frequency: \", white_train_counts.values[0])\n",
    "        print(\"White test frequency: \", white_test_counts.values[0], \"\\n\")\n",
    "    \n",
    "        print(\"Black train frequency: \", black_train_counts.values[0])\n",
    "        print(\"Black test frequency: \", black_test_counts.values[0])\n"
   ]
  },
  {
   "cell_type": "code",
   "execution_count": 8,
   "id": "2daef6e8",
   "metadata": {},
   "outputs": [
    {
     "name": "stdout",
     "output_type": "stream",
     "text": [
      "Multi-Layer Perceptron: DXA Model, Handgrip Strength (Arms)\n",
      "Best Hyperparameters: {'activation': 'tanh', 'alpha': 0.001, 'hidden_layer_sizes': (100, 100), 'max_iter': 1000}\n",
      "\n",
      "Train set metrics:\n",
      "MSE: 0.6282496695178236\n",
      "R-squared: 0.3926718040713225\n",
      "\n",
      "Test set metrics:\n",
      "MSE: 0.631033221890879\n",
      "R-squared: 0.3393915596925654 \n",
      "\n",
      "White train frequency:  251\n",
      "White test frequency:  62 \n",
      "\n",
      "Black train frequency:  79\n",
      "Black test frequency:  21\n"
     ]
    }
   ],
   "source": [
    "#DXA: Handgrip Strength (ARMS)\n",
    "\n",
    "print(\"Multi-Layer Perceptron: DXA Model, Handgrip Strength (Arms)\")\n",
    "train_test_mlp(df, ['COMB1PF7A', 'COMB4DALM', 'COMB4DABM', 'COMB4DAFM', 'COMB1PRSEX', 'COMB1PRAGE', 'COMB4P1A', 'COMB4DLR3MD'], 'tCOMB4IMaxGrip')"
   ]
  },
  {
   "cell_type": "code",
   "execution_count": 9,
   "id": "14ab1882",
   "metadata": {},
   "outputs": [
    {
     "name": "stdout",
     "output_type": "stream",
     "text": [
      "Multi-Layer Perceptron: DXA Model, Handgrip Strength (TB)\n",
      "Best Hyperparameters: {'activation': 'tanh', 'alpha': 0.001, 'hidden_layer_sizes': (100, 100), 'max_iter': 1000}\n",
      "\n",
      "Train set metrics:\n",
      "MSE: 0.9124487089012322\n",
      "R-squared: 0.11793693631427393\n",
      "\n",
      "Test set metrics:\n",
      "MSE: 0.9104033314310965\n",
      "R-squared: 0.04692795250106596 \n",
      "\n",
      "White train frequency:  251\n",
      "White test frequency:  62 \n",
      "\n",
      "Black train frequency:  79\n",
      "Black test frequency:  21\n"
     ]
    }
   ],
   "source": [
    "#DXA: Handgrip Strength (TOTAL BODY)\n",
    "\n",
    "print(\"Multi-Layer Perceptron: DXA Model, Handgrip Strength (TB)\")\n",
    "train_test_mlp(df, ['COMB1PF7A', 'COMB4IALM', 'COMB4DTBBM', 'COMB4DTBFM', 'COMB1PRSEX', 'COMB1PRAGE', 'COMB4P1A', 'COMB4DLR3MD', 'COMB4DLFNMD', 'COMB4DLSL14MD'], 'tCOMB4IMaxGrip')"
   ]
  },
  {
   "cell_type": "code",
   "execution_count": 10,
   "id": "252cfea5",
   "metadata": {},
   "outputs": [
    {
     "name": "stdout",
     "output_type": "stream",
     "text": [
      "Multi-Layer Perceptron: DXA Model, Jump Power (Legs)\n",
      "Best Hyperparameters: {'activation': 'tanh', 'alpha': 0.0001, 'hidden_layer_sizes': (50, 50, 50), 'max_iter': 1000}\n",
      "\n",
      "Train set metrics:\n",
      "MSE: 0.10929031574530712\n",
      "R-squared: 0.15099035692536233\n",
      "\n",
      "Test set metrics:\n",
      "MSE: 0.11094310976692397\n",
      "R-squared: 0.18633991667856098 \n",
      "\n",
      "White train frequency:  251\n",
      "White test frequency:  62 \n",
      "\n",
      "Black train frequency:  79\n",
      "Black test frequency:  21\n"
     ]
    }
   ],
   "source": [
    "#DXA: Jump Power (LEGS)\n",
    "\n",
    "print(\"Multi-Layer Perceptron: DXA Model, Jump Power (Legs)\")\n",
    "train_test_mlp(df, ['COMB1PF7A', 'COMB4ILLM', 'COMB4DLBM', 'COMB4DLFM', 'COMB1PRSEX', 'COMB1PRAGE', 'COMB4P1A', 'COMB4DLFNMD'], 'tjumppownums')"
   ]
  },
  {
   "cell_type": "code",
   "execution_count": 11,
   "id": "79398b07",
   "metadata": {},
   "outputs": [
    {
     "name": "stdout",
     "output_type": "stream",
     "text": [
      "Multi-Layer Perceptron: DXA Model, Jump Power (TB)\n",
      "Best Hyperparameters: {'activation': 'tanh', 'alpha': 0.0001, 'hidden_layer_sizes': (100, 100), 'max_iter': 1000}\n",
      "\n",
      "Train set metrics:\n",
      "MSE: 0.12177678291192606\n",
      "R-squared: 0.053990627716971495\n",
      "\n",
      "Test set metrics:\n",
      "MSE: 0.13088893312112765\n",
      "R-squared: 0.04005665198198638 \n",
      "\n",
      "White train frequency:  251\n",
      "White test frequency:  62 \n",
      "\n",
      "Black train frequency:  79\n",
      "Black test frequency:  21\n"
     ]
    }
   ],
   "source": [
    "#DXA: Jump Power (TOTAL BODY)\n",
    "\n",
    "print(\"Multi-Layer Perceptron: DXA Model, Jump Power (TB)\")\n",
    "train_test_mlp(df, ['COMB1PF7A', 'COMB4IALM', 'COMB4DTBBM', 'COMB4DTBFM', 'COMB1PRSEX', 'COMB1PRAGE', 'COMB4P1A', 'COMB4DLR3MD', 'COMB4DLFNMD', 'COMB4DLSL14MD'], 'tjumppownums')"
   ]
  },
  {
   "cell_type": "code",
   "execution_count": 12,
   "id": "7045517a",
   "metadata": {},
   "outputs": [
    {
     "name": "stdout",
     "output_type": "stream",
     "text": [
      "Multi-Layer Perceptron: BIS Model, Handgrip Strength\n"
     ]
    }
   ],
   "source": [
    "#BIS: Handgrip Strength\n",
    "\n",
    "print(\"Multi-Layer Perceptron: BIS Model, Handgrip Strength\")\n",
    "train_test_mlp(df, ['COMB1PF7A', 'COMB4IMECF', 'COMB4IMICF', 'COMB4IMFFM', 'COMB4DTBFM', 'COMB4IRES0', 'COMB4IRESINF', 'COMB4IRESEXC', 'COMB4IRESINC', 'COMB4IFCHAR', 'COMB4IMCAP', 'COMB1PRSEX', 'COMB1PRAGE', 'COMB4P1A'], 'tCOMB4IMaxGrip')"
   ]
  },
  {
   "cell_type": "code",
   "execution_count": null,
   "id": "d5e72665",
   "metadata": {},
   "outputs": [],
   "source": [
    "#BIS: Jump Power\n",
    "\n",
    "print(\"Multi-Layer Perceptron: BIS Model, Jump Power\")\n",
    "train_test_mlp(df, ['COMB1PF7A', 'COMB4IMECF', 'COMB4IMICF', 'COMB4IMFFM', 'COMB4DTBFM', 'COMB4IRES0', 'COMB4IRESINF', 'COMB4IRESEXC', 'COMB4IRESINC', 'COMB4IFCHAR', 'COMB4IMCAP', 'COMB1PRSEX', 'COMB1PRAGE', 'COMB4P1A'], 'tjumppownums')"
   ]
  },
  {
   "cell_type": "code",
   "execution_count": null,
   "id": "17090981",
   "metadata": {},
   "outputs": [],
   "source": [
    "#COMBO: Handgrip Strength (ARMS)\n",
    "\n",
    "print(\"Multi-Layer Perceptron: Combo Models, Handgrip Strength (Arms)\")\n",
    "train_test_mlp(df, ['COMB1PF7A', 'COMB4DALM', 'COMB4DABM', 'COMB4DAFM', 'COMB1PRSEX', 'COMB1PRAGE', 'COMB4P1A', 'COMB4DLR3MD', 'COMB4IMECF', 'COMB4IMICF', 'COMB4IMFFM', 'COMB4DTBFM', 'COMB4IRES0', 'COMB4IRESINF', 'COMB4IRESEXC', 'COMB4IRESINC', 'COMB4IFCHAR', 'COMB4IMCAP'], 'tCOMB4IMaxGrip')"
   ]
  },
  {
   "cell_type": "code",
   "execution_count": null,
   "id": "1c0b1bfc",
   "metadata": {},
   "outputs": [],
   "source": [
    "#COMBO: Handgrip Strength (TOTAL BODY)\n",
    "\n",
    "print(\"Multi-Layer Perceptron: Combo Models, Handgrip Strength (TB)\")\n",
    "train_test_mlp(df, ['COMB1PF7A', 'COMB4IALM', 'COMB4DTBBM', 'COMB4DTBFM', 'COMB1PRSEX', 'COMB1PRAGE', 'COMB4P1A', 'COMB4DLR3MD', 'COMB4DLFNMD', 'COMB4DLSL14MD', 'COMB4IMECF', 'COMB4IMICF','COMB4IMFFM', 'COMB4DTBFM', 'COMB4IRES0', 'COMB4IRESINF', 'COMB4IRESEXC', 'COMB4IRESINC', 'COMB4IFCHAR', 'COMB4IMCAP'], 'tCOMB4IMaxGrip')"
   ]
  },
  {
   "cell_type": "code",
   "execution_count": null,
   "id": "6219a4b9",
   "metadata": {},
   "outputs": [],
   "source": [
    "#COMBO: Jump Power (LEGS)\n",
    "\n",
    "print(\"Multi-Layer Perceptron: Combo Models, Jump Power (Legs)\")\n",
    "train_test_mlp(df, ['COMB1PF7A', 'COMB4ILLM', 'COMB4DLBM', 'COMB4DLFM', 'COMB1PRSEX', 'COMB1PRAGE', 'COMB4P1A', 'COMB4DLFNMD', 'COMB4IMECF', 'COMB4IMICF', 'COMB4IMFFM', 'COMB4DTBFM', 'COMB4IRES0', 'COMB4IRESINF', 'COMB4IRESEXC', 'COMB4IRESINC', 'COMB4IFCHAR', 'COMB4IMCAP'], 'tjumppownums')"
   ]
  },
  {
   "cell_type": "code",
   "execution_count": null,
   "id": "5990e3d8",
   "metadata": {},
   "outputs": [],
   "source": [
    "#COMBO: Jump Power (TOTAL BODY)\n",
    "\n",
    "print(\"Multi-Layer Perceptron: Combo Models, Jump Power (TB)\")\n",
    "train_test_mlp(df, ['COMB1PF7A', 'COMB4IALM', 'COMB4DTBBM', 'COMB4DTBFM', 'COMB1PRSEX', 'COMB1PRAGE', 'COMB4P1A', 'COMB4DLR3MD', 'COMB4DLFNMD', 'COMB4DLSL14MD', 'COMB4IMECF', 'COMB4IMICF','COMB4IMFFM', 'COMB4DTBFM', 'COMB4IRES0', 'COMB4IRESINF', 'COMB4IRESEXC', 'COMB4IRESINC', 'COMB4IFCHAR', 'COMB4IMCAP'], 'tjumppownums')"
   ]
  }
 ],
 "metadata": {
  "kernelspec": {
   "display_name": "Python 3 (ipykernel)",
   "language": "python",
   "name": "python3"
  },
  "language_info": {
   "codemirror_mode": {
    "name": "ipython",
    "version": 3
   },
   "file_extension": ".py",
   "mimetype": "text/x-python",
   "name": "python",
   "nbconvert_exporter": "python",
   "pygments_lexer": "ipython3",
   "version": "3.10.8"
  }
 },
 "nbformat": 4,
 "nbformat_minor": 5
}
