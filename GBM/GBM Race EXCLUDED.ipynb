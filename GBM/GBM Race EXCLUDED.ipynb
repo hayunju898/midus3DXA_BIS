{
 "cells": [
  {
   "cell_type": "code",
   "execution_count": 1,
   "id": "2777dd15",
   "metadata": {},
   "outputs": [],
   "source": [
    "import pandas as pd\n",
    "import numpy as np\n",
    "from sklearn.model_selection import train_test_split\n",
    "from sklearn import metrics\n",
    "from sklearn.model_selection import GridSearchCV\n",
    "from sklearn.preprocessing import StandardScaler \n",
    "from sklearn.ensemble import GradientBoostingRegressor\n",
    "\n",
    "#loading data\n",
    "data = pd.read_csv('/Users/yunjuha/Desktop/MIDUS3/ML Models/Combined_MIDUS3_Refresher.csv')\n",
    "df = pd.DataFrame(data)\n",
    "\n",
    "#TRANSFORMING THE TARGETS\n",
    "df['tjumppownums'] = np.log(df['jumppownums'] + 0.1)\n",
    "df['tCOMB4IMaxGrip'] = np.sqrt(df['COMB4IMaxGrip'])\n",
    "\n",
    "#dropping columns\n",
    "column_to_drop = ['M2ID', 'MIDUSID', 'SAMPLMAJ', 'Height.cm.', 'Weight.kg.', 'Age.years.', 'TBW.litres.', 'ECF.litres.', 'ICF.litres.']\n",
    "df = df.drop(column_to_drop, axis=1)\n",
    "\n",
    "df = df.drop('COMB1PF7A', axis=1)"
   ]
  },
  {
   "cell_type": "code",
   "execution_count": 2,
   "id": "d16e37a9",
   "metadata": {},
   "outputs": [
    {
     "name": "stdout",
     "output_type": "stream",
     "text": [
      "544\n"
     ]
    }
   ],
   "source": [
    "#number of individuals before NA is removed\n",
    "print(len(df))"
   ]
  },
  {
   "cell_type": "code",
   "execution_count": 3,
   "id": "37e0a509",
   "metadata": {},
   "outputs": [
    {
     "name": "stdout",
     "output_type": "stream",
     "text": [
      "490\n"
     ]
    }
   ],
   "source": [
    "#this is the total number of people when race is removed\n",
    "df = df.dropna()\n",
    "print(len(df))"
   ]
  },
  {
   "cell_type": "markdown",
   "id": "de6f381f",
   "metadata": {},
   "source": [
    "## Gradient Boosting Machines"
   ]
  },
  {
   "cell_type": "code",
   "execution_count": 4,
   "id": "11f2fe29",
   "metadata": {},
   "outputs": [],
   "source": [
    "#GBM function\n",
    "def train_test_gradient_boosting(df, feature_columns, target_column, test_size=0.2, random_state=42):\n",
    "    columns = feature_columns + [target_column]\n",
    "    X = df[columns]\n",
    "    \n",
    "    y = X.pop(target_column)\n",
    "    \n",
    "    #dividing our data set into train and test set\n",
    "    X_train, X_test, y_train, y_test = train_test_split(X, y, test_size=test_size, random_state=random_state)\n",
    "\n",
    "    #scaling the features\n",
    "    scaler = StandardScaler()\n",
    "    X_train_scaled = scaler.fit_transform(X_train)\n",
    "    X_test_scaled = scaler.transform(X_test)\n",
    "    \n",
    "    #defining our parameter grid\n",
    "    param_grid = {\n",
    "        'n_estimators': [100, 200, 300],\n",
    "        'learning_rate': [0.1, 0.05, 0.01],\n",
    "        'max_depth': [3, 4, 5]\n",
    "    }\n",
    "\n",
    "    gbm = GradientBoostingRegressor(random_state=42)\n",
    "\n",
    "    #perforiming grid search to find best hyperparameters\n",
    "    grid_search = GridSearchCV(estimator=gbm, param_grid=param_grid, cv=5, n_jobs=-1)\n",
    "    grid_search.fit(X, y)\n",
    "    \n",
    "    best_params = grid_search.best_params_\n",
    "    print(\"Best Parameters:\", best_params)\n",
    "\n",
    "    best_gbm = grid_search.best_estimator_\n",
    "\n",
    "    #fitting our model with the best hyperparameters\n",
    "    gbm = GradientBoostingRegressor(n_estimators=best_params['n_estimators'], learning_rate=best_params['learning_rate'], max_depth=best_params['max_depth'], random_state=random_state)\n",
    "    gbm.fit(X_train, y_train)\n",
    "    \n",
    "\n",
    "    #evaluation of the model on the TRAINING set\n",
    "    y_train_pred = gbm.predict(X_train)\n",
    "    mse_train = metrics.mean_squared_error(y_train, y_train_pred)\n",
    "    r2_train_11 = metrics.r2_score(y_train, y_train_pred)\n",
    "    print(\"\\nTrain set metrics:\")\n",
    "    print(\"MSE:\", mse_train)\n",
    "    print(\"R-squared:\", r2_train_11)\n",
    "\n",
    "    y_test_pred = gbm.predict(X_test)\n",
    "\n",
    "    #evaluation of the model on TESTING set\n",
    "    mse_test = metrics.mean_squared_error(y_test, y_test_pred)\n",
    "    r2_test_11 = metrics.r2_score(y_test, y_test_pred)\n",
    "    print(\"\\nTest set metrics:\")\n",
    "    print(\"MSE:\", mse_test)\n",
    "    print(\"R-squared:\", r2_test_11, \"\\n\")\n",
    "\n",
    "    #feature importance\n",
    "    feature_importances = pd.Series(gbm.feature_importances_, index=X.columns)\n",
    "    print(feature_importances)"
   ]
  },
  {
   "cell_type": "code",
   "execution_count": 5,
   "id": "eb9c8e6d",
   "metadata": {},
   "outputs": [
    {
     "name": "stdout",
     "output_type": "stream",
     "text": [
      "Gradient Boosting Machine: DXA Model, Handgrip Strength (Arms)\n"
     ]
    },
    {
     "name": "stdout",
     "output_type": "stream",
     "text": [
      "Best Parameters: {'learning_rate': 0.01, 'max_depth': 3, 'n_estimators': 300}\n",
      "\n",
      "Train set metrics:\n",
      "MSE: 0.32688555546338754\n",
      "R-squared: 0.7048746192266286\n",
      "\n",
      "Test set metrics:\n",
      "MSE: 0.5394433451450674\n",
      "R-squared: 0.3819662922538616 \n",
      "\n",
      "COMB4DALM      0.115925\n",
      "COMB4DABM      0.170526\n",
      "COMB4DAFM      0.063739\n",
      "COMB1PRSEX     0.441402\n",
      "COMB1PRAGE     0.063036\n",
      "COMB4P1A       0.094921\n",
      "COMB4DLR3MD    0.050452\n",
      "dtype: float64\n"
     ]
    }
   ],
   "source": [
    "#DXA: Handgrip Strength (ARMS)\n",
    "\n",
    "print(\"Gradient Boosting Machine: DXA Model, Handgrip Strength (Arms)\")\n",
    "train_test_gradient_boosting(df, ['COMB4DALM', 'COMB4DABM', 'COMB4DAFM', 'COMB1PRSEX', 'COMB1PRAGE', 'COMB4P1A', 'COMB4DLR3MD'], 'tCOMB4IMaxGrip')"
   ]
  },
  {
   "cell_type": "code",
   "execution_count": 6,
   "id": "1a1149b8",
   "metadata": {},
   "outputs": [
    {
     "name": "stdout",
     "output_type": "stream",
     "text": [
      "Gradient Boosting Machine: DXA Model, Handgrip Strength (TB)\n",
      "Best Parameters: {'learning_rate': 0.01, 'max_depth': 3, 'n_estimators': 200}\n",
      "\n",
      "Train set metrics:\n",
      "MSE: 0.3947447386786517\n",
      "R-squared: 0.643608628880298\n",
      "\n",
      "Test set metrics:\n",
      "MSE: 0.48252762741456784\n",
      "R-squared: 0.4471739407948845 \n",
      "\n",
      "COMB4IALM        0.092817\n",
      "COMB4DTBBM       0.042134\n",
      "COMB4DTBFM       0.051030\n",
      "COMB1PRSEX       0.601144\n",
      "COMB1PRAGE       0.056053\n",
      "COMB4P1A         0.111798\n",
      "COMB4DLR3MD      0.028798\n",
      "COMB4DLFNMD      0.014673\n",
      "COMB4DLSL14MD    0.001553\n",
      "dtype: float64\n"
     ]
    }
   ],
   "source": [
    "#DXA: Handgrip Strength (TOTAL BODY)\n",
    "\n",
    "print(\"Gradient Boosting Machine: DXA Model, Handgrip Strength (TB)\")\n",
    "train_test_gradient_boosting(df, ['COMB4IALM', 'COMB4DTBBM', 'COMB4DTBFM', 'COMB1PRSEX', 'COMB1PRAGE', 'COMB4P1A', 'COMB4DLR3MD', 'COMB4DLFNMD', 'COMB4DLSL14MD'], 'tCOMB4IMaxGrip')"
   ]
  },
  {
   "cell_type": "code",
   "execution_count": 7,
   "id": "3e1ad241",
   "metadata": {},
   "outputs": [
    {
     "name": "stdout",
     "output_type": "stream",
     "text": [
      "Gradient Boosting Machine: DXA Model, Jump Power (Legs)\n",
      "Best Parameters: {'learning_rate': 0.05, 'max_depth': 3, 'n_estimators': 100}\n",
      "\n",
      "Train set metrics:\n",
      "MSE: 0.018713157332473498\n",
      "R-squared: 0.8573084860420969\n",
      "\n",
      "Test set metrics:\n",
      "MSE: 0.03553493350948658\n",
      "R-squared: 0.7263977927551003 \n",
      "\n",
      "COMB4ILLM      0.195155\n",
      "COMB4DLBM      0.282682\n",
      "COMB4DLFM      0.026340\n",
      "COMB1PRSEX     0.105379\n",
      "COMB1PRAGE     0.330451\n",
      "COMB4P1A       0.036119\n",
      "COMB4DLFNMD    0.023875\n",
      "dtype: float64\n"
     ]
    }
   ],
   "source": [
    "#DXA: Jump Power (LEGS)\n",
    "\n",
    "print(\"Gradient Boosting Machine: DXA Model, Jump Power (Legs)\")\n",
    "train_test_gradient_boosting(df, ['COMB4ILLM', 'COMB4DLBM', 'COMB4DLFM', 'COMB1PRSEX', 'COMB1PRAGE', 'COMB4P1A', 'COMB4DLFNMD'], 'tjumppownums')"
   ]
  },
  {
   "cell_type": "code",
   "execution_count": 8,
   "id": "c1fa6a5b",
   "metadata": {},
   "outputs": [
    {
     "name": "stdout",
     "output_type": "stream",
     "text": [
      "Gradient Boosting Machine: DXA Model, Jump Power (TB)\n",
      "Best Parameters: {'learning_rate': 0.05, 'max_depth': 3, 'n_estimators': 200}\n",
      "\n",
      "Train set metrics:\n",
      "MSE: 0.009916461443885636\n",
      "R-squared: 0.9243850264606213\n",
      "\n",
      "Test set metrics:\n",
      "MSE: 0.03160009255953071\n",
      "R-squared: 0.7566942099069189 \n",
      "\n",
      "COMB4IALM        0.340084\n",
      "COMB4DTBBM       0.125151\n",
      "COMB4DTBFM       0.040521\n",
      "COMB1PRSEX       0.079534\n",
      "COMB1PRAGE       0.292880\n",
      "COMB4P1A         0.039133\n",
      "COMB4DLR3MD      0.029166\n",
      "COMB4DLFNMD      0.024460\n",
      "COMB4DLSL14MD    0.029071\n",
      "dtype: float64\n"
     ]
    }
   ],
   "source": [
    "#DXA: Jump Power (TOTAL BODY)\n",
    "\n",
    "print(\"Gradient Boosting Machine: DXA Model, Jump Power (TB)\")\n",
    "train_test_gradient_boosting(df, ['COMB4IALM', 'COMB4DTBBM', 'COMB4DTBFM', 'COMB1PRSEX', 'COMB1PRAGE', 'COMB4P1A', 'COMB4DLR3MD', 'COMB4DLFNMD', 'COMB4DLSL14MD'], 'tjumppownums')"
   ]
  },
  {
   "cell_type": "code",
   "execution_count": 9,
   "id": "ebc2840b",
   "metadata": {},
   "outputs": [
    {
     "name": "stdout",
     "output_type": "stream",
     "text": [
      "Gradient Boosting Machine: BIS Model, Handgrip Strength\n",
      "Best Parameters: {'learning_rate': 0.01, 'max_depth': 3, 'n_estimators': 300}\n",
      "\n",
      "Train set metrics:\n",
      "MSE: 0.3254135653341643\n",
      "R-squared: 0.7062035909114307\n",
      "\n",
      "Test set metrics:\n",
      "MSE: 0.5112948881138201\n",
      "R-squared: 0.4142156385900858 \n",
      "\n",
      "COMB4IMECF      0.015948\n",
      "COMB4IMICF      0.029876\n",
      "COMB4IMFFM      0.005352\n",
      "COMB4DTBFM      0.045512\n",
      "COMB4IRES0      0.003636\n",
      "COMB4IRESINF    0.017675\n",
      "COMB4IRESEXC    0.004834\n",
      "COMB4IRESINC    0.053976\n",
      "COMB4IFCHAR     0.034114\n",
      "COMB4IMCAP      0.045894\n",
      "COMB1PRSEX      0.559606\n",
      "COMB1PRAGE      0.046449\n",
      "COMB4P1A        0.137127\n",
      "dtype: float64\n"
     ]
    }
   ],
   "source": [
    "#BIS: Handgrip Strength\n",
    "\n",
    "print(\"Gradient Boosting Machine: BIS Model, Handgrip Strength\")\n",
    "train_test_gradient_boosting(df, ['COMB4IMECF', 'COMB4IMICF', 'COMB4IMFFM', 'COMB4DTBFM', 'COMB4IRES0', 'COMB4IRESINF', 'COMB4IRESEXC', 'COMB4IRESINC', 'COMB4IFCHAR', 'COMB4IMCAP', 'COMB1PRSEX', 'COMB1PRAGE', 'COMB4P1A'], 'tCOMB4IMaxGrip')"
   ]
  },
  {
   "cell_type": "code",
   "execution_count": 10,
   "id": "3c0ff2fa",
   "metadata": {},
   "outputs": [
    {
     "name": "stdout",
     "output_type": "stream",
     "text": [
      "Gradient Boosting Machine: BIS Model, Jump Power\n"
     ]
    },
    {
     "name": "stdout",
     "output_type": "stream",
     "text": [
      "Best Parameters: {'learning_rate': 0.05, 'max_depth': 3, 'n_estimators': 100}\n",
      "\n",
      "Train set metrics:\n",
      "MSE: 0.01681189640589394\n",
      "R-squared: 0.8718059754407382\n",
      "\n",
      "Test set metrics:\n",
      "MSE: 0.037452008909673026\n",
      "R-squared: 0.7116372174804657 \n",
      "\n",
      "COMB4IMECF      0.006595\n",
      "COMB4IMICF      0.062798\n",
      "COMB4IMFFM      0.033718\n",
      "COMB4DTBFM      0.016603\n",
      "COMB4IRES0      0.015806\n",
      "COMB4IRESINF    0.005151\n",
      "COMB4IRESEXC    0.025356\n",
      "COMB4IRESINC    0.032800\n",
      "COMB4IFCHAR     0.049928\n",
      "COMB4IMCAP      0.260186\n",
      "COMB1PRSEX      0.099341\n",
      "COMB1PRAGE      0.275947\n",
      "COMB4P1A        0.115771\n",
      "dtype: float64\n"
     ]
    }
   ],
   "source": [
    "#BIS: Jump Power\n",
    "\n",
    "print(\"Gradient Boosting Machine: BIS Model, Jump Power\")\n",
    "train_test_gradient_boosting(df, ['COMB4IMECF', 'COMB4IMICF', 'COMB4IMFFM', 'COMB4DTBFM', 'COMB4IRES0', 'COMB4IRESINF', 'COMB4IRESEXC', 'COMB4IRESINC', 'COMB4IFCHAR', 'COMB4IMCAP', 'COMB1PRSEX', 'COMB1PRAGE', 'COMB4P1A'], 'tjumppownums')"
   ]
  },
  {
   "cell_type": "code",
   "execution_count": 11,
   "id": "da1deb4f",
   "metadata": {},
   "outputs": [
    {
     "name": "stdout",
     "output_type": "stream",
     "text": [
      "Gradient Boosting Machine: Combo Models, Handgrip Strength (Arms)\n",
      "Best Parameters: {'learning_rate': 0.05, 'max_depth': 3, 'n_estimators': 100}\n",
      "\n",
      "Train set metrics:\n",
      "MSE: 0.22906453764103243\n",
      "R-squared: 0.7931913547016374\n",
      "\n",
      "Test set metrics:\n",
      "MSE: 0.5762910073508551\n",
      "R-squared: 0.3397503718985996 \n",
      "\n",
      "COMB4DALM       0.083823\n",
      "COMB4DABM       0.140756\n",
      "COMB4DAFM       0.036571\n",
      "COMB1PRSEX      0.402616\n",
      "COMB1PRAGE      0.048345\n",
      "COMB4P1A        0.089831\n",
      "COMB4DLR3MD     0.031373\n",
      "COMB4IMECF      0.009061\n",
      "COMB4IMICF      0.008712\n",
      "COMB4IMFFM      0.002666\n",
      "COMB4DTBFM      0.032586\n",
      "COMB4IRES0      0.005800\n",
      "COMB4IRESINF    0.013195\n",
      "COMB4IRESEXC    0.012868\n",
      "COMB4IRESINC    0.033221\n",
      "COMB4IFCHAR     0.016442\n",
      "COMB4IMCAP      0.032133\n",
      "dtype: float64\n"
     ]
    }
   ],
   "source": [
    "#COMBO: Handgrip Strength (ARMS)\n",
    "\n",
    "print(\"Gradient Boosting Machine: Combo Models, Handgrip Strength (Arms)\")\n",
    "train_test_gradient_boosting(df, ['COMB4DALM', 'COMB4DABM', 'COMB4DAFM', 'COMB1PRSEX', 'COMB1PRAGE', 'COMB4P1A', 'COMB4DLR3MD', 'COMB4IMECF', 'COMB4IMICF', 'COMB4IMFFM', 'COMB4DTBFM', 'COMB4IRES0', 'COMB4IRESINF', 'COMB4IRESEXC', 'COMB4IRESINC', 'COMB4IFCHAR', 'COMB4IMCAP'], 'tCOMB4IMaxGrip')"
   ]
  },
  {
   "cell_type": "code",
   "execution_count": 12,
   "id": "e1962b78",
   "metadata": {},
   "outputs": [
    {
     "name": "stdout",
     "output_type": "stream",
     "text": [
      "Gradient Boosting Machine: Combo Models, Handgrip Strength (TB)\n",
      "Best Parameters: {'learning_rate': 0.01, 'max_depth': 3, 'n_estimators': 200}\n",
      "\n",
      "Train set metrics:\n",
      "MSE: 0.3694449717697456\n",
      "R-squared: 0.6664502724392615\n",
      "\n",
      "Test set metrics:\n",
      "MSE: 0.4829958905563238\n",
      "R-squared: 0.44663745738415206 \n",
      "\n",
      "COMB4IALM        0.064305\n",
      "COMB4DTBBM       0.028428\n",
      "COMB4DTBFM       0.020744\n",
      "COMB1PRSEX       0.577055\n",
      "COMB1PRAGE       0.034077\n",
      "COMB4P1A         0.128456\n",
      "COMB4DLR3MD      0.020644\n",
      "COMB4DLFNMD      0.003245\n",
      "COMB4DLSL14MD    0.000671\n",
      "COMB4IMECF       0.005494\n",
      "COMB4IMICF       0.003776\n",
      "COMB4IMFFM       0.002393\n",
      "COMB4DTBFM       0.019991\n",
      "COMB4IRES0       0.001999\n",
      "COMB4IRESINF     0.003315\n",
      "COMB4IRESEXC     0.001535\n",
      "COMB4IRESINC     0.035553\n",
      "COMB4IFCHAR      0.014924\n",
      "COMB4IMCAP       0.033394\n",
      "dtype: float64\n"
     ]
    }
   ],
   "source": [
    "#COMBO: Handgrip Strength (TOTAL BODY)\n",
    "\n",
    "print(\"Gradient Boosting Machine: Combo Models, Handgrip Strength (TB)\")\n",
    "train_test_gradient_boosting(df, ['COMB4IALM', 'COMB4DTBBM', 'COMB4DTBFM', 'COMB1PRSEX', 'COMB1PRAGE', 'COMB4P1A', 'COMB4DLR3MD', 'COMB4DLFNMD', 'COMB4DLSL14MD', 'COMB4IMECF', 'COMB4IMICF','COMB4IMFFM', 'COMB4DTBFM', 'COMB4IRES0', 'COMB4IRESINF', 'COMB4IRESEXC', 'COMB4IRESINC', 'COMB4IFCHAR', 'COMB4IMCAP'], 'tCOMB4IMaxGrip')"
   ]
  },
  {
   "cell_type": "code",
   "execution_count": 13,
   "id": "a6c21603",
   "metadata": {},
   "outputs": [
    {
     "name": "stdout",
     "output_type": "stream",
     "text": [
      "Gradient Boosting Machine: Combo Models, Jump Power (Legs)\n",
      "Best Parameters: {'learning_rate': 0.05, 'max_depth': 3, 'n_estimators': 100}\n",
      "\n",
      "Train set metrics:\n",
      "MSE: 0.014620049179903784\n",
      "R-squared: 0.8885192426614561\n",
      "\n",
      "Test set metrics:\n",
      "MSE: 0.0349800135575958\n",
      "R-squared: 0.7306704143329912 \n",
      "\n",
      "COMB4ILLM       0.085782\n",
      "COMB4DLBM       0.207008\n",
      "COMB4DLFM       0.010406\n",
      "COMB1PRSEX      0.042241\n",
      "COMB1PRAGE      0.255922\n",
      "COMB4P1A        0.034626\n",
      "COMB4DLFNMD     0.013003\n",
      "COMB4IMECF      0.001431\n",
      "COMB4IMICF      0.034040\n",
      "COMB4IMFFM      0.005875\n",
      "COMB4DTBFM      0.025427\n",
      "COMB4IRES0      0.017369\n",
      "COMB4IRESINF    0.000956\n",
      "COMB4IRESEXC    0.009622\n",
      "COMB4IRESINC    0.020102\n",
      "COMB4IFCHAR     0.065163\n",
      "COMB4IMCAP      0.171027\n",
      "dtype: float64\n"
     ]
    }
   ],
   "source": [
    "#COMBO: Jump Power (LEGS)\n",
    "\n",
    "print(\"Gradient Boosting Machine: Combo Models, Jump Power (Legs)\")\n",
    "train_test_gradient_boosting(df, ['COMB4ILLM', 'COMB4DLBM', 'COMB4DLFM', 'COMB1PRSEX', 'COMB1PRAGE', 'COMB4P1A', 'COMB4DLFNMD', 'COMB4IMECF', 'COMB4IMICF', 'COMB4IMFFM', 'COMB4DTBFM', 'COMB4IRES0', 'COMB4IRESINF', 'COMB4IRESEXC', 'COMB4IRESINC', 'COMB4IFCHAR', 'COMB4IMCAP'], 'tjumppownums')"
   ]
  },
  {
   "cell_type": "code",
   "execution_count": 14,
   "id": "b909450b",
   "metadata": {},
   "outputs": [
    {
     "name": "stdout",
     "output_type": "stream",
     "text": [
      "Gradient Boosting Machine: Combo Models, Jump Power (TB)\n",
      "Best Parameters: {'learning_rate': 0.05, 'max_depth': 3, 'n_estimators': 100}\n",
      "\n",
      "Train set metrics:\n",
      "MSE: 0.013778577231155123\n",
      "R-squared: 0.8949356321668065\n",
      "\n",
      "Test set metrics:\n",
      "MSE: 0.033587214619444965\n",
      "R-squared: 0.741394308430744 \n",
      "\n",
      "COMB4IALM        0.227513\n",
      "COMB4DTBBM       0.095138\n",
      "COMB4DTBFM       0.011658\n",
      "COMB1PRSEX       0.061042\n",
      "COMB1PRAGE       0.257714\n",
      "COMB4P1A         0.037141\n",
      "COMB4DLR3MD      0.016317\n",
      "COMB4DLFNMD      0.017099\n",
      "COMB4DLSL14MD    0.008215\n",
      "COMB4IMECF       0.003469\n",
      "COMB4IMICF       0.027716\n",
      "COMB4IMFFM       0.009540\n",
      "COMB4DTBFM       0.011992\n",
      "COMB4IRES0       0.013671\n",
      "COMB4IRESINF     0.001814\n",
      "COMB4IRESEXC     0.012855\n",
      "COMB4IRESINC     0.020893\n",
      "COMB4IFCHAR      0.049388\n",
      "COMB4IMCAP       0.116826\n",
      "dtype: float64\n"
     ]
    }
   ],
   "source": [
    "#COMBO: Jump Power (TOTAL BODY)\n",
    "\n",
    "print(\"Gradient Boosting Machine: Combo Models, Jump Power (TB)\")\n",
    "train_test_gradient_boosting(df, ['COMB4IALM', 'COMB4DTBBM', 'COMB4DTBFM', 'COMB1PRSEX', 'COMB1PRAGE', 'COMB4P1A', 'COMB4DLR3MD', 'COMB4DLFNMD', 'COMB4DLSL14MD', 'COMB4IMECF', 'COMB4IMICF','COMB4IMFFM', 'COMB4DTBFM', 'COMB4IRES0', 'COMB4IRESINF', 'COMB4IRESEXC', 'COMB4IRESINC', 'COMB4IFCHAR', 'COMB4IMCAP'], 'tjumppownums')"
   ]
  }
 ],
 "metadata": {
  "kernelspec": {
   "display_name": "Python 3 (ipykernel)",
   "language": "python",
   "name": "python3"
  },
  "language_info": {
   "codemirror_mode": {
    "name": "ipython",
    "version": 3
   },
   "file_extension": ".py",
   "mimetype": "text/x-python",
   "name": "python",
   "nbconvert_exporter": "python",
   "pygments_lexer": "ipython3",
   "version": "3.10.8"
  }
 },
 "nbformat": 4,
 "nbformat_minor": 5
}
