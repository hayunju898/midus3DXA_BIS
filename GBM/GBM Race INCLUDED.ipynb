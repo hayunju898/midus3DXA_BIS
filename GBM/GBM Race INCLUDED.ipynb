{
 "cells": [
  {
   "cell_type": "markdown",
   "id": "fcb9a24f",
   "metadata": {},
   "source": [
    "# Including Race"
   ]
  },
  {
   "cell_type": "code",
   "execution_count": 1,
   "id": "2777dd15",
   "metadata": {},
   "outputs": [],
   "source": [
    "import pandas as pd\n",
    "import numpy as np\n",
    "from sklearn.model_selection import train_test_split\n",
    "from sklearn import metrics\n",
    "from sklearn.model_selection import GridSearchCV\n",
    "from sklearn.preprocessing import StandardScaler \n",
    "from sklearn.ensemble import GradientBoostingRegressor\n",
    "\n",
    "#loading data\n",
    "data = pd.read_csv('/Users/yunjuha/Desktop/MIDUS3/ML Models/Combined_MIDUS3_Refresher.csv')\n",
    "df = pd.DataFrame(data)\n",
    "\n",
    "#TRANSFORMING THE TARGETS\n",
    "df['tjumppownums'] = np.log(df['jumppownums'] + 0.1)\n",
    "df['tCOMB4IMaxGrip'] = np.sqrt(df['COMB4IMaxGrip'])\n",
    "\n",
    "#dropping columns\n",
    "column_to_drop = ['M2ID', 'MIDUSID', 'SAMPLMAJ', 'Height.cm.', 'Weight.kg.', 'Age.years.', 'TBW.litres.', 'ECF.litres.', 'ICF.litres.']\n",
    "df = df.drop(column_to_drop, axis=1)"
   ]
  },
  {
   "cell_type": "code",
   "execution_count": 2,
   "id": "d16e37a9",
   "metadata": {},
   "outputs": [
    {
     "name": "stdout",
     "output_type": "stream",
     "text": [
      "544\n"
     ]
    }
   ],
   "source": [
    "#number of individuals before NA is removed\n",
    "print(len(df))"
   ]
  },
  {
   "cell_type": "code",
   "execution_count": 3,
   "id": "37e0a509",
   "metadata": {},
   "outputs": [
    {
     "name": "stdout",
     "output_type": "stream",
     "text": [
      "422\n"
     ]
    }
   ],
   "source": [
    "#this is the number of people we have when race IS INCLUDED\n",
    "df = df.dropna()\n",
    "print(len(df))"
   ]
  },
  {
   "cell_type": "code",
   "execution_count": 4,
   "id": "fd450ab9",
   "metadata": {},
   "outputs": [
    {
     "name": "stdout",
     "output_type": "stream",
     "text": [
      "413\n"
     ]
    }
   ],
   "source": [
    "#counting the total number of individuals who are white or black (ignore the other races for now...)\n",
    "race = (df['COMB1PF7A'] == 1) | (df['COMB1PF7A'] == 2)\n",
    "df = df[race]\n",
    "\n",
    "print(len(df))"
   ]
  },
  {
   "cell_type": "markdown",
   "id": "de6f381f",
   "metadata": {},
   "source": [
    "## Gradient Boosting Machines"
   ]
  },
  {
   "cell_type": "code",
   "execution_count": 5,
   "id": "a7294e88",
   "metadata": {},
   "outputs": [],
   "source": [
    "#GBM function\n",
    "\n",
    "def train_test_gradient_boosting(df, feature_columns, target_column, test_size=0.2, random_state=42):\n",
    "    columns = feature_columns + [target_column]\n",
    "    X = df[columns]\n",
    "    \n",
    "    y = X.pop(target_column)\n",
    "    \n",
    "    #dividing our data set into train and test set\n",
    "    X_train, X_test, y_train, y_test = train_test_split(X, y, test_size=test_size, random_state=random_state)\n",
    "\n",
    "    #scaling the features\n",
    "    scaler = StandardScaler()\n",
    "    X_train_scaled = scaler.fit_transform(X_train)\n",
    "    X_test_scaled = scaler.transform(X_test)\n",
    "    \n",
    "    #defining our parameter grid\n",
    "    param_grid = {\n",
    "        'n_estimators': [100, 200, 300],\n",
    "        'learning_rate': [0.1, 0.05, 0.01],\n",
    "        'max_depth': [3, 4, 5]\n",
    "    }\n",
    "\n",
    "    gbm = GradientBoostingRegressor(random_state=42)\n",
    "\n",
    "    #perforiming grid search to find best hyperparameters\n",
    "    grid_search = GridSearchCV(estimator=gbm, param_grid=param_grid, cv=5, n_jobs=-1)\n",
    "    grid_search.fit(X, y)\n",
    "    \n",
    "    best_params = grid_search.best_params_\n",
    "    print(\"Best Parameters:\", best_params)\n",
    "\n",
    "    best_gbm = grid_search.best_estimator_\n",
    "\n",
    "    #fitting our model with the best hyperparameters\n",
    "    gbm = GradientBoostingRegressor(n_estimators=best_params['n_estimators'], learning_rate=best_params['learning_rate'], max_depth=best_params['max_depth'], random_state=random_state)\n",
    "    gbm.fit(X_train, y_train)\n",
    "    \n",
    "\n",
    "    #evaluation of the model on the TRAINING set\n",
    "    y_train_pred = gbm.predict(X_train)\n",
    "    mse_train = metrics.mean_squared_error(y_train, y_train_pred)\n",
    "    r2_train_11 = metrics.r2_score(y_train, y_train_pred)\n",
    "    print(\"\\nTrain set metrics:\")\n",
    "    print(\"MSE:\", mse_train)\n",
    "    print(\"R-squared:\", r2_train_11)\n",
    "\n",
    "    y_test_pred = gbm.predict(X_test)\n",
    "\n",
    "    #evaluation of the model on TESTING set\n",
    "    mse_test = metrics.mean_squared_error(y_test, y_test_pred)\n",
    "    r2_test_11 = metrics.r2_score(y_test, y_test_pred)\n",
    "    print(\"\\nTest set metrics:\")\n",
    "    print(\"MSE:\", mse_test)\n",
    "    print(\"R-squared:\", r2_test_11, \"\\n\")\n",
    "\n",
    "    #feature importance\n",
    "    feature_importances = pd.Series(gbm.feature_importances_, index=X.columns)\n",
    "    print(feature_importances)\n",
    "    \n",
    "    #counting frequencies\n",
    "    if 'COMB1PF7A' in df.columns:\n",
    "        white_train_counts = X_train[X_train['COMB1PF7A'] == 1]['COMB1PF7A'].value_counts()\n",
    "        white_test_counts = X_test[X_test['COMB1PF7A'] == 1]['COMB1PF7A'].value_counts()\n",
    "\n",
    "        black_train_counts = X_train[X_train['COMB1PF7A'] == 2]['COMB1PF7A'].value_counts()\n",
    "        black_test_counts = X_test[X_test['COMB1PF7A'] == 2]['COMB1PF7A'].value_counts()\n",
    "    \n",
    "        print(\"White train frequency: \", white_train_counts.values[0])\n",
    "        print(\"White test frequency: \", white_test_counts.values[0], \"\\n\")\n",
    "    \n",
    "        print(\"Black train frequency: \", black_train_counts.values[0])\n",
    "        print(\"Black test frequency: \", black_test_counts.values[0])"
   ]
  },
  {
   "cell_type": "code",
   "execution_count": 6,
   "id": "eb9c8e6d",
   "metadata": {},
   "outputs": [
    {
     "name": "stdout",
     "output_type": "stream",
     "text": [
      "Gradient Boosting Machine: DXA Model, Handgrip Strength (Arms)\n",
      "Best Parameters: {'learning_rate': 0.01, 'max_depth': 3, 'n_estimators': 300}\n",
      "\n",
      "Train set metrics:\n",
      "MSE: 0.30759254485534593\n",
      "R-squared: 0.7026506587874803\n",
      "\n",
      "Test set metrics:\n",
      "MSE: 0.43884556491587356\n",
      "R-squared: 0.540586653573935 \n",
      "\n",
      "COMB1PF7A      0.011185\n",
      "COMB4DALM      0.076758\n",
      "COMB4DABM      0.158099\n",
      "COMB4DAFM      0.052513\n",
      "COMB1PRSEX     0.496622\n",
      "COMB1PRAGE     0.051420\n",
      "COMB4P1A       0.095902\n",
      "COMB4DLR3MD    0.057501\n",
      "dtype: float64\n",
      "White train frequency:  251\n",
      "White test frequency:  62 \n",
      "\n",
      "Black train frequency:  79\n",
      "Black test frequency:  21\n"
     ]
    }
   ],
   "source": [
    "#DXA: Handgrip Strength (ARMS)\n",
    "\n",
    "print(\"Gradient Boosting Machine: DXA Model, Handgrip Strength (Arms)\")\n",
    "train_test_gradient_boosting(df, ['COMB1PF7A', 'COMB4DALM', 'COMB4DABM', 'COMB4DAFM', 'COMB1PRSEX', 'COMB1PRAGE', 'COMB4P1A', 'COMB4DLR3MD'], 'tCOMB4IMaxGrip')"
   ]
  },
  {
   "cell_type": "code",
   "execution_count": 7,
   "id": "1a1149b8",
   "metadata": {},
   "outputs": [
    {
     "name": "stdout",
     "output_type": "stream",
     "text": [
      "Gradient Boosting Machine: DXA Model, Handgrip Strength (TB)\n",
      "Best Parameters: {'learning_rate': 0.01, 'max_depth': 4, 'n_estimators': 200}\n",
      "\n",
      "Train set metrics:\n",
      "MSE: 0.2741335494319022\n",
      "R-squared: 0.7349954292092489\n",
      "\n",
      "Test set metrics:\n",
      "MSE: 0.5189263722780566\n",
      "R-squared: 0.45675262484946966 \n",
      "\n",
      "COMB1PF7A        0.004218\n",
      "COMB4IALM        0.092793\n",
      "COMB4DTBBM       0.016918\n",
      "COMB4DTBFM       0.050682\n",
      "COMB1PRSEX       0.572398\n",
      "COMB1PRAGE       0.050143\n",
      "COMB4P1A         0.087066\n",
      "COMB4DLR3MD      0.052919\n",
      "COMB4DLFNMD      0.037105\n",
      "COMB4DLSL14MD    0.035757\n",
      "dtype: float64\n",
      "White train frequency:  251\n",
      "White test frequency:  62 \n",
      "\n",
      "Black train frequency:  79\n",
      "Black test frequency:  21\n"
     ]
    }
   ],
   "source": [
    "#DXA: Handgrip Strength (TOTAL BODY)\n",
    "\n",
    "print(\"Gradient Boosting Machine: DXA Model, Handgrip Strength (TB)\")\n",
    "train_test_gradient_boosting(df, ['COMB1PF7A', 'COMB4IALM', 'COMB4DTBBM', 'COMB4DTBFM', 'COMB1PRSEX', 'COMB1PRAGE', 'COMB4P1A', 'COMB4DLR3MD', 'COMB4DLFNMD', 'COMB4DLSL14MD'], 'tCOMB4IMaxGrip')"
   ]
  },
  {
   "cell_type": "code",
   "execution_count": 8,
   "id": "3e1ad241",
   "metadata": {},
   "outputs": [
    {
     "name": "stdout",
     "output_type": "stream",
     "text": [
      "Gradient Boosting Machine: DXA Model, Jump Power (Legs)\n",
      "Best Parameters: {'learning_rate': 0.05, 'max_depth': 3, 'n_estimators': 100}\n",
      "\n",
      "Train set metrics:\n",
      "MSE: 0.012383768908507396\n",
      "R-squared: 0.9037980707693022\n",
      "\n",
      "Test set metrics:\n",
      "MSE: 0.032069921869357886\n",
      "R-squared: 0.7647982343819848 \n",
      "\n",
      "COMB1PF7A      0.003218\n",
      "COMB4ILLM      0.452152\n",
      "COMB4DLBM      0.138877\n",
      "COMB4DLFM      0.050823\n",
      "COMB1PRSEX     0.026218\n",
      "COMB1PRAGE     0.260616\n",
      "COMB4P1A       0.055607\n",
      "COMB4DLFNMD    0.012489\n",
      "dtype: float64\n",
      "White train frequency:  251\n",
      "White test frequency:  62 \n",
      "\n",
      "Black train frequency:  79\n",
      "Black test frequency:  21\n"
     ]
    }
   ],
   "source": [
    "#DXA: Jump Power (LEGS)\n",
    "\n",
    "print(\"Gradient Boosting Machine: DXA Model, Jump Power (Legs)\")\n",
    "train_test_gradient_boosting(df, ['COMB1PF7A', 'COMB4ILLM', 'COMB4DLBM', 'COMB4DLFM', 'COMB1PRSEX', 'COMB1PRAGE', 'COMB4P1A', 'COMB4DLFNMD'], 'tjumppownums')"
   ]
  },
  {
   "cell_type": "code",
   "execution_count": 9,
   "id": "c1fa6a5b",
   "metadata": {},
   "outputs": [
    {
     "name": "stdout",
     "output_type": "stream",
     "text": [
      "Gradient Boosting Machine: DXA Model, Jump Power (TB)\n",
      "Best Parameters: {'learning_rate': 0.1, 'max_depth': 3, 'n_estimators': 100}\n",
      "\n",
      "Train set metrics:\n",
      "MSE: 0.0068269740640997\n",
      "R-squared: 0.9469654124986826\n",
      "\n",
      "Test set metrics:\n",
      "MSE: 0.03528869040503813\n",
      "R-squared: 0.741191689726475 \n",
      "\n",
      "COMB1PF7A        0.000894\n",
      "COMB4IALM        0.534768\n",
      "COMB4DTBBM       0.064900\n",
      "COMB4DTBFM       0.025757\n",
      "COMB1PRSEX       0.008826\n",
      "COMB1PRAGE       0.245755\n",
      "COMB4P1A         0.052332\n",
      "COMB4DLR3MD      0.031199\n",
      "COMB4DLFNMD      0.011196\n",
      "COMB4DLSL14MD    0.024374\n",
      "dtype: float64\n",
      "White train frequency:  251\n",
      "White test frequency:  62 \n",
      "\n",
      "Black train frequency:  79\n",
      "Black test frequency:  21\n"
     ]
    }
   ],
   "source": [
    "#DXA: Jump Power (TOTAL BODY)\n",
    "\n",
    "print(\"Gradient Boosting Machine: DXA Model, Jump Power (TB)\")\n",
    "train_test_gradient_boosting(df, ['COMB1PF7A', 'COMB4IALM', 'COMB4DTBBM', 'COMB4DTBFM', 'COMB1PRSEX', 'COMB1PRAGE', 'COMB4P1A', 'COMB4DLR3MD', 'COMB4DLFNMD', 'COMB4DLSL14MD'], 'tjumppownums')"
   ]
  },
  {
   "cell_type": "code",
   "execution_count": 10,
   "id": "ebc2840b",
   "metadata": {},
   "outputs": [
    {
     "name": "stdout",
     "output_type": "stream",
     "text": [
      "Gradient Boosting Machine: BIS Model, Handgrip Strength\n",
      "Best Parameters: {'learning_rate': 0.05, 'max_depth': 3, 'n_estimators': 100}\n",
      "\n",
      "Train set metrics:\n",
      "MSE: 0.22561861462617427\n",
      "R-squared: 0.7818947580282738\n",
      "\n",
      "Test set metrics:\n",
      "MSE: 0.5272904771451183\n",
      "R-squared: 0.44799651173352195 \n",
      "\n",
      "COMB1PF7A       0.010775\n",
      "COMB4IMECF      0.012107\n",
      "COMB4IMICF      0.043221\n",
      "COMB4IMFFM      0.015318\n",
      "COMB4DTBFM      0.065669\n",
      "COMB4IRES0      0.003664\n",
      "COMB4IRESINF    0.017841\n",
      "COMB4IRESEXC    0.002430\n",
      "COMB4IRESINC    0.048979\n",
      "COMB4IFCHAR     0.035616\n",
      "COMB4IMCAP      0.046684\n",
      "COMB1PRSEX      0.526928\n",
      "COMB1PRAGE      0.053941\n",
      "COMB4P1A        0.116826\n",
      "dtype: float64\n",
      "White train frequency:  251\n",
      "White test frequency:  62 \n",
      "\n",
      "Black train frequency:  79\n",
      "Black test frequency:  21\n"
     ]
    }
   ],
   "source": [
    "#BIS: Handgrip Strength\n",
    "\n",
    "print(\"Gradient Boosting Machine: BIS Model, Handgrip Strength\")\n",
    "train_test_gradient_boosting(df, ['COMB1PF7A', 'COMB4IMECF', 'COMB4IMICF', 'COMB4IMFFM', 'COMB4DTBFM', 'COMB4IRES0', 'COMB4IRESINF', 'COMB4IRESEXC', 'COMB4IRESINC', 'COMB4IFCHAR', 'COMB4IMCAP', 'COMB1PRSEX', 'COMB1PRAGE', 'COMB4P1A'], 'tCOMB4IMaxGrip')"
   ]
  },
  {
   "cell_type": "code",
   "execution_count": 11,
   "id": "3c0ff2fa",
   "metadata": {},
   "outputs": [
    {
     "name": "stdout",
     "output_type": "stream",
     "text": [
      "Gradient Boosting Machine: BIS Model, Jump Power\n",
      "Best Parameters: {'learning_rate': 0.1, 'max_depth': 3, 'n_estimators': 100}\n",
      "\n",
      "Train set metrics:\n",
      "MSE: 0.005718993128256097\n",
      "R-squared: 0.9555726389712118\n",
      "\n",
      "Test set metrics:\n",
      "MSE: 0.04098718761701438\n",
      "R-squared: 0.6993987408354216 \n",
      "\n",
      "COMB1PF7A       0.002103\n",
      "COMB4IMECF      0.012232\n",
      "COMB4IMICF      0.075410\n",
      "COMB4IMFFM      0.039101\n",
      "COMB4DTBFM      0.016607\n",
      "COMB4IRES0      0.021411\n",
      "COMB4IRESINF    0.007757\n",
      "COMB4IRESEXC    0.017618\n",
      "COMB4IRESINC    0.060327\n",
      "COMB4IFCHAR     0.064841\n",
      "COMB4IMCAP      0.323930\n",
      "COMB1PRSEX      0.021199\n",
      "COMB1PRAGE      0.219079\n",
      "COMB4P1A        0.118385\n",
      "dtype: float64\n",
      "White train frequency:  251\n",
      "White test frequency:  62 \n",
      "\n",
      "Black train frequency:  79\n",
      "Black test frequency:  21\n"
     ]
    }
   ],
   "source": [
    "#BIS: Jump Power\n",
    "\n",
    "print(\"Gradient Boosting Machine: BIS Model, Jump Power\")\n",
    "train_test_gradient_boosting(df, ['COMB1PF7A', 'COMB4IMECF', 'COMB4IMICF', 'COMB4IMFFM', 'COMB4DTBFM', 'COMB4IRES0', 'COMB4IRESINF', 'COMB4IRESEXC', 'COMB4IRESINC', 'COMB4IFCHAR', 'COMB4IMCAP', 'COMB1PRSEX', 'COMB1PRAGE', 'COMB4P1A'], 'tjumppownums')"
   ]
  },
  {
   "cell_type": "code",
   "execution_count": 12,
   "id": "da1deb4f",
   "metadata": {},
   "outputs": [
    {
     "name": "stdout",
     "output_type": "stream",
     "text": [
      "Gradient Boosting Machine: Combo Models, Handgrip Strength (Arms)\n",
      "Best Parameters: {'learning_rate': 0.01, 'max_depth': 3, 'n_estimators': 300}\n",
      "\n",
      "Train set metrics:\n",
      "MSE: 0.2845395340312267\n",
      "R-squared: 0.7249359764785855\n",
      "\n",
      "Test set metrics:\n",
      "MSE: 0.48769533825248285\n",
      "R-squared: 0.48944739267009385 \n",
      "\n",
      "COMB1PF7A       0.009982\n",
      "COMB4DALM       0.023756\n",
      "COMB4DABM       0.132119\n",
      "COMB4DAFM       0.025766\n",
      "COMB1PRSEX      0.473516\n",
      "COMB1PRAGE      0.034746\n",
      "COMB4P1A        0.088712\n",
      "COMB4DLR3MD     0.041250\n",
      "COMB4IMECF      0.005664\n",
      "COMB4IMICF      0.021694\n",
      "COMB4IMFFM      0.005220\n",
      "COMB4DTBFM      0.024941\n",
      "COMB4IRES0      0.002062\n",
      "COMB4IRESINF    0.006514\n",
      "COMB4IRESEXC    0.001234\n",
      "COMB4IRESINC    0.044248\n",
      "COMB4IFCHAR     0.019590\n",
      "COMB4IMCAP      0.038986\n",
      "dtype: float64\n",
      "White train frequency:  251\n",
      "White test frequency:  62 \n",
      "\n",
      "Black train frequency:  79\n",
      "Black test frequency:  21\n"
     ]
    }
   ],
   "source": [
    "#COMBO: Handgrip Strength (ARMS)\n",
    "\n",
    "print(\"Gradient Boosting Machine: Combo Models, Handgrip Strength (Arms)\")\n",
    "train_test_gradient_boosting(df, ['COMB1PF7A', 'COMB4DALM', 'COMB4DABM', 'COMB4DAFM', 'COMB1PRSEX', 'COMB1PRAGE', 'COMB4P1A', 'COMB4DLR3MD', 'COMB4IMECF', 'COMB4IMICF', 'COMB4IMFFM', 'COMB4DTBFM', 'COMB4IRES0', 'COMB4IRESINF', 'COMB4IRESEXC', 'COMB4IRESINC', 'COMB4IFCHAR', 'COMB4IMCAP'], 'tCOMB4IMaxGrip')"
   ]
  },
  {
   "cell_type": "code",
   "execution_count": 13,
   "id": "e1962b78",
   "metadata": {},
   "outputs": [
    {
     "name": "stdout",
     "output_type": "stream",
     "text": [
      "Gradient Boosting Machine: Combo Models, Handgrip Strength (TB)\n",
      "Best Parameters: {'learning_rate': 0.01, 'max_depth': 3, 'n_estimators': 300}\n",
      "\n",
      "Train set metrics:\n",
      "MSE: 0.2772666632404922\n",
      "R-squared: 0.7319666518786208\n",
      "\n",
      "Test set metrics:\n",
      "MSE: 0.505791941810336\n",
      "R-squared: 0.4705026388338487 \n",
      "\n",
      "COMB1PF7A        0.004351\n",
      "COMB4IALM        0.026819\n",
      "COMB4DTBBM       0.009183\n",
      "COMB4DTBFM       0.020601\n",
      "COMB1PRSEX       0.556861\n",
      "COMB1PRAGE       0.038465\n",
      "COMB4P1A         0.103196\n",
      "COMB4DLR3MD      0.030863\n",
      "COMB4DLFNMD      0.018129\n",
      "COMB4DLSL14MD    0.015006\n",
      "COMB4IMECF       0.012293\n",
      "COMB4IMICF       0.019550\n",
      "COMB4IMFFM       0.005903\n",
      "COMB4DTBFM       0.017735\n",
      "COMB4IRES0       0.001922\n",
      "COMB4IRESINF     0.007872\n",
      "COMB4IRESEXC     0.002141\n",
      "COMB4IRESINC     0.042218\n",
      "COMB4IFCHAR      0.029950\n",
      "COMB4IMCAP       0.036942\n",
      "dtype: float64\n",
      "White train frequency:  251\n",
      "White test frequency:  62 \n",
      "\n",
      "Black train frequency:  79\n",
      "Black test frequency:  21\n"
     ]
    }
   ],
   "source": [
    "#COMBO: Handgrip Strength (TOTAL BODY)\n",
    "\n",
    "print(\"Gradient Boosting Machine: Combo Models, Handgrip Strength (TB)\")\n",
    "train_test_gradient_boosting(df, ['COMB1PF7A', 'COMB4IALM', 'COMB4DTBBM', 'COMB4DTBFM', 'COMB1PRSEX', 'COMB1PRAGE', 'COMB4P1A', 'COMB4DLR3MD', 'COMB4DLFNMD', 'COMB4DLSL14MD', 'COMB4IMECF', 'COMB4IMICF','COMB4IMFFM', 'COMB4DTBFM', 'COMB4IRES0', 'COMB4IRESINF', 'COMB4IRESEXC', 'COMB4IRESINC', 'COMB4IFCHAR', 'COMB4IMCAP'], 'tCOMB4IMaxGrip')"
   ]
  },
  {
   "cell_type": "code",
   "execution_count": 14,
   "id": "a6c21603",
   "metadata": {},
   "outputs": [
    {
     "name": "stdout",
     "output_type": "stream",
     "text": [
      "Gradient Boosting Machine: Combo Models, Jump Power (Legs)\n",
      "Best Parameters: {'learning_rate': 0.05, 'max_depth': 3, 'n_estimators': 100}\n",
      "\n",
      "Train set metrics:\n",
      "MSE: 0.008955374607383744\n",
      "R-squared: 0.9304311699791111\n",
      "\n",
      "Test set metrics:\n",
      "MSE: 0.036073281939255804\n",
      "R-squared: 0.7354374719616583 \n",
      "\n",
      "COMB1PF7A       0.000000\n",
      "COMB4ILLM       0.161258\n",
      "COMB4DLBM       0.128189\n",
      "COMB4DLFM       0.008959\n",
      "COMB1PRSEX      0.010048\n",
      "COMB1PRAGE      0.201712\n",
      "COMB4P1A        0.052146\n",
      "COMB4DLFNMD     0.008060\n",
      "COMB4IMECF      0.001404\n",
      "COMB4IMICF      0.029147\n",
      "COMB4IMFFM      0.003189\n",
      "COMB4DTBFM      0.015516\n",
      "COMB4IRES0      0.010090\n",
      "COMB4IRESINF    0.005799\n",
      "COMB4IRESEXC    0.011657\n",
      "COMB4IRESINC    0.050516\n",
      "COMB4IFCHAR     0.089367\n",
      "COMB4IMCAP      0.212942\n",
      "dtype: float64\n",
      "White train frequency:  251\n",
      "White test frequency:  62 \n",
      "\n",
      "Black train frequency:  79\n",
      "Black test frequency:  21\n"
     ]
    }
   ],
   "source": [
    "#COMBO: Jump Power (LEGS)\n",
    "\n",
    "print(\"Gradient Boosting Machine: Combo Models, Jump Power (Legs)\")\n",
    "train_test_gradient_boosting(df, ['COMB1PF7A', 'COMB4ILLM', 'COMB4DLBM', 'COMB4DLFM', 'COMB1PRSEX', 'COMB1PRAGE', 'COMB4P1A', 'COMB4DLFNMD', 'COMB4IMECF', 'COMB4IMICF', 'COMB4IMFFM', 'COMB4DTBFM', 'COMB4IRES0', 'COMB4IRESINF', 'COMB4IRESEXC', 'COMB4IRESINC', 'COMB4IFCHAR', 'COMB4IMCAP'], 'tjumppownums')"
   ]
  },
  {
   "cell_type": "code",
   "execution_count": 15,
   "id": "b909450b",
   "metadata": {},
   "outputs": [
    {
     "name": "stdout",
     "output_type": "stream",
     "text": [
      "RACE INCLUDED GBM: Combo Models, Jump Power (TB)\n",
      "Best Parameters: {'learning_rate': 0.1, 'max_depth': 3, 'n_estimators': 100}\n",
      "\n",
      "Train set metrics:\n",
      "MSE: 0.004426879466507499\n",
      "R-squared: 0.9656102800127982\n",
      "\n",
      "Test set metrics:\n",
      "MSE: 0.035703682599807926\n",
      "R-squared: 0.7381481245651638 \n",
      "\n",
      "COMB1PF7A        0.000137\n",
      "COMB4IALM        0.357451\n",
      "COMB4DTBBM       0.036640\n",
      "COMB4DTBFM       0.008823\n",
      "COMB1PRSEX       0.002345\n",
      "COMB1PRAGE       0.184958\n",
      "COMB4P1A         0.044711\n",
      "COMB4DLR3MD      0.015151\n",
      "COMB4DLFNMD      0.008895\n",
      "COMB4DLSL14MD    0.014610\n",
      "COMB4IMECF       0.001805\n",
      "COMB4IMICF       0.039013\n",
      "COMB4IMFFM       0.001325\n",
      "COMB4DTBFM       0.008684\n",
      "COMB4IRES0       0.027316\n",
      "COMB4IRESINF     0.003198\n",
      "COMB4IRESEXC     0.020225\n",
      "COMB4IRESINC     0.058927\n",
      "COMB4IFCHAR      0.062526\n",
      "COMB4IMCAP       0.103260\n",
      "dtype: float64\n",
      "White train frequency:  251\n",
      "White test frequency:  62 \n",
      "\n",
      "Black train frequency:  79\n",
      "Black test frequency:  21\n"
     ]
    }
   ],
   "source": [
    "#COMBO: Jump Power (TOTAL BODY)\n",
    "\n",
    "print(\"RACE INCLUDED GBM: Combo Models, Jump Power (TB)\")\n",
    "train_test_gradient_boosting(df, ['COMB1PF7A', 'COMB4IALM', 'COMB4DTBBM', 'COMB4DTBFM', 'COMB1PRSEX', 'COMB1PRAGE', 'COMB4P1A', 'COMB4DLR3MD', 'COMB4DLFNMD', 'COMB4DLSL14MD', 'COMB4IMECF', 'COMB4IMICF','COMB4IMFFM', 'COMB4DTBFM', 'COMB4IRES0', 'COMB4IRESINF', 'COMB4IRESEXC', 'COMB4IRESINC', 'COMB4IFCHAR', 'COMB4IMCAP'], 'tjumppownums')"
   ]
  }
 ],
 "metadata": {
  "kernelspec": {
   "display_name": "Python 3 (ipykernel)",
   "language": "python",
   "name": "python3"
  },
  "language_info": {
   "codemirror_mode": {
    "name": "ipython",
    "version": 3
   },
   "file_extension": ".py",
   "mimetype": "text/x-python",
   "name": "python",
   "nbconvert_exporter": "python",
   "pygments_lexer": "ipython3",
   "version": "3.10.8"
  }
 },
 "nbformat": 4,
 "nbformat_minor": 5
}
